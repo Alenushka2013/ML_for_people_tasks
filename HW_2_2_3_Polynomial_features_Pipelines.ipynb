{
  "nbformat": 4,
  "nbformat_minor": 0,
  "metadata": {
    "colab": {
      "provenance": [],
      "include_colab_link": true
    },
    "kernelspec": {
      "name": "python3",
      "display_name": "Python 3"
    },
    "language_info": {
      "name": "python"
    }
  },
  "cells": [
    {
      "cell_type": "markdown",
      "metadata": {
        "id": "view-in-github",
        "colab_type": "text"
      },
      "source": [
        "<a href=\"https://colab.research.google.com/github/Alenushka2013/ML_for_people_tasks/blob/main/HW_2_2_3_Polynomial_features_Pipelines.ipynb\" target=\"_parent\"><img src=\"https://colab.research.google.com/assets/colab-badge.svg\" alt=\"Open In Colab\"/></a>"
      ]
    },
    {
      "cell_type": "markdown",
      "source": [
        "В цьому домашньому завданні ми проведемо додаткові експерименти для рішення задачі бінарної класифікації і створимо ваш новий submission на змагання на Kaggle.\n",
        "\n",
        "-----------\n",
        "\n",
        "\n",
        "**Завдання 0**. Завантажте дані `train.csv`, `test.csv`, `sample_submission.csv` зі змагання на Kaggle - шукайте посилання в уроці [Запрошення до участі у Kaggle-змаганні.](https://data-loves.kwiga.com/courses/machine-learning-dlia-liudei/domashnie-zavdannia-zmagannia-z-kaggle)  Для завантаження потрібно долучитись до змагання (натиснути кнопку \"Join\").\n",
        "\n",
        "\n",
        "**Завдання 1**. **Збираємо весь код з попереднього ДЗ в одному місці.** В лекційному ноутбуці `Логістична регресія з ScikitLearn. Повна ML задача.ipynb` ми познайомились з поняттям пайплайнів, а також я показала, як компактно виглядає рішення МЛ задачі, якщо ми зберемо весь код разом.\n",
        "\n",
        "Оскільки ми далі будемо робити експерименти, які включають ті самі етапи попередньої обробки, але інше моделювання - буде зручно мати весь код компактно і під рукою. Тому зараз ми займемось збором коду до купи :) Після цього завдання для подальших експериментів ви можете перенести частини розвʼязку взагалі в окремий `.py` файл, аби було зручно імпортувати функції.\n",
        "\n",
        "Зі свого рішення в попередньому домашньому завданні (`Логістична регресія з scikit learn.ipynb`) зберіть усі кроки розвʼязку задачі разом з використанням `sklearn.Pipeline` за прикладом з лекції.\n",
        "\n",
        "Ваш код нижче має містити\n",
        "1. Читання даних з файлу (поза пайплайном).\n",
        "2. Розбиття на тренувальний і валідаційний набори, де валідаційний містить 20% даних (поза пайплайном).\n",
        "3. Виділення категоріальних і числових колонок (поза пайплайном).\n",
        "4. Підготовку категоріальних і числових колонок (частина пайплайну). В прикладі в лекції ми оформлювали обробку числових і категоріальних колонок в окремі трансформери `numeric_transformer`, `categorical_cols`. Рекоемндую зробити саме так, так потім зручніше вносити зміни :)\n",
        "5. Тренування лог регресії (частина пайплайну).\n",
        "6. Запуск пайплайну на тренування на трен. даних (поза пайплайном).\n",
        "7. Запуск пайплайну на передбачення на трен і вал. даних і вимір метрик якості ROC-AUC + вивдення Confusion Matrix (поза пайплайном).\n",
        "8. Збереження моделі в формат joblib (поза пайплайном).\n",
        "\n",
        "Ви це все вже зробили в попереднтьому ДЗ! Тож, тут просто заадча все зібрати разом.\n",
        "\n",
        "Нижче я додала підказки, що покроково ви маєте зробити. Якщо ви почуваєтесь впевнено, можете видалити ці підказки і реалізувати все самостійно, або ж - просто заповнити пропуски.\n",
        "\n",
        "Завдання оцінюється в 10 балів. Головний результат - аби код в фіналі був робочий. Бо за не робочий нам гроші ніхто не заплатить :)"
      ],
      "metadata": {
        "id": "gJ2A6t3mdEed"
      }
    },
    {
      "cell_type": "code",
      "source": [
        "import pandas as pd\n",
        "import numpy as np\n",
        "#from sklearn.impute import SimpleImputer\n",
        "from sklearn.preprocessing import MinMaxScaler, StandardScaler, OneHotEncoder\n",
        "from sklearn.compose import ColumnTransformer\n",
        "from sklearn.pipeline import Pipeline\n",
        "from sklearn.model_selection import train_test_split\n",
        "from sklearn.linear_model import LogisticRegression, LinearRegression\n",
        "from sklearn.metrics import f1_score, confusion_matrix, roc_auc_score, classification_report, root_mean_squared_error\n",
        "import matplotlib.pyplot as plt\n",
        "import seaborn as sns\n",
        "import joblib"
      ],
      "metadata": {
        "id": "d8tJaDK9vhHY"
      },
      "execution_count": null,
      "outputs": []
    },
    {
      "cell_type": "code",
      "source": [
        "raw_df = pd.read_csv('https://raw.githubusercontent.com/Alenushka2013/Coursera/refs/heads/master/Datasets/bank-customer-churn-prediction.csv', index_col=0)\n",
        "\n",
        "train_df, val_df = train_test_split(raw_df, test_size=0.2, random_state=42, stratify=raw_df['Exited'])\n",
        "\n",
        "# Створюємо трен. і вал. набори\n",
        "input_cols = list(train_df.columns)[1:-1]\n",
        "target_col = 'Exited'\n",
        "train_inputs, train_targets = train_df[input_cols], train_df[target_col]\n",
        "val_inputs, val_targets = val_df[input_cols], val_df[target_col]\n",
        "\n",
        "# Виявляємо числові і категоріальні колонки\n",
        "numeric_cols = train_inputs.select_dtypes(include=np.number).columns.tolist()[:-1]\n",
        "categorical_cols = train_inputs.select_dtypes(include='object').columns.tolist()\n",
        "\n",
        "# Створюємо трансформери для числових і категоріальних колонок\n",
        "numeric_transformer = Pipeline(steps=[\n",
        "    ('scaler', MinMaxScaler())\n",
        "])\n",
        "\n",
        "categorical_transformer = Pipeline(steps=[\n",
        "    ('onehot', OneHotEncoder(sparse_output=False, handle_unknown='ignore'))\n",
        "])\n",
        "\n",
        "# Комбінуємо трансформери для різних типів колонок в один препроцесор\n",
        "preprocessor = ColumnTransformer(\n",
        "    transformers=[\n",
        "        ('num', numeric_transformer, numeric_cols),\n",
        "        ('cat', categorical_transformer, categorical_cols)\n",
        "    ])\n",
        "\n",
        "# Стоврюємо пайплайн, який спочатку запускає препроцесинг, потім тренуєм модель\n",
        "model_pipeline = Pipeline(steps=[\n",
        "    ('preprocessor', preprocessor),\n",
        "    ('classifier', LogisticRegression(solver='liblinear'))\n",
        "])\n",
        "\n",
        "# Тренуємо пайплайн\n",
        "model_pipeline.fit(train_inputs, train_targets)\n",
        "\n",
        "# Функція, щоб передбачати і рахувати метрики\n",
        "def predict_and_plot(model_pipeline, inputs, targets, name=''):\n",
        "    preds = model_pipeline.predict(inputs)\n",
        "    roc_auc = roc_auc_score(preds, targets)\n",
        "    print(f\"Area under ROC score on {name} dataset: {roc_auc:.2f}\")\n",
        "    confusion_matrix_ = confusion_matrix(targets, preds, normalize='true')\n",
        "    plt.figure()\n",
        "    sns.heatmap(confusion_matrix_, annot=True, cmap='Blues')\n",
        "    plt.xlabel('Prediction')\n",
        "    plt.ylabel('Target')\n",
        "    plt.title('{} Confusion Matrix'.format(name))\n",
        "    plt.show()\n",
        "    return preds\n",
        "\n",
        "# Оцінюємо модель на трен і вал даних\n",
        "train_preds = predict_and_plot(model_pipeline, train_inputs, train_targets, 'Training')\n",
        "val_preds = predict_and_plot(model_pipeline, val_inputs, val_targets, 'Validation')\n",
        "\n",
        "# Звіт про класифікацію\n",
        "print(classification_report(val_targets, model_pipeline.predict(val_inputs)))\n",
        "\n",
        "# Зберігаємо модель для подальшого використання\n",
        "joblib.dump(model_pipeline, 'bank-customer_pipeline.joblib')\n"
      ],
      "metadata": {
        "id": "0LZialdo4IPZ",
        "colab": {
          "base_uri": "https://localhost:8080/",
          "height": 1000
        },
        "outputId": "2b828f09-7152-4b14-d796-0568ea5114a7"
      },
      "execution_count": null,
      "outputs": [
        {
          "output_type": "stream",
          "name": "stdout",
          "text": [
            "Area under ROC score on Training dataset: 0.85\n"
          ]
        },
        {
          "output_type": "display_data",
          "data": {
            "text/plain": [
              "<Figure size 640x480 with 2 Axes>"
            ],
            "image/png": "[encoded data removed]"
          },
          "metadata": {}
        },
        {
          "output_type": "stream",
          "name": "stdout",
          "text": [
            "Area under ROC score on Validation dataset: 0.81\n"
          ]
        },
        {
          "output_type": "display_data",
          "data": {
            "text/plain": [
              "<Figure size 640x480 with 2 Axes>"
            ],
            "image/png": "[encoded data removed]"
          },
          "metadata": {}
        },
        {
          "output_type": "stream",
          "name": "stdout",
          "text": [
            "              precision    recall  f1-score   support\n",
            "\n",
            "         0.0       0.89      0.95      0.92      2390\n",
            "         1.0       0.74      0.56      0.64       610\n",
            "\n",
            "    accuracy                           0.87      3000\n",
            "   macro avg       0.81      0.76      0.78      3000\n",
            "weighted avg       0.86      0.87      0.86      3000\n",
            "\n"
          ]
        },
        {
          "output_type": "execute_result",
          "data": {
            "text/plain": [
              "['bank-customer_pipeline.joblib']"
            ]
          },
          "metadata": {},
          "execution_count": 2
        }
      ]
    },
    {
      "cell_type": "markdown",
      "source": [
        "**Завдання 2**. Такс, у нас з вами є вже готовий пайплайн. Давайте проведемо нові експерименти.\n",
        "\n",
        "  Додайте в попередню обробку числових колонок генерацію polinomal features до степені 2 включно. Для цього створіть новий препроцесор і створіть новий пайплайн.\n",
        "\n",
        "  Запустіть пайплайн на тренування і виведіть метрики для тренувального і валідаційного набору. Напишіть, як вам модель? Чи спостерігається в цій моделі overfit чи underfit? Чи ця модель добре генералізує?"
      ],
      "metadata": {
        "id": "PXrc2NCa5lAK"
      }
    },
    {
      "cell_type": "code",
      "source": [
        "import operator\n",
        "from sklearn.preprocessing import PolynomialFeatures\n",
        "\n",
        "# Створюємо трансформери для числових і категоріальних колонок колонок\n",
        "numeric_transformer = Pipeline(steps=[\n",
        "    ('scaler', MinMaxScaler()),\n",
        "    ('polynomial_features', PolynomialFeatures(degree=2))\n",
        "])\n",
        "\n",
        "categorical_transformer = Pipeline(steps=[\n",
        "    ('onehot', OneHotEncoder(sparse_output=False, handle_unknown='ignore'))\n",
        "])\n",
        "\n",
        "# Комбінуємо трансформери для різних типів колонок в один препроцесор\n",
        "preprocessor = ColumnTransformer(\n",
        "    transformers=[\n",
        "        ('num', numeric_transformer, numeric_cols),\n",
        "        ('cat', categorical_transformer, categorical_cols)\n",
        "    ])\n",
        "\n",
        "# Стоврюємо пайплайн, який спочатку запускає препроцесинг, потім тренуєм модель\n",
        "model_pipeline_pol2 = Pipeline(steps=[\n",
        "    ('preprocessor', preprocessor),\n",
        "    ('classifier', LogisticRegression(solver='liblinear'))\n",
        "])\n",
        "\n",
        "# Тренуємо пайплайн\n",
        "model_pipeline_pol2.fit(train_inputs, train_targets)\n",
        "\n",
        "# Оцінюємо модель на трен і вал даних\n",
        "train_preds = predict_and_plot(model_pipeline_pol2, train_inputs, train_targets, 'Training')\n",
        "val_preds = predict_and_plot(model_pipeline_pol2, val_inputs, val_targets, 'Validation')\n",
        "\n",
        "# Звіт про класифікацію\n",
        "print(classification_report(val_targets, model_pipeline_pol2.predict(val_inputs)))\n",
        "\n",
        "# Зберігаємо модель для подальшого використання\n",
        "joblib.dump(model_pipeline_pol2, 'bank-customer_pipeline_pol2.joblib')"
      ],
      "metadata": {
        "id": "TjcmWMTOOjJ1",
        "colab": {
          "base_uri": "https://localhost:8080/",
          "height": 1000
        },
        "outputId": "7e3df56e-089c-4950-eb91-5688e8916e81"
      },
      "execution_count": null,
      "outputs": [
        {
          "output_type": "stream",
          "name": "stdout",
          "text": [
            "Area under ROC score on Training dataset: 0.87\n"
          ]
        },
        {
          "output_type": "display_data",
          "data": {
            "text/plain": [
              "<Figure size 640x480 with 2 Axes>"
            ],
            "image/png": "[encoded data removed]"
          },
          "metadata": {}
        },
        {
          "output_type": "stream",
          "name": "stdout",
          "text": [
            "Area under ROC score on Validation dataset: 0.85\n"
          ]
        },
        {
          "output_type": "display_data",
          "data": {
            "text/plain": [
              "<Figure size 640x480 with 2 Axes>"
            ],
            "image/png": "[encoded data removed]"
          },
          "metadata": {}
        },
        {
          "output_type": "stream",
          "name": "stdout",
          "text": [
            "              precision    recall  f1-score   support\n",
            "\n",
            "         0.0       0.91      0.96      0.93      2390\n",
            "         1.0       0.78      0.62      0.69       610\n",
            "\n",
            "    accuracy                           0.89      3000\n",
            "   macro avg       0.85      0.79      0.81      3000\n",
            "weighted avg       0.88      0.89      0.88      3000\n",
            "\n"
          ]
        },
        {
          "output_type": "execute_result",
          "data": {
            "text/plain": [
              "['bank-customer_pipeline_pol2.joblib']"
            ]
          },
          "metadata": {},
          "execution_count": 3
        }
      ]
    },
    {
      "cell_type": "markdown",
      "source": [
        "**Завдання 3**. Тепер давайте створимо ще новий пайплайн, тільки тепер поліноміальні ознаки згенеруємо до степені 4. Зробіть висновок про якість моделі. Якщо вам подобається резульат якоїсь з моделей в цьому ДЗ - рекомендую зробити submission в змаганні."
      ],
      "metadata": {
        "id": "tkmEmHaP8Pen"
      }
    },
    {
      "cell_type": "code",
      "source": [
        "# Створюємо трансформери для числових колонок\n",
        "numeric_transformer = Pipeline(steps=[\n",
        "    ('scaler', MinMaxScaler()),\n",
        "    ('polynomial_features', PolynomialFeatures(degree=4))\n",
        "])\n",
        "\n",
        "# Комбінуємо трансформери для різних типів колонок в один препроцесор\n",
        "preprocessor = ColumnTransformer(\n",
        "    transformers=[\n",
        "        ('num', numeric_transformer, numeric_cols),\n",
        "        ('cat', categorical_transformer, categorical_cols)\n",
        "    ])\n",
        "\n",
        "# Стоврюємо пайплайн, який спочатку запускає препроцесинг, потім тренуєм модель\n",
        "model_pipeline_pol4 = Pipeline(steps=[\n",
        "    ('preprocessor', preprocessor),\n",
        "    ('classifier', LogisticRegression(solver='liblinear'))\n",
        "])\n",
        "\n",
        "# Тренуємо пайплайн\n",
        "model_pipeline_pol4.fit(train_inputs, train_targets)\n",
        "\n",
        "# Оцінюємо модель на трен і вал даних\n",
        "train_preds = predict_and_plot(model_pipeline_pol4, train_inputs, train_targets, 'Training')\n",
        "val_preds = predict_and_plot(model_pipeline_pol4, val_inputs, val_targets, 'Validation')\n",
        "\n",
        "# Звіт про класифікацію\n",
        "print(classification_report(val_targets, model_pipeline_pol4.predict(val_inputs)))\n",
        "\n",
        "# Зберігаємо модель для подальшого використання\n",
        "joblib.dump(model_pipeline_pol4, 'bank-customer_pipeline_pol4.joblib')"
      ],
      "metadata": {
        "id": "OsT-MDWuOkDY",
        "colab": {
          "base_uri": "https://localhost:8080/",
          "height": 1000
        },
        "outputId": "e075b8d1-832d-4343-faf0-78364f66251f"
      },
      "execution_count": null,
      "outputs": [
        {
          "output_type": "stream",
          "name": "stdout",
          "text": [
            "Area under ROC score on Training dataset: 0.88\n"
          ]
        },
        {
          "output_type": "display_data",
          "data": {
            "text/plain": [
              "<Figure size 640x480 with 2 Axes>"
            ],
            "image/png": "[encoded data removed]"
          },
          "metadata": {}
        },
        {
          "output_type": "stream",
          "name": "stdout",
          "text": [
            "Area under ROC score on Validation dataset: 0.86\n"
          ]
        },
        {
          "output_type": "display_data",
          "data": {
            "text/plain": [
              "<Figure size 640x480 with 2 Axes>"
            ],
            "image/png": "[encoded data removed]"
          },
          "metadata": {}
        },
        {
          "output_type": "stream",
          "name": "stdout",
          "text": [
            "              precision    recall  f1-score   support\n",
            "\n",
            "         0.0       0.92      0.96      0.94      2390\n",
            "         1.0       0.80      0.66      0.72       610\n",
            "\n",
            "    accuracy                           0.90      3000\n",
            "   macro avg       0.86      0.81      0.83      3000\n",
            "weighted avg       0.89      0.90      0.89      3000\n",
            "\n"
          ]
        },
        {
          "output_type": "execute_result",
          "data": {
            "text/plain": [
              "['bank-customer_pipeline_pol4.joblib']"
            ]
          },
          "metadata": {},
          "execution_count": 4
        }
      ]
    },
    {
      "cell_type": "markdown",
      "source": [
        "**Завдання 4. Перенавчання і регуляризація**.\n",
        "\n",
        "  Скачайте набір даних `regression_data.csv`. Звичайте набір даних з `regression_data.csv`, розбийте на train і test (в тест 20%) і натренуйте модель лінійної регресії з масштабуванням числових ознак і поліноміальними ознаками до степені **5 включно**.\n",
        "\n",
        "  Виміряйте якість прогностичної моделі і зробіть висновок, чи модель хороша, чи вона добре генералізує?\n"
      ],
      "metadata": {
        "id": "ozN2ONZGCBS6"
      }
    },
    {
      "cell_type": "code",
      "source": [
        "regression_data = pd.read_csv('/content/regression_data.csv')\n",
        "regression_data.head()"
      ],
      "metadata": {
        "id": "xbl0jQ3WOlgn",
        "colab": {
          "base_uri": "https://localhost:8080/",
          "height": 206
        },
        "outputId": "99570ff1-1b46-4c84-cd36-563cc152cf53"
      },
      "execution_count": null,
      "outputs": [
        {
          "output_type": "execute_result",
          "data": {
            "text/plain": [
              "   feature_1  feature_2  feature_3  feature_4  feature_5     target\n",
              "0  -0.190339  -1.382800  -0.875618   0.538910  -1.037246  28.938854\n",
              "1  -0.321386  -0.563725   0.412931  -0.147057  -0.825497  -7.664581\n",
              "2   2.122156  -1.519370   1.032465  -1.260884   0.917862 -63.845482\n",
              "3  -1.380101  -0.055548  -1.703382   0.074095   1.628616   4.076259\n",
              "4  -0.072829  -1.514847  -0.846794   0.714000   0.473238  34.879013"
            ],
            "text/html": [
              "\n",
              "  <div id=\"df-82e11345-64db-4687-971b-69dec958483e\" class=\"colab-df-container\">\n",
              "    <div>\n",
              "<style scoped>\n",
              "    .dataframe tbody tr th:only-of-type {\n",
              "        vertical-align: middle;\n",
              "    }\n",
              "\n",
              "    .dataframe tbody tr th {\n",
              "        vertical-align: top;\n",
              "    }\n",
              "\n",
              "    .dataframe thead th {\n",
              "        text-align: right;\n",
              "    }\n",
              "</style>\n",
              "<table border=\"1\" class=\"dataframe\">\n",
              "  <thead>\n",
              "    <tr style=\"text-align: right;\">\n",
              "      <th></th>\n",
              "      <th>feature_1</th>\n",
              "      <th>feature_2</th>\n",
              "      <th>feature_3</th>\n",
              "      <th>feature_4</th>\n",
              "      <th>feature_5</th>\n",
              "      <th>target</th>\n",
              "    </tr>\n",
              "  </thead>\n",
              "  <tbody>\n",
              "    <tr>\n",
              "      <th>0</th>\n",
              "      <td>-0.190339</td>\n",
              "      <td>-1.382800</td>\n",
              "      <td>-0.875618</td>\n",
              "      <td>0.538910</td>\n",
              "      <td>-1.037246</td>\n",
              "      <td>28.938854</td>\n",
              "    </tr>\n",
              "    <tr>\n",
              "      <th>1</th>\n",
              "      <td>-0.321386</td>\n",
              "      <td>-0.563725</td>\n",
              "      <td>0.412931</td>\n",
              "      <td>-0.147057</td>\n",
              "      <td>-0.825497</td>\n",
              "      <td>-7.664581</td>\n",
              "    </tr>\n",
              "    <tr>\n",
              "      <th>2</th>\n",
              "      <td>2.122156</td>\n",
              "      <td>-1.519370</td>\n",
              "      <td>1.032465</td>\n",
              "      <td>-1.260884</td>\n",
              "      <td>0.917862</td>\n",
              "      <td>-63.845482</td>\n",
              "    </tr>\n",
              "    <tr>\n",
              "      <th>3</th>\n",
              "      <td>-1.380101</td>\n",
              "      <td>-0.055548</td>\n",
              "      <td>-1.703382</td>\n",
              "      <td>0.074095</td>\n",
              "      <td>1.628616</td>\n",
              "      <td>4.076259</td>\n",
              "    </tr>\n",
              "    <tr>\n",
              "      <th>4</th>\n",
              "      <td>-0.072829</td>\n",
              "      <td>-1.514847</td>\n",
              "      <td>-0.846794</td>\n",
              "      <td>0.714000</td>\n",
              "      <td>0.473238</td>\n",
              "      <td>34.879013</td>\n",
              "    </tr>\n",
              "  </tbody>\n",
              "</table>\n",
              "</div>\n",
              "    <div class=\"colab-df-buttons\">\n",
              "\n",
              "  <div class=\"colab-df-container\">\n",
              "    <button class=\"colab-df-convert\" onclick=\"convertToInteractive('df-82e11345-64db-4687-971b-69dec958483e')\"\n",
              "            title=\"Convert this dataframe to an interactive table.\"\n",
              "            style=\"display:none;\">\n",
              "\n",
              "  <svg xmlns=\"http://www.w3.org/2000/svg\" height=\"24px\" viewBox=\"0 -960 960 960\">\n",
              "    <path d=\"M120-120v-720h720v720H120Zm60-500h600v-160H180v160Zm220 220h160v-160H400v160Zm0 220h160v-160H400v160ZM180-400h160v-160H180v160Zm440 0h160v-160H620v160ZM180-180h160v-160H180v160Zm440 0h160v-160H620v160Z\"/>\n",
              "  </svg>\n",
              "    </button>\n",
              "\n",
              "  <style>\n",
              "    .colab-df-container {\n",
              "      display:flex;\n",
              "      gap: 12px;\n",
              "    }\n",
              "\n",
              "    .colab-df-convert {\n",
              "      background-color: #E8F0FE;\n",
              "      border: none;\n",
              "      border-radius: 50%;\n",
              "      cursor: pointer;\n",
              "      display: none;\n",
              "      fill: #1967D2;\n",
              "      height: 32px;\n",
              "      padding: 0 0 0 0;\n",
              "      width: 32px;\n",
              "    }\n",
              "\n",
              "    .colab-df-convert:hover {\n",
              "      background-color: #E2EBFA;\n",
              "      box-shadow: 0px 1px 2px rgba(60, 64, 67, 0.3), 0px 1px 3px 1px rgba(60, 64, 67, 0.15);\n",
              "      fill: #174EA6;\n",
              "    }\n",
              "\n",
              "    .colab-df-buttons div {\n",
              "      margin-bottom: 4px;\n",
              "    }\n",
              "\n",
              "    [theme=dark] .colab-df-convert {\n",
              "      background-color: #3B4455;\n",
              "      fill: #D2E3FC;\n",
              "    }\n",
              "\n",
              "    [theme=dark] .colab-df-convert:hover {\n",
              "      background-color: #434B5C;\n",
              "      box-shadow: 0px 1px 3px 1px rgba(0, 0, 0, 0.15);\n",
              "      filter: drop-shadow(0px 1px 2px rgba(0, 0, 0, 0.3));\n",
              "      fill: #FFFFFF;\n",
              "    }\n",
              "  </style>\n",
              "\n",
              "    <script>\n",
              "      const buttonEl =\n",
              "        document.querySelector('#df-82e11345-64db-4687-971b-69dec958483e button.colab-df-convert');\n",
              "      buttonEl.style.display =\n",
              "        google.colab.kernel.accessAllowed ? 'block' : 'none';\n",
              "\n",
              "      async function convertToInteractive(key) {\n",
              "        const element = document.querySelector('#df-82e11345-64db-4687-971b-69dec958483e');\n",
              "        const dataTable =\n",
              "          await google.colab.kernel.invokeFunction('convertToInteractive',\n",
              "                                                    [key], {});\n",
              "        if (!dataTable) return;\n",
              "\n",
              "        const docLinkHtml = 'Like what you see? Visit the ' +\n",
              "          '<a target=\"_blank\" href=https://colab.research.google.com/notebooks/data_table.ipynb>data table notebook</a>'\n",
              "          + ' to learn more about interactive tables.';\n",
              "        element.innerHTML = '';\n",
              "        dataTable['output_type'] = 'display_data';\n",
              "        await google.colab.output.renderOutput(dataTable, element);\n",
              "        const docLink = document.createElement('div');\n",
              "        docLink.innerHTML = docLinkHtml;\n",
              "        element.appendChild(docLink);\n",
              "      }\n",
              "    </script>\n",
              "  </div>\n",
              "\n",
              "\n",
              "    <div id=\"df-9db50eb6-467e-44f4-9a2d-048e22cb0fbd\">\n",
              "      <button class=\"colab-df-quickchart\" onclick=\"quickchart('df-9db50eb6-467e-44f4-9a2d-048e22cb0fbd')\"\n",
              "                title=\"Suggest charts\"\n",
              "                style=\"display:none;\">\n",
              "\n",
              "<svg xmlns=\"http://www.w3.org/2000/svg\" height=\"24px\"viewBox=\"0 0 24 24\"\n",
              "     width=\"24px\">\n",
              "    <g>\n",
              "        <path d=\"M19 3H5c-1.1 0-2 .9-2 2v14c0 1.1.9 2 2 2h14c1.1 0 2-.9 2-2V5c0-1.1-.9-2-2-2zM9 17H7v-7h2v7zm4 0h-2V7h2v10zm4 0h-2v-4h2v4z\"/>\n",
              "    </g>\n",
              "</svg>\n",
              "      </button>\n",
              "\n",
              "<style>\n",
              "  .colab-df-quickchart {\n",
              "      --bg-color: #E8F0FE;\n",
              "      --fill-color: #1967D2;\n",
              "      --hover-bg-color: #E2EBFA;\n",
              "      --hover-fill-color: #174EA6;\n",
              "      --disabled-fill-color: #AAA;\n",
              "      --disabled-bg-color: #DDD;\n",
              "  }\n",
              "\n",
              "  [theme=dark] .colab-df-quickchart {\n",
              "      --bg-color: #3B4455;\n",
              "      --fill-color: #D2E3FC;\n",
              "      --hover-bg-color: #434B5C;\n",
              "      --hover-fill-color: #FFFFFF;\n",
              "      --disabled-bg-color: #3B4455;\n",
              "      --disabled-fill-color: #666;\n",
              "  }\n",
              "\n",
              "  .colab-df-quickchart {\n",
              "    background-color: var(--bg-color);\n",
              "    border: none;\n",
              "    border-radius: 50%;\n",
              "    cursor: pointer;\n",
              "    display: none;\n",
              "    fill: var(--fill-color);\n",
              "    height: 32px;\n",
              "    padding: 0;\n",
              "    width: 32px;\n",
              "  }\n",
              "\n",
              "  .colab-df-quickchart:hover {\n",
              "    background-color: var(--hover-bg-color);\n",
              "    box-shadow: 0 1px 2px rgba(60, 64, 67, 0.3), 0 1px 3px 1px rgba(60, 64, 67, 0.15);\n",
              "    fill: var(--button-hover-fill-color);\n",
              "  }\n",
              "\n",
              "  .colab-df-quickchart-complete:disabled,\n",
              "  .colab-df-quickchart-complete:disabled:hover {\n",
              "    background-color: var(--disabled-bg-color);\n",
              "    fill: var(--disabled-fill-color);\n",
              "    box-shadow: none;\n",
              "  }\n",
              "\n",
              "  .colab-df-spinner {\n",
              "    border: 2px solid var(--fill-color);\n",
              "    border-color: transparent;\n",
              "    border-bottom-color: var(--fill-color);\n",
              "    animation:\n",
              "      spin 1s steps(1) infinite;\n",
              "  }\n",
              "\n",
              "  @keyframes spin {\n",
              "    0% {\n",
              "      border-color: transparent;\n",
              "      border-bottom-color: var(--fill-color);\n",
              "      border-left-color: var(--fill-color);\n",
              "    }\n",
              "    20% {\n",
              "      border-color: transparent;\n",
              "      border-left-color: var(--fill-color);\n",
              "      border-top-color: var(--fill-color);\n",
              "    }\n",
              "    30% {\n",
              "      border-color: transparent;\n",
              "      border-left-color: var(--fill-color);\n",
              "      border-top-color: var(--fill-color);\n",
              "      border-right-color: var(--fill-color);\n",
              "    }\n",
              "    40% {\n",
              "      border-color: transparent;\n",
              "      border-right-color: var(--fill-color);\n",
              "      border-top-color: var(--fill-color);\n",
              "    }\n",
              "    60% {\n",
              "      border-color: transparent;\n",
              "      border-right-color: var(--fill-color);\n",
              "    }\n",
              "    80% {\n",
              "      border-color: transparent;\n",
              "      border-right-color: var(--fill-color);\n",
              "      border-bottom-color: var(--fill-color);\n",
              "    }\n",
              "    90% {\n",
              "      border-color: transparent;\n",
              "      border-bottom-color: var(--fill-color);\n",
              "    }\n",
              "  }\n",
              "</style>\n",
              "\n",
              "      <script>\n",
              "        async function quickchart(key) {\n",
              "          const quickchartButtonEl =\n",
              "            document.querySelector('#' + key + ' button');\n",
              "          quickchartButtonEl.disabled = true;  // To prevent multiple clicks.\n",
              "          quickchartButtonEl.classList.add('colab-df-spinner');\n",
              "          try {\n",
              "            const charts = await google.colab.kernel.invokeFunction(\n",
              "                'suggestCharts', [key], {});\n",
              "          } catch (error) {\n",
              "            console.error('Error during call to suggestCharts:', error);\n",
              "          }\n",
              "          quickchartButtonEl.classList.remove('colab-df-spinner');\n",
              "          quickchartButtonEl.classList.add('colab-df-quickchart-complete');\n",
              "        }\n",
              "        (() => {\n",
              "          let quickchartButtonEl =\n",
              "            document.querySelector('#df-9db50eb6-467e-44f4-9a2d-048e22cb0fbd button');\n",
              "          quickchartButtonEl.style.display =\n",
              "            google.colab.kernel.accessAllowed ? 'block' : 'none';\n",
              "        })();\n",
              "      </script>\n",
              "    </div>\n",
              "    </div>\n",
              "  </div>\n"
            ],
            "application/vnd.google.colaboratory.intrinsic+json": {
              "type": "dataframe",
              "variable_name": "regression_data",
              "summary": "{\n  \"name\": \"regression_data\",\n  \"rows\": 129,\n  \"fields\": [\n    {\n      \"column\": \"feature_1\",\n      \"properties\": {\n        \"dtype\": \"number\",\n        \"std\": 0.9412144270191443,\n        \"min\": -3.241267340069073,\n        \"max\": 2.122156197012633,\n        \"num_unique_values\": 129,\n        \"samples\": [\n          -1.6074832345612275,\n          -0.1580078985789894,\n          -0.0660797986473165\n        ],\n        \"semantic_type\": \"\",\n        \"description\": \"\"\n      }\n    },\n    {\n      \"column\": \"feature_2\",\n      \"properties\": {\n        \"dtype\": \"number\",\n        \"std\": 1.065887053413386,\n        \"min\": -2.6197451040897444,\n        \"max\": 3.852731490654721,\n        \"num_unique_values\": 129,\n        \"samples\": [\n          0.2598827942484235,\n          -1.0121043752601675,\n          -0.6518361078021592\n        ],\n        \"semantic_type\": \"\",\n        \"description\": \"\"\n      }\n    },\n    {\n      \"column\": \"feature_3\",\n      \"properties\": {\n        \"dtype\": \"number\",\n        \"std\": 0.978557192654923,\n        \"min\": -1.913280244657798,\n        \"max\": 3.0788808084552377,\n        \"num_unique_values\": 129,\n        \"samples\": [\n          0.1846338585323042,\n          -0.42688106994742,\n          -1.211016199762457\n        ],\n        \"semantic_type\": \"\",\n        \"description\": \"\"\n      }\n    },\n    {\n      \"column\": \"feature_4\",\n      \"properties\": {\n        \"dtype\": \"number\",\n        \"std\": 0.9105881535819239,\n        \"min\": -2.211135309007885,\n        \"max\": 2.3146585666735087,\n        \"num_unique_values\": 129,\n        \"samples\": [\n          0.2274599346041294,\n          -1.6924646297148194,\n          0.6385924587773739\n        ],\n        \"semantic_type\": \"\",\n        \"description\": \"\"\n      }\n    },\n    {\n      \"column\": \"feature_5\",\n      \"properties\": {\n        \"dtype\": \"number\",\n        \"std\": 1.0044980686118028,\n        \"min\": -2.301921164735585,\n        \"max\": 2.075400798645439,\n        \"num_unique_values\": 129,\n        \"samples\": [\n          1.307142754282428,\n          1.5295503194606137,\n          -1.66152006226896\n        ],\n        \"semantic_type\": \"\",\n        \"description\": \"\"\n      }\n    },\n    {\n      \"column\": \"target\",\n      \"properties\": {\n        \"dtype\": \"number\",\n        \"std\": 45.46662135515645,\n        \"min\": -111.75381023526477,\n        \"max\": 115.12590740098972,\n        \"num_unique_values\": 129,\n        \"samples\": [\n          11.86363486054443,\n          -84.2273771262452,\n          31.16662131112943\n        ],\n        \"semantic_type\": \"\",\n        \"description\": \"\"\n      }\n    }\n  ]\n}"
            }
          },
          "metadata": {},
          "execution_count": 7
        }
      ]
    },
    {
      "cell_type": "code",
      "source": [
        "regression_data.info()"
      ],
      "metadata": {
        "colab": {
          "base_uri": "https://localhost:8080/"
        },
        "id": "hIIlpCm5bEG7",
        "outputId": "af9d6f1f-5150-4312-edcc-5a3a5b40011c"
      },
      "execution_count": null,
      "outputs": [
        {
          "output_type": "stream",
          "name": "stdout",
          "text": [
            "<class 'pandas.core.frame.DataFrame'>\n",
            "RangeIndex: 129 entries, 0 to 128\n",
            "Data columns (total 6 columns):\n",
            " #   Column     Non-Null Count  Dtype  \n",
            "---  ------     --------------  -----  \n",
            " 0   feature_1  129 non-null    float64\n",
            " 1   feature_2  129 non-null    float64\n",
            " 2   feature_3  129 non-null    float64\n",
            " 3   feature_4  129 non-null    float64\n",
            " 4   feature_5  129 non-null    float64\n",
            " 5   target     129 non-null    float64\n",
            "dtypes: float64(6)\n",
            "memory usage: 6.2 KB\n"
          ]
        }
      ]
    },
    {
      "cell_type": "code",
      "source": [
        "X = regression_data.drop('target',axis=1)\n",
        "y = regression_data['target']\n",
        "X_train, X_test, y_train, y_test = train_test_split(X, y, test_size=0.2, random_state=42)"
      ],
      "metadata": {
        "id": "EEjPgXbSIaFj"
      },
      "execution_count": null,
      "outputs": []
    },
    {
      "cell_type": "code",
      "source": [
        "def train_lin_vs_poly_reg_and_plot(X_train, X_val, y_train, y_val, degree):\n",
        "  # Звичайна лінійна регресія\n",
        "  lin_reg = LinearRegression()\n",
        "  lin_reg.fit(X_train, y_train)\n",
        "  y_pred_train_lin = lin_reg.predict(X_train)\n",
        "  y_pred_val_lin = lin_reg.predict(X_val)\n",
        "\n",
        "  # Поліноміальна регресія\n",
        "  poly_features = PolynomialFeatures(degree=degree)\n",
        "  X_train_poly = poly_features.fit_transform(X_train)\n",
        "  X_val_poly = poly_features.transform(X_val)\n",
        "\n",
        "  print(f'В оригіналній матриці Х {X.shape[1]} ознак.')\n",
        "  print(f'В матриці Х з поліноміальними ознаками {X_train_poly.shape[1]} ознак.\\n')\n",
        "\n",
        "  poly_reg = LinearRegression()\n",
        "  poly_reg.fit(X_train_poly, y_train)\n",
        "  y_pred_train_poly = poly_reg.predict(X_train_poly)\n",
        "  y_pred_val_poly = poly_reg.predict(X_val_poly)\n",
        "\n",
        "  # Оцінка моделей\n",
        "\n",
        "  rmse_lin_train = root_mean_squared_error(y_train, y_pred_train_lin)\n",
        "  rmse_poly_train = root_mean_squared_error(y_train, y_pred_train_poly)\n",
        "\n",
        "  rmse_lin_val = root_mean_squared_error(y_val, y_pred_val_lin)\n",
        "  rmse_poly_val = root_mean_squared_error(y_val, y_pred_val_poly)\n",
        "\n",
        "\n",
        "  print(f\"Train RMSE for Linear Regression: {np.sqrt(rmse_lin_train):.4f}\")\n",
        "  print(f\"Test RMSE for Linear Regression: {np.sqrt(rmse_lin_val):.4f}\\n\")\n",
        "\n",
        "  print(f\"Train RMSE for Polynomial Regression (degree {degree}): {np.sqrt(rmse_poly_train):.4f}\")\n",
        "  print(f\"Test RMSE for Polynomial Regression (degree {degree}): {np.sqrt(rmse_poly_val):.4f}\")"
      ],
      "metadata": {
        "id": "SE8TfWFtJaOj"
      },
      "execution_count": null,
      "outputs": []
    },
    {
      "cell_type": "code",
      "source": [
        "train_lin_vs_poly_reg_and_plot(X_train, X_test, y_train, y_test, degree = 5)"
      ],
      "metadata": {
        "colab": {
          "base_uri": "https://localhost:8080/"
        },
        "id": "spD617nHUhTc",
        "outputId": "4f7b4222-3deb-442d-fbef-847ca56de713"
      },
      "execution_count": null,
      "outputs": [
        {
          "output_type": "stream",
          "name": "stdout",
          "text": [
            "В оригіналній матриці Х 5 ознак.\n",
            "В матриці Х з поліноміальними ознаками 252 ознак.\n",
            "\n",
            "Train RMSE for Linear Regression: 1.0327\n",
            "Test RMSE for Linear Regression: 0.9399\n",
            "\n",
            "Train RMSE for Polynomial Regression (degree 5): 0.0000\n",
            "Test RMSE for Polynomial Regression (degree 5): 5.4253\n"
          ]
        }
      ]
    },
    {
      "cell_type": "code",
      "source": [
        "print('Для масштабованих ознак: StandartScaler')\n",
        "StandScal = StandardScaler()\n",
        "X_train_std = StandScal.fit_transform(X_train)\n",
        "X_test_std = StandScal.transform(X_test)\n",
        "\n",
        "train_lin_vs_poly_reg_and_plot(X_train_std, X_test_std, y_train, y_test, degree = 5)"
      ],
      "metadata": {
        "colab": {
          "base_uri": "https://localhost:8080/"
        },
        "id": "tOLx2-ucZCOi",
        "outputId": "4703d3de-9595-47b4-9e1d-2404fc9ef4e7"
      },
      "execution_count": null,
      "outputs": [
        {
          "output_type": "stream",
          "name": "stdout",
          "text": [
            "Для масштабованих ознак: StandartScaler\n",
            "В оригіналній матриці Х 5 ознак.\n",
            "В матриці Х з поліноміальними ознаками 252 ознак.\n",
            "\n",
            "Train RMSE for Linear Regression: 1.0327\n",
            "Test RMSE for Linear Regression: 0.9399\n",
            "\n",
            "Train RMSE for Polynomial Regression (degree 5): 0.0000\n",
            "Test RMSE for Polynomial Regression (degree 5): 5.9689\n"
          ]
        }
      ]
    },
    {
      "cell_type": "code",
      "source": [
        "print('Для масштабованих ознак: MinMaxScaler')\n",
        "MinMax = MinMaxScaler()\n",
        "X_train_mm = MinMax.fit_transform(X_train)\n",
        "X_test_mm = MinMax.transform(X_test)\n",
        "\n",
        "train_lin_vs_poly_reg_and_plot(X_train_mm, X_test_mm, y_train, y_test, degree = degree)"
      ],
      "metadata": {
        "colab": {
          "base_uri": "https://localhost:8080/"
        },
        "id": "2eWmBwGYatiM",
        "outputId": "839e2ccc-88cd-4769-b394-91ec1cf5a652"
      },
      "execution_count": null,
      "outputs": [
        {
          "output_type": "stream",
          "name": "stdout",
          "text": [
            "Для масштабованих ознак:  MinMaxScaler\n",
            "В оригіналній матриці Х 5 ознак.\n",
            "В матриці Х з поліноміальними ознаками 252 ознак.\n",
            "\n",
            "Train RMSE for Linear Regression: 1.0327\n",
            "Test RMSE for Linear Regression: 0.9399\n",
            "\n",
            "Train RMSE for Polynomial Regression (degree 5): 0.0000\n",
            "Test RMSE for Polynomial Regression (degree 5): 4.1652\n"
          ]
        }
      ]
    },
    {
      "cell_type": "markdown",
      "source": [
        "**Завдання 5**. Натренуйте моделі Lasso(), Ridge(), ElasaticNet() на цих даних (з поліном ознаками до степені 20 включно), порівняйте якість з тою, яка була отримана з лінійною регресією. Яка модель найкраще генералізує і чому на ваш погляд (можливо треба буде для відповіді зробити додатковий аналіз ознак)?"
      ],
      "metadata": {
        "id": "JNUt-Q6UHkn7"
      }
    },
    {
      "cell_type": "code",
      "source": [
        "from sklearn.linear_model import Ridge, Lasso, ElasticNet\n",
        "models = [\n",
        "    LinearRegression(),\n",
        "\n",
        "    Ridge(),\n",
        "    Ridge(alpha=2),\n",
        "    Lasso(),\n",
        "    ElasticNet(),\n",
        "    ElasticNet(alpha=0.5)\n",
        "]"
      ],
      "metadata": {
        "id": "y93ItPYdOnpE"
      },
      "execution_count": null,
      "outputs": []
    },
    {
      "cell_type": "code",
      "source": [
        "def evaluate_model(model, X_train, y_train, X_test, y_test):\n",
        "    y_train_pred = model.predict(X_train)\n",
        "    y_test_pred = model.predict(X_test)\n",
        "\n",
        "    train_metrics = round(root_mean_squared_error(y_train, y_train_pred),6)\n",
        "    test_metrics = round(root_mean_squared_error(y_test, y_test_pred), 6)\n",
        "\n",
        "    return dict(train=train_metrics, test=test_metrics)"
      ],
      "metadata": {
        "id": "1TVV4-KOd1Yl"
      },
      "execution_count": null,
      "outputs": []
    },
    {
      "cell_type": "code",
      "source": [
        "poly_features = PolynomialFeatures(degree=20)\n",
        "X_train_poly = poly_features.fit_transform(X_train)\n",
        "X_test_poly = poly_features.transform(X_test)"
      ],
      "metadata": {
        "id": "dKihtMind4DK"
      },
      "execution_count": null,
      "outputs": []
    },
    {
      "cell_type": "code",
      "source": [
        "import warnings\n",
        "\n",
        "warnings.filterwarnings(\"ignore\")\n",
        "\n",
        "for model in models:\n",
        "    model.fit(X_train_poly, y_train)\n",
        "    eval_results  = evaluate_model(model, X_train_poly, y_train, X_test_poly, y_test)\n",
        "    print(f'{str(model)}: {eval_results}\\n')"
      ],
      "metadata": {
        "colab": {
          "base_uri": "https://localhost:8080/"
        },
        "id": "oc8DIBoLeIyD",
        "outputId": "de7f8bed-a73a-4f9b-cba5-eb4018bed0cd"
      },
      "execution_count": null,
      "outputs": [
        {
          "output_type": "stream",
          "name": "stdout",
          "text": [
            "LinearRegression(): {'train': 1.01665, 'test': 1.014851}\n",
            "\n",
            "Ridge(): {'train': 1.170678, 'test': 1.2341}\n",
            "\n",
            "Ridge(alpha=2): {'train': 1.529127, 'test': 1.725789}\n",
            "\n",
            "Lasso(): {'train': 1.571223, 'test': 1.512621}\n",
            "\n",
            "ElasticNet(): {'train': 17.394886, 'test': 20.761708}\n",
            "\n",
            "ElasticNet(alpha=0.5): {'train': 10.984113, 'test': 13.211056}\n",
            "\n"
          ]
        }
      ]
    },
    {
      "cell_type": "code",
      "source": [
        "X = regression_data.drop('target',axis=1)\n",
        "y = regression_data['target']\n",
        "X_train, X_test, y_train, y_test = train_test_split(X, y, test_size=0.2, random_state=42)\n",
        "\n",
        "from sklearn.linear_model import Ridge, Lasso, ElasticNet\n",
        "models = [\n",
        "    LinearRegression(),\n",
        "    Ridge(),\n",
        "    Ridge(alpha=2),\n",
        "    Lasso(),\n",
        "    ElasticNet(),\n",
        "    ElasticNet(alpha=0.5)\n",
        "]\n",
        "\n",
        "def evaluate_model(model, X_train, y_train, X_test, y_test):\n",
        "    y_train_pred = model.predict(X_train)\n",
        "    y_test_pred = model.predict(X_test)\n",
        "\n",
        "    train_metrics = round(root_mean_squared_error(y_train, y_train_pred),6)\n",
        "    test_metrics = round(root_mean_squared_error(y_test, y_test_pred), 6)\n",
        "\n",
        "    return dict(train=train_metrics, test=test_metrics)\n",
        "\n",
        "import warnings\n",
        "warnings.filterwarnings(\"ignore\")\n",
        "\n",
        "for num in range(21):\n",
        "  print(f'degree = {num}')\n",
        "  poly_features = PolynomialFeatures(degree=num)\n",
        "  X_train_poly = poly_features.fit_transform(X_train)\n",
        "  X_test_poly = poly_features.transform(X_test)\n",
        "\n",
        "  for model in models:\n",
        "      model.fit(X_train_poly, y_train)\n",
        "      eval_results  = evaluate_model(model, X_train_poly, y_train, X_test_poly, y_test)\n",
        "      print(f'{str(model)}: {eval_results}\\n')"
      ],
      "metadata": {
        "colab": {
          "base_uri": "https://localhost:8080/"
        },
        "id": "i0v2sXVZeWv6",
        "outputId": "6ac1c5ba-307d-4e60-f385-76838d4ffd2b"
      },
      "execution_count": null,
      "outputs": [
        {
          "output_type": "stream",
          "name": "stdout",
          "text": [
            "degree = 0\n",
            "LinearRegression(): {'train': 44.13422, 'test': 49.928518}\n",
            "\n",
            "Ridge(): {'train': 44.13422, 'test': 49.928518}\n",
            "\n",
            "Ridge(alpha=2): {'train': 44.13422, 'test': 49.928518}\n",
            "\n",
            "Lasso(): {'train': 44.13422, 'test': 49.928518}\n",
            "\n",
            "ElasticNet(): {'train': 44.13422, 'test': 49.928518}\n",
            "\n",
            "ElasticNet(alpha=0.5): {'train': 44.13422, 'test': 49.928518}\n",
            "\n",
            "degree = 1\n",
            "LinearRegression(): {'train': 1.066472, 'test': 0.883327}\n",
            "\n",
            "Ridge(): {'train': 1.197553, 'test': 0.992599}\n",
            "\n",
            "Ridge(alpha=2): {'train': 1.515007, 'test': 1.380979}\n",
            "\n",
            "Lasso(): {'train': 1.571223, 'test': 1.512621}\n",
            "\n",
            "ElasticNet(): {'train': 17.578714, 'test': 19.681644}\n",
            "\n",
            "ElasticNet(alpha=0.5): {'train': 10.963928, 'test': 12.192434}\n",
            "\n",
            "degree = 2\n",
            "LinearRegression(): {'train': 1.01665, 'test': 1.014851}\n",
            "\n",
            "Ridge(): {'train': 1.170678, 'test': 1.2341}\n",
            "\n",
            "Ridge(alpha=2): {'train': 1.529127, 'test': 1.725789}\n",
            "\n",
            "Lasso(): {'train': 1.571223, 'test': 1.512621}\n",
            "\n",
            "ElasticNet(): {'train': 17.394886, 'test': 20.761708}\n",
            "\n",
            "ElasticNet(alpha=0.5): {'train': 10.984113, 'test': 13.211056}\n",
            "\n",
            "degree = 3\n",
            "LinearRegression(): {'train': 0.799271, 'test': 1.91596}\n",
            "\n",
            "Ridge(): {'train': 1.80872, 'test': 7.881783}\n",
            "\n",
            "Ridge(alpha=2): {'train': 2.820853, 'test': 11.685399}\n",
            "\n",
            "Lasso(): {'train': 1.869197, 'test': 1.936133}\n",
            "\n",
            "ElasticNet(): {'train': 12.414655, 'test': 19.290081}\n",
            "\n",
            "ElasticNet(alpha=0.5): {'train': 9.906089, 'test': 20.435729}\n",
            "\n",
            "degree = 4\n",
            "LinearRegression(): {'train': 0.0, 'test': 19.270418}\n",
            "\n",
            "Ridge(): {'train': 1.536994, 'test': 27.095885}\n",
            "\n",
            "Ridge(alpha=2): {'train': 2.398306, 'test': 23.698184}\n",
            "\n",
            "Lasso(): {'train': 1.876348, 'test': 2.018909}\n",
            "\n",
            "ElasticNet(): {'train': 11.613962, 'test': 17.543152}\n",
            "\n",
            "ElasticNet(alpha=0.5): {'train': 9.145403, 'test': 15.879199}\n",
            "\n",
            "degree = 5\n",
            "LinearRegression(): {'train': 0.0, 'test': 29.433497}\n",
            "\n",
            "Ridge(): {'train': 1.258071, 'test': 29.489894}\n",
            "\n",
            "Ridge(alpha=2): {'train': 1.982396, 'test': 30.5266}\n",
            "\n",
            "Lasso(): {'train': 1.947741, 'test': 2.366125}\n",
            "\n",
            "ElasticNet(): {'train': 11.66084, 'test': 43.160849}\n",
            "\n",
            "ElasticNet(alpha=0.5): {'train': 8.588997, 'test': 34.955145}\n",
            "\n",
            "degree = 6\n",
            "LinearRegression(): {'train': 0.0, 'test': 63.485169}\n",
            "\n",
            "Ridge(): {'train': 1.242913, 'test': 98.595403}\n",
            "\n",
            "Ridge(alpha=2): {'train': 1.93597, 'test': 96.376763}\n",
            "\n",
            "Lasso(): {'train': 1.947795, 'test': 2.338366}\n",
            "\n",
            "ElasticNet(): {'train': 11.202385, 'test': 22.347487}\n",
            "\n",
            "ElasticNet(alpha=0.5): {'train': 8.390135, 'test': 21.015353}\n",
            "\n",
            "degree = 7\n",
            "LinearRegression(): {'train': 0.0, 'test': 124.405712}\n",
            "\n",
            "Ridge(): {'train': 1.236465, 'test': 90.899872}\n",
            "\n",
            "Ridge(alpha=2): {'train': 1.877951, 'test': 80.993415}\n",
            "\n",
            "Lasso(): {'train': 2.021139, 'test': 9.203609}\n",
            "\n",
            "ElasticNet(): {'train': 10.523102, 'test': 37.478991}\n",
            "\n",
            "ElasticNet(alpha=0.5): {'train': 7.933885, 'test': 39.976684}\n",
            "\n",
            "degree = 8\n",
            "LinearRegression(): {'train': 0.0, 'test': 179.037358}\n",
            "\n",
            "Ridge(): {'train': 1.246035, 'test': 313.253886}\n",
            "\n",
            "Ridge(alpha=2): {'train': 1.878707, 'test': 324.632197}\n",
            "\n",
            "Lasso(): {'train': 2.075259, 'test': 10.023196}\n",
            "\n",
            "ElasticNet(): {'train': 10.42553, 'test': 69.367187}\n",
            "\n",
            "ElasticNet(alpha=0.5): {'train': 7.879852, 'test': 61.740959}\n",
            "\n",
            "degree = 9\n",
            "LinearRegression(): {'train': 0.0, 'test': 572.721813}\n",
            "\n",
            "Ridge(): {'train': 1.25403, 'test': 390.975978}\n",
            "\n",
            "Ridge(alpha=2): {'train': 1.878462, 'test': 306.788468}\n",
            "\n",
            "Lasso(): {'train': 2.170151, 'test': 19.032316}\n",
            "\n",
            "ElasticNet(): {'train': 10.222818, 'test': 60.793187}\n",
            "\n",
            "ElasticNet(alpha=0.5): {'train': 7.80415, 'test': 121.137115}\n",
            "\n",
            "degree = 10\n",
            "LinearRegression(): {'train': 0.0, 'test': 554.960995}\n",
            "\n",
            "Ridge(): {'train': 1.257238, 'test': 995.721822}\n",
            "\n",
            "Ridge(alpha=2): {'train': 1.881348, 'test': 1056.457668}\n",
            "\n",
            "Lasso(): {'train': 2.187687, 'test': 26.874356}\n",
            "\n",
            "ElasticNet(): {'train': 10.238539, 'test': 143.834046}\n",
            "\n",
            "ElasticNet(alpha=0.5): {'train': 7.815447, 'test': 142.771899}\n",
            "\n",
            "degree = 11\n",
            "LinearRegression(): {'train': 0.0, 'test': 2375.789947}\n",
            "\n",
            "Ridge(): {'train': 1.259945, 'test': 1679.396201}\n",
            "\n",
            "Ridge(alpha=2): {'train': 1.885121, 'test': 1304.320227}\n",
            "\n",
            "Lasso(): {'train': 2.24242, 'test': 36.034312}\n",
            "\n",
            "ElasticNet(): {'train': 10.172147, 'test': 264.991594}\n",
            "\n",
            "ElasticNet(alpha=0.5): {'train': 7.758571, 'test': 253.097495}\n",
            "\n",
            "degree = 12\n",
            "LinearRegression(): {'train': 0.0, 'test': 1665.494804}\n",
            "\n",
            "Ridge(): {'train': 1.259581, 'test': 3090.071739}\n",
            "\n",
            "Ridge(alpha=2): {'train': 1.885219, 'test': 3355.086882}\n",
            "\n",
            "Lasso(): {'train': 2.264372, 'test': 59.32062}\n",
            "\n",
            "ElasticNet(): {'train': 10.183525, 'test': 204.102964}\n",
            "\n",
            "ElasticNet(alpha=0.5): {'train': 7.770442, 'test': 270.473466}\n",
            "\n",
            "degree = 13\n",
            "LinearRegression(): {'train': 0.0, 'test': 9115.983614}\n",
            "\n",
            "Ridge(): {'train': 1.259474, 'test': 6470.961573}\n",
            "\n",
            "Ridge(alpha=2): {'train': 1.886456, 'test': 4997.270652}\n",
            "\n",
            "Lasso(): {'train': 2.286266, 'test': 61.34441}\n",
            "\n",
            "ElasticNet(): {'train': 10.149743, 'test': 350.818317}\n",
            "\n",
            "ElasticNet(alpha=0.5): {'train': 7.744545, 'test': 339.565002}\n",
            "\n",
            "degree = 14\n",
            "LinearRegression(): {'train': 0.0, 'test': 4514.938917}\n",
            "\n",
            "Ridge(): {'train': 1.298478, 'test': 9103.660753}\n",
            "\n",
            "Ridge(alpha=2): {'train': 1.88738, 'test': 10267.678607}\n",
            "\n",
            "Lasso(): {'train': 2.291585, 'test': 72.986013}\n",
            "\n",
            "ElasticNet(): {'train': 10.163152, 'test': 370.591033}\n",
            "\n",
            "ElasticNet(alpha=0.5): {'train': 7.752218, 'test': 376.588259}\n",
            "\n",
            "degree = 15\n",
            "LinearRegression(): {'train': 0.0, 'test': 34084.94291}\n",
            "\n",
            "Ridge(): {'train': 2.021657, 'test': 23729.195984}\n",
            "\n",
            "Ridge(alpha=2): {'train': 1.917172, 'test': 18303.896606}\n",
            "\n",
            "Lasso(): {'train': 2.299612, 'test': 69.9744}\n",
            "\n",
            "ElasticNet(): {'train': 10.15162, 'test': 452.846094}\n",
            "\n",
            "ElasticNet(alpha=0.5): {'train': 7.741371, 'test': 583.24298}\n",
            "\n",
            "degree = 16\n",
            "LinearRegression(): {'train': 1e-06, 'test': 10187.58603}\n",
            "\n",
            "Ridge(): {'train': 106.926113, 'test': 37918.826987}\n",
            "\n",
            "Ridge(alpha=2): {'train': 13.399205, 'test': 34245.362704}\n",
            "\n",
            "Lasso(): {'train': 2.302361, 'test': 70.602709}\n",
            "\n",
            "ElasticNet(): {'train': 10.162127, 'test': 655.847532}\n",
            "\n",
            "ElasticNet(alpha=0.5): {'train': 7.748084, 'test': 610.078144}\n",
            "\n",
            "degree = 17\n",
            "LinearRegression(): {'train': 3e-06, 'test': 128146.763697}\n",
            "\n",
            "Ridge(): {'train': 20.416711, 'test': 10571.843958}\n",
            "\n",
            "Ridge(alpha=2): {'train': 20.463136, 'test': 10571.735601}\n",
            "\n",
            "Lasso(): {'train': 2.307044, 'test': 106.615264}\n",
            "\n",
            "ElasticNet(): {'train': 10.154427, 'test': 913.563713}\n",
            "\n",
            "ElasticNet(alpha=0.5): {'train': 7.741423, 'test': 768.335102}\n",
            "\n",
            "degree = 18\n",
            "LinearRegression(): {'train': 0.000113, 'test': 16084.309564}\n",
            "\n",
            "Ridge(): {'train': 22.681257, 'test': 17735.20961}\n",
            "\n",
            "Ridge(alpha=2): {'train': 22.681257, 'test': 17735.20961}\n",
            "\n",
            "Lasso(): {'train': 2.307449, 'test': 80.87566}\n",
            "\n",
            "ElasticNet(): {'train': 10.162373, 'test': 994.839175}\n",
            "\n",
            "ElasticNet(alpha=0.5): {'train': 7.744089, 'test': 797.141656}\n",
            "\n",
            "degree = 19\n",
            "LinearRegression(): {'train': 1.390451, 'test': 379534.958583}\n",
            "\n",
            "Ridge(): {'train': 25.618348, 'test': 12558.179268}\n",
            "\n",
            "Ridge(alpha=2): {'train': 25.618348, 'test': 12558.179268}\n",
            "\n",
            "Lasso(): {'train': 2.312778, 'test': 140.637011}\n",
            "\n",
            "ElasticNet(): {'train': 10.155215, 'test': 1312.790713}\n",
            "\n",
            "ElasticNet(alpha=0.5): {'train': 7.741591, 'test': 1040.786401}\n",
            "\n",
            "degree = 20\n",
            "LinearRegression(): {'train': 8.083588, 'test': 1177332.583371}\n",
            "\n",
            "Ridge(): {'train': 32.582352, 'test': 9034.946659}\n",
            "\n",
            "Ridge(alpha=2): {'train': 32.582352, 'test': 9034.946659}\n",
            "\n",
            "Lasso(): {'train': 2.313505, 'test': 68.318791}\n",
            "\n",
            "ElasticNet(): {'train': 10.159852, 'test': 1526.820921}\n",
            "\n",
            "ElasticNet(alpha=0.5): {'train': 7.741732, 'test': 1083.402468}\n",
            "\n"
          ]
        }
      ]
    },
    {
      "cell_type": "code",
      "source": [],
      "metadata": {
        "id": "r9b8Bme-hr3I"
      },
      "execution_count": null,
      "outputs": []
    }
  ]
}