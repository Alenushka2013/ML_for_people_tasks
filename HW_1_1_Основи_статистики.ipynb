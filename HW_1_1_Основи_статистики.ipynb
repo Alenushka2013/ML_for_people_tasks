{
  "nbformat": 4,
  "nbformat_minor": 0,
  "metadata": {
    "colab": {
      "provenance": [],
      "include_colab_link": true
    },
    "kernelspec": {
      "name": "python3",
      "display_name": "Python 3"
    },
    "language_info": {
      "name": "python"
    }
  },
  "cells": [
    {
      "cell_type": "markdown",
      "metadata": {
        "id": "view-in-github",
        "colab_type": "text"
      },
      "source": [
        "<a href=\"https://colab.research.google.com/github/Alenushka2013/ML_for_people_tasks/blob/main/HW_1_1_%D0%9E%D1%81%D0%BD%D0%BE%D0%B2%D0%B8_%D1%81%D1%82%D0%B0%D1%82%D0%B8%D1%81%D1%82%D0%B8%D0%BA%D0%B8.ipynb\" target=\"_parent\"><img src=\"https://colab.research.google.com/assets/colab-badge.svg\" alt=\"Open In Colab\"/></a>"
      ]
    },
    {
      "cell_type": "markdown",
      "source": [
        "В цьому домашньому завданні відпрацюємо з вами знання, отримані в модулі зі статистики.\n",
        "\n",
        "**Завдання 1.** Ми обговорили з Вами на лекції, що велика літера Сігма грецького алфавіту позначає в математиці суму. Знайдіть з використанням Python $\\Sigma x$, $\\Sigma x^2$, та $\\Sigma (x-1)^2$ для наступного набору даних:\n",
        "`1 3 4`\n",
        "Виведіть результат кожного обчислення на екран."
      ],
      "metadata": {
        "id": "SDhaTqxcWhnP"
      }
    },
    {
      "cell_type": "code",
      "source": [
        "x = [1, 3, 4]\n",
        "print('Cума значень набору х:', sum(x))\n",
        "print('Cума квадратів значень набору х:', sum([n ** 2 for n in x]))\n",
        "print('Cума квадратів значень на одиницю менше набору х:', sum([(n - 1) ** 2 for n in x]))"
      ],
      "metadata": {
        "id": "B1mgx_IBT0e8",
        "colab": {
          "base_uri": "https://localhost:8080/"
        },
        "outputId": "cbd9501b-288e-44b7-9e69-345ca17b76bc"
      },
      "execution_count": 1,
      "outputs": [
        {
          "output_type": "stream",
          "name": "stdout",
          "text": [
            "Cума значень набору х: 8\n",
            "Cума квадратів значень набору х: 26\n",
            "Cума квадратів значень на одиницю менше набору х: 13\n"
          ]
        }
      ]
    },
    {
      "cell_type": "markdown",
      "source": [
        "**Завдання 2.** Ми зібрали дані про суму покупок в гривнях 20ма випадково обраними клієнтами в нашому магазині (всього клієнтів у нас більше) за минулий місяць. Вони представлені в змінній `sum_purchases`. Знайдіть **вибіркове середнє** для цих даних кожним з зазначених методів:   \n",
        "\n",
        "  2.1. без використання жодних бібліотек, користуючись тільки Python.  \n",
        "  2.2. використовуючи відповідний метод бібліотеки `numpy`.\n",
        "\n",
        "  Виведіть результат обчислень в кожному з випадків на екран та порівняйте результати. Вони співпадають?"
      ],
      "metadata": {
        "id": "fa78aW5lhiia"
      }
    },
    {
      "cell_type": "code",
      "execution_count": 16,
      "metadata": {
        "id": "_9kMt3rq6V5m"
      },
      "outputs": [],
      "source": [
        "sum_purchases = [ 316,  493,  367,  153,  224,  121,  322,  450,  196,  397,  281,\n",
        "  239,  484,  124,  223,  448,  432,  255, 4310, 3524]"
      ]
    },
    {
      "cell_type": "code",
      "source": [
        "print('Вибіркове середнє, тільки Python:', sum(sum_purchases)/len(sum_purchases))"
      ],
      "metadata": {
        "id": "wPmL919HT1c0",
        "colab": {
          "base_uri": "https://localhost:8080/"
        },
        "outputId": "7c6612a2-259c-4c79-fc53-ab2b24d4bfd0"
      },
      "execution_count": 3,
      "outputs": [
        {
          "output_type": "stream",
          "name": "stdout",
          "text": [
            "Вибіркове середнє, тільки Python: 667.95\n"
          ]
        }
      ]
    },
    {
      "cell_type": "code",
      "source": [
        "import numpy as np\n",
        "print('Вибіркове середнє, метод бібліотеки numpy:', np.mean(sum_purchases))"
      ],
      "metadata": {
        "colab": {
          "base_uri": "https://localhost:8080/"
        },
        "id": "HaeI1Fxc_sW_",
        "outputId": "f743b1a2-37d4-4754-e92a-d54e4bacb6e2"
      },
      "execution_count": 4,
      "outputs": [
        {
          "output_type": "stream",
          "name": "stdout",
          "text": [
            "Вибіркове середнє, метод бібліотеки numpy: 667.95\n"
          ]
        }
      ]
    },
    {
      "cell_type": "markdown",
      "source": [
        "*Значення співпадають.*"
      ],
      "metadata": {
        "id": "CLYMy4GZ7jg-"
      }
    },
    {
      "cell_type": "markdown",
      "source": [
        "**Завдання 3.** Для того ж набору даних в змінній `sum_purchases` обчисліть **медіану** кожним з зазначених методів:  \n",
        "\n",
        "  3.1. без використання жодних бібліотек, користуючись тільки Python.  \n",
        "  3.2. використовуючи відповідний метод бібліотеки numpy.  \n",
        "\n",
        "Виведіть результат обчислень в кожному з випадків на екран. Порівняйте результати зі значенням вибіркового середнього. Напишіть коментар, для яких задач ви б використовували вибіркове середнє, а для яких - медіану?"
      ],
      "metadata": {
        "id": "FMdoxZd0kZdW"
      }
    },
    {
      "cell_type": "code",
      "source": [
        "# Функція знаходження медіани для списку значень х\n",
        "def mediana(x):\n",
        "  x.sort()\n",
        "  if len(x) % 2 == 0:\n",
        "    res = (x[len(x) // 2 - 1] + x[len(x) // 2]) / 2\n",
        "  else:\n",
        "    res = x[len(x) // 2]\n",
        "  return res"
      ],
      "metadata": {
        "id": "QwlqGXJwAE4j"
      },
      "execution_count": 5,
      "outputs": []
    },
    {
      "cell_type": "code",
      "source": [
        "print(\"Медіана, тільки Python:\", mediana(sum_purchases))"
      ],
      "metadata": {
        "colab": {
          "base_uri": "https://localhost:8080/"
        },
        "id": "bse2YCUzBAXs",
        "outputId": "e40f045e-ae46-4162-a3bf-d27b163f229c"
      },
      "execution_count": 6,
      "outputs": [
        {
          "output_type": "stream",
          "name": "stdout",
          "text": [
            "Медіана, тільки Python: 319.0\n"
          ]
        }
      ]
    },
    {
      "cell_type": "code",
      "source": [
        "print('Медіана, метод numpy:', np.median(sum_purchases))"
      ],
      "metadata": {
        "id": "x58BumvuT2nl",
        "colab": {
          "base_uri": "https://localhost:8080/"
        },
        "outputId": "e5b8fff1-9549-44c7-84c9-8b862b100f6b"
      },
      "execution_count": 7,
      "outputs": [
        {
          "output_type": "stream",
          "name": "stdout",
          "text": [
            "Медіана, метод numpy: 319.0\n"
          ]
        }
      ]
    },
    {
      "cell_type": "markdown",
      "source": [
        "*Медіана значно менша ніж значення вибіркового середнього. Це означає, що в даних є значення, які набагато більші за більшість значень вибірки.*\n",
        "\n",
        "*Вибіркове середнє чутливіше до викидів, ніж медіана. Тому медіану доцільно використовувати до задач прогнозування. Разом медіана і середнє дають змогу зрозуміти як розподілені дані. Вибіркове середнє використовується для розрахунку інших значень, які описують дані: стандартне відхилення, коефіцієнт кореляції та ін.*"
      ],
      "metadata": {
        "id": "29bi3dti8-Bp"
      }
    },
    {
      "cell_type": "markdown",
      "source": [
        "**Завдання 4**. Обчислість стандартне відхилення наведеної вибірки в змінній `sum_purchases` кожним з зазначених методів:  \n",
        "\n",
        "  4.1. без використання жодних бібліотек, користуючись тільки Python.  \n",
        "  4.2. використовуючи відповідний метод бібліотеки numpy.  \n",
        "\n",
        "Виведіть результат обчислень в кожному з випадків на екран."
      ],
      "metadata": {
        "id": "o1Z7az2yNDQV"
      }
    },
    {
      "cell_type": "code",
      "source": [
        "# Функція обчислення стандартного відхілення для списку значень х\n",
        "def std_sample(x):\n",
        "  x_mean = sum(x) / len(x)\n",
        "  res = (sum([(n - x_mean) ** 2 for n in x]) / (len(x) - 1)) ** 0.5\n",
        "  return res"
      ],
      "metadata": {
        "id": "X4ixtmL2T642"
      },
      "execution_count": 8,
      "outputs": []
    },
    {
      "cell_type": "code",
      "source": [
        "print('Стандартне відхилення, тільки Python:', std_sample(sum_purchases))"
      ],
      "metadata": {
        "colab": {
          "base_uri": "https://localhost:8080/"
        },
        "id": "5sQCYIhgHHB1",
        "outputId": "edfac393-d838-4779-fe37-0b42d3cffa1a"
      },
      "execution_count": 9,
      "outputs": [
        {
          "output_type": "stream",
          "name": "stdout",
          "text": [
            "Стандартне відхилення, тільки Python: 1124.5433447451132\n"
          ]
        }
      ]
    },
    {
      "cell_type": "code",
      "source": [
        "print('Стандартне відхилення, метод numpy:',np.std(sum_purchases, ddof = 1))"
      ],
      "metadata": {
        "colab": {
          "base_uri": "https://localhost:8080/"
        },
        "id": "KNUfr_IzHNvx",
        "outputId": "dff0c989-933e-4aa2-d9b6-b8a7ba504288"
      },
      "execution_count": 10,
      "outputs": [
        {
          "output_type": "stream",
          "name": "stdout",
          "text": [
            "Стандартне відхилення, метод numpy: 1124.5433447451132\n"
          ]
        }
      ]
    },
    {
      "cell_type": "markdown",
      "source": [
        "*Вони співпадають.*"
      ],
      "metadata": {
        "id": "1obezRmLADWw"
      }
    },
    {
      "cell_type": "markdown",
      "source": [
        "**Завдання 5**. Ми провели дослідження віку студентів-першокурсників. Виявилось, що\n",
        "- 10 студентів мають вік 16 років\n",
        "- 25 студентів - 17 років\n",
        "- 20 студентів - 18 років\n",
        "- 2 студенти - 20 років\n",
        "\n",
        "Обчислість середнє значення для цієї вибірки будь-яким способом - на чистому Python або з numpy - та виведіть результат на екран."
      ],
      "metadata": {
        "id": "M1ntKTjXLVlH"
      }
    },
    {
      "cell_type": "code",
      "source": [
        "number_of_students = [10, 25, 20, 2]\n",
        "age_of_students = [16, 17, 18, 20]\n",
        "mean_age = sum([number_of_students[i] * age_of_students[i] for i in range(len(age_of_students))])/sum(number_of_students)\n",
        "print(f'Середній вік студентів - першокурсників {round(mean_age, 2)} років')"
      ],
      "metadata": {
        "id": "RdIU4M-7T8R4",
        "colab": {
          "base_uri": "https://localhost:8080/"
        },
        "outputId": "a76a283a-bbc7-4bdd-fced-3dc6907f4406"
      },
      "execution_count": 11,
      "outputs": [
        {
          "output_type": "stream",
          "name": "stdout",
          "text": [
            "Середній вік студентів - першокурсників 17.28 років\n"
          ]
        }
      ]
    },
    {
      "cell_type": "markdown",
      "source": [
        "**Завдання 6**. Крім даних про суму покупок, ми зібрали ще дані про кількість відвідувань кожного  покупця, які знаходяться в змінній `visits`. Обчисліть коефіцієнт кореляції Пірсона для суми покупок і кількості відвідувань кожним з зазначених методів:  \n",
        "\n",
        "  6.1. без використання жодних бібліотек, користуючись тільки Python.  \n",
        "  6.2. використовуючи відповідний метод бібліотеки numpy.  \n",
        "  \n",
        "Виведіть результат на екран. Проаналізуйте результат.\n",
        "\n",
        "Виведіть додатково графік розсіювання викликавши код нижче і зробіть заключення, чи варто щось змінити при підрахунку кореляції, аби коефіцієнт Пірсона показував коректну оцінку лінійної залежності?"
      ],
      "metadata": {
        "id": "Xx8MFkkVM53z"
      }
    },
    {
      "cell_type": "code",
      "source": [
        "visits = [ 6,  2, 10,  3,  9,  9,  2,  3,  6,  6, 10,  2,  5, 10,  3,  5,  4,\n",
        "        7,  4,  2]"
      ],
      "metadata": {
        "id": "4OIGBT7UOWhO"
      },
      "execution_count": 17,
      "outputs": []
    },
    {
      "cell_type": "code",
      "source": [
        "def corr_pearson(x, y):\n",
        "  x_mean = sum(x)/len(x)\n",
        "  y_mean = sum(y)/len(y)\n",
        "  xy = [(x[i] - x_mean) * (y[i] - y_mean) for i in range(len(y))]\n",
        "  cov_xy = sum(xy)/(len(x) - 1)\n",
        "  corr = cov_xy / (std_sample(x) * std_sample(y))\n",
        "  return corr\n"
      ],
      "metadata": {
        "id": "YLNF7VbeT97Q"
      },
      "execution_count": 18,
      "outputs": []
    },
    {
      "cell_type": "code",
      "source": [
        "print('Кореляція Пірсона, тільки Python:',corr_pearson(sum_purchases, visits))"
      ],
      "metadata": {
        "colab": {
          "base_uri": "https://localhost:8080/"
        },
        "id": "T_t7Hg_NjzHa",
        "outputId": "426cb0c2-a716-4878-ed69-e73d957e1850"
      },
      "execution_count": 19,
      "outputs": [
        {
          "output_type": "stream",
          "name": "stdout",
          "text": [
            "Кореляція Пірсона, тільки Python: -0.3026584468766646\n"
          ]
        }
      ]
    },
    {
      "cell_type": "code",
      "source": [
        "print('Кореляція Пірсона, метод numpy:', np.corrcoef(sum_purchases, visits)[0][1])"
      ],
      "metadata": {
        "colab": {
          "base_uri": "https://localhost:8080/"
        },
        "id": "MnjFKnfVj5RI",
        "outputId": "635dac49-91f5-403b-e3ef-fa53dafd8a0a"
      },
      "execution_count": 20,
      "outputs": [
        {
          "output_type": "stream",
          "name": "stdout",
          "text": [
            "Кореляція Пірсона, метод numpy: -0.3026584468766646\n"
          ]
        }
      ]
    },
    {
      "cell_type": "code",
      "source": [
        "import matplotlib.pyplot as plt\n",
        "\n",
        "plt.scatter(sum_purchases, visits)\n",
        "plt.title('Scatter Plot of Purchases vs. Visits')\n",
        "plt.xlabel('Sum of Purchases')\n",
        "plt.ylabel('Number of Visits');"
      ],
      "metadata": {
        "colab": {
          "base_uri": "https://localhost:8080/",
          "height": 472
        },
        "id": "gaeoGA-5Prr1",
        "outputId": "d4e6be5b-74f4-4cf9-a1c7-367328d38b6b"
      },
      "execution_count": 21,
      "outputs": [
        {
          "output_type": "display_data",
          "data": {
            "text/plain": [
              "<Figure size 640x480 with 1 Axes>"
            ],
            "image/png": "[encoded data removed]"
          },
          "metadata": {}
        }
      ]
    },
    {
      "cell_type": "markdown",
      "source": [
        "*Коефіцієнт кореляції вказує на незначну негативну кореляцію. На графіку розсіювання ця залежність прослідковується краще, за вийнятком двох точок в правій частині.*\n"
      ],
      "metadata": {
        "id": "YWciAa4nkLBd"
      }
    },
    {
      "cell_type": "markdown",
      "source": [
        "**Завдання 7**. В попередньому завданні ми помітили, що викиди нам заважають отримати \"правдиве\" значення кореляції. Давайте вилучимо записи, які відповідають значенням з викидами в сумі покупок і обчисліть коеф. кореляції. Для цього поставте `threshold`, який дорінює середньому значенню + 2 стандартних вдіхилля суми покупок і всі значення, які більше за нього, будемо вважати викидами (є і інші правила для визначення викидів - з ними познайомимось пізніше).\n",
        "\n",
        "Вилучіть значення з обох масивів і обчисліть коеф. кореляції Пірсона з допомогою `numpy` для кількості візитів і суми покупок без записів-викидів. Виведіть результат на екран, побудуйте діаграму розсіювання і проаналізуйте результат: що можемо сказати про залежність в даних?"
      ],
      "metadata": {
        "id": "4pEg0KzSQ6KA"
      }
    },
    {
      "cell_type": "code",
      "source": [
        "import pandas as pd\n",
        "threshold = np.mean(sum_purchases) + np.std(sum_purchases, ddof=1)*2\n",
        "df = pd.DataFrame({'visits': visits, 'sum_purchases': sum_purchases})\n",
        "df_new = df[df['sum_purchases'] < threshold]"
      ],
      "metadata": {
        "id": "9xKcdJuWbabO"
      },
      "execution_count": 24,
      "outputs": []
    },
    {
      "cell_type": "code",
      "source": [
        "plt.scatter(df_new.sum_purchases, df_new.visits, color = 'green')\n",
        "plt.title('Scatter Plot of Purchases vs. Visits')\n",
        "plt.xlabel('Sum of Purchases')\n",
        "plt.ylabel('Number of Visits');\n"
      ],
      "metadata": {
        "colab": {
          "base_uri": "https://localhost:8080/",
          "height": 472
        },
        "id": "Bt5LCNJdcuZU",
        "outputId": "6ea40aa6-f83e-4d24-b515-c16aa76f75a3"
      },
      "execution_count": 25,
      "outputs": [
        {
          "output_type": "display_data",
          "data": {
            "text/plain": [
              "<Figure size 640x480 with 1 Axes>"
            ],
            "image/png": "[encoded data removed]"
          },
          "metadata": {}
        }
      ]
    },
    {
      "cell_type": "code",
      "source": [
        "print('Кореляція даних без викидів', np.corrcoef(df_new.sum_purchases, df_new.visits)[0][1])"
      ],
      "metadata": {
        "colab": {
          "base_uri": "https://localhost:8080/"
        },
        "id": "ROXpej5vEqgK",
        "outputId": "11c5f852-02c9-49d1-c327-6f6305839cad"
      },
      "execution_count": 26,
      "outputs": [
        {
          "output_type": "stream",
          "name": "stdout",
          "text": [
            "Кореляція даних без викидів -0.3685212078127798\n"
          ]
        }
      ]
    },
    {
      "cell_type": "markdown",
      "source": [
        "*Спостерігається негативна кореляція, але вона є незначною тому робити висновки про залежність суми покупок і кількість візитів не варто.*"
      ],
      "metadata": {
        "id": "TCloYbduE1V0"
      }
    }
  ]
}