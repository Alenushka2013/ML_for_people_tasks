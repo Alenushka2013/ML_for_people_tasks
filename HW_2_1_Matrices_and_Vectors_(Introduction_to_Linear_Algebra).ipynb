{
  "nbformat": 4,
  "nbformat_minor": 0,
  "metadata": {
    "colab": {
      "provenance": [],
      "include_colab_link": true
    },
    "kernelspec": {
      "name": "python3",
      "display_name": "Python 3"
    },
    "language_info": {
      "name": "python"
    }
  },
  "cells": [
    {
      "cell_type": "markdown",
      "metadata": {
        "id": "view-in-github",
        "colab_type": "text"
      },
      "source": [
        "<a href=\"https://colab.research.google.com/github/Alenushka2013/ML_for_people_tasks/blob/main/HW_2_1_Matrices_and_Vectors_(Introduction_to_Linear_Algebra).ipynb\" target=\"_parent\"><img src=\"https://colab.research.google.com/assets/colab-badge.svg\" alt=\"Open In Colab\"/></a>"
      ]
    },
    {
      "cell_type": "markdown",
      "source": [
        "### Завдання 1: Створення матриць та векторів\n",
        "1. Створіть `numpy` вектор `vector` розмірністю 10 з випадковими дійсними значеннями в діапазоні від 0 до 1. Можна скористатись двома альтернативними варіантами:\n",
        "  1. Генерація випадкових чисел з модулем [`random.uniform`](https://docs.python.org/3/library/random.html).\n",
        "  2. Створення вектора з допомогою метода `numpy` [np.random.rand](https://numpy.org/doc/stable/reference/random/generated/numpy.random.rand.html)\n",
        "\n",
        "2. Створіть матрицю `matrix` типу `numpy.array` розмірності 3x3 з наступними значеннями\n",
        "\n",
        "  $$\n",
        "  matrix = \\begin{bmatrix}\n",
        "  11 & 14 & 17 \\\\\n",
        "  20 & 23 & 26 \\\\\n",
        "  29 & 32 & 35\n",
        "  \\end{bmatrix}\n",
        "  $$\n",
        "\n",
        "  будь-яким відомими Вам способом.\n",
        "\n",
        "Виведіть на екран вектор і матрицю, а також їх розміри.\n"
      ],
      "metadata": {
        "id": "efug1V4CM0lT"
      }
    },
    {
      "cell_type": "code",
      "source": [
        "import numpy as np\n",
        "\n",
        "vector = np.random.uniform(0, 1, 10)\n",
        "matrix = np.array([[11, 14, 17], [20, 23, 26],  [29, 32, 35]])\n",
        "\n",
        "print(f'vector = {vector}')\n",
        "print(f'Розмірність вектора {vector.shape}\\n')\n",
        "\n",
        "print(f'matrix = {matrix}')\n",
        "print(f'Розмірність матриці {matrix.shape}')"
      ],
      "metadata": {
        "id": "jxA_lG2_VIMe",
        "colab": {
          "base_uri": "https://localhost:8080/"
        },
        "outputId": "58926fa6-bd1f-41ca-9633-f1a03350f7a0"
      },
      "execution_count": 1,
      "outputs": [
        {
          "output_type": "stream",
          "name": "stdout",
          "text": [
            "vector = [0.89534935 0.6503269  0.20036148 0.65611478 0.97988023 0.0636846\n",
            " 0.9618194  0.23163505 0.65325331 0.82643515]\n",
            "Розмірність вектора (10,)\n",
            "\n",
            "matrix = [[11 14 17]\n",
            " [20 23 26]\n",
            " [29 32 35]]\n",
            "Розмірність матриці (3, 3)\n"
          ]
        }
      ]
    },
    {
      "cell_type": "markdown",
      "source": [
        "\n",
        "### Завдання 2: Операції над векторами та матрицями\n",
        "Виконайте кожну з зазначених операцій над зазначеними оʼєктами і виведіть результат на екран:\n",
        "1. Додайте до кожного значення вектора `vector` число 10 і округліть кожне значення до 2 знаків після коми без використання циклів.\n",
        "2. Помножте кожен елемент матриці з першого завдання на 2 без використання циклів.\n",
        "3. Створіть новий вектор, який містить квадрат кожного `vector` без циклів.\n"
      ],
      "metadata": {
        "id": "TSJ1P4OuOVe2"
      }
    },
    {
      "cell_type": "code",
      "source": [
        "print(f'vector + 10 = {(vector + 10).round(2)}\\n')\n",
        "print(f'matrix * 2 = {matrix * 2}\\n')\n",
        "vector_square = vector ** 2\n",
        "print(f'Квадрат вектора = {vector_square}')"
      ],
      "metadata": {
        "id": "nAAojtyUVJXN",
        "colab": {
          "base_uri": "https://localhost:8080/"
        },
        "outputId": "7ee1a28f-28a6-473e-de37-593eb8b173f2"
      },
      "execution_count": 2,
      "outputs": [
        {
          "output_type": "stream",
          "name": "stdout",
          "text": [
            "vector + 10 = [10.9  10.65 10.2  10.66 10.98 10.06 10.96 10.23 10.65 10.83]\n",
            "\n",
            "matrix * 2 = [[22 28 34]\n",
            " [40 46 52]\n",
            " [58 64 70]]\n",
            "\n",
            "Квадрат вектора = [0.80165046 0.42292507 0.04014472 0.43048661 0.96016526 0.00405573\n",
            " 0.92509656 0.05365479 0.42673989 0.68299506]\n"
          ]
        }
      ]
    },
    {
      "cell_type": "markdown",
      "source": [
        "\n",
        "### Завдання 3: Множення матриць\n",
        "1. Задані дві матриці `A` і `B`розмірностями 3x2 та 2х3. Виконайте їхнє множення, щоб отримати матрицю 2x2. Виведіть результуючу матрицю `result_matrix` на екран.\n",
        "\n",
        "2. Заданий вектор `C` розмірністю 2х1. Подумайте спочатку, яку розмірність Ви отрмаєте, коли домножите `result_matrix` на вектор `C` і який результат буде. А потім виконайте множення і виведіть результат на екран.\n",
        "\n",
        "3. Задана матриця `D` розмірністю 2х2. Подумайте спочатку, яку розмірність Ви отрмаєте, коли домножите `result_matrix` на матрицю `D` і який результат буде. А потім виконайте множення і виведіть результат на екран."
      ],
      "metadata": {
        "id": "u6RvWVfhPy-k"
      }
    },
    {
      "cell_type": "code",
      "source": [
        "A = np.array(\n",
        "    [[0.18, 0.53],\n",
        "     [0.75, 0.47],\n",
        "     [0.35, 0.21]])\n",
        "\n",
        "B = np.array(\n",
        "    [[0.17, 0.58, 0.75],\n",
        "     [0.38, 0.11, 0.15]])\n",
        "\n",
        "C = np.array([[0], [1]])\n",
        "\n",
        "D = np.array([[0,1], [1,0]])\n",
        "\n",
        "display(A, B, C, D)"
      ],
      "metadata": {
        "id": "RwXfPzlbSJ44",
        "colab": {
          "base_uri": "https://localhost:8080/",
          "height": 173
        },
        "outputId": "4988acba-5eb5-4fc6-b5fa-4fc7e0a8f8b5"
      },
      "execution_count": 3,
      "outputs": [
        {
          "output_type": "display_data",
          "data": {
            "text/plain": [
              "array([[0.18, 0.53],\n",
              "       [0.75, 0.47],\n",
              "       [0.35, 0.21]])"
            ]
          },
          "metadata": {}
        },
        {
          "output_type": "display_data",
          "data": {
            "text/plain": [
              "array([[0.17, 0.58, 0.75],\n",
              "       [0.38, 0.11, 0.15]])"
            ]
          },
          "metadata": {}
        },
        {
          "output_type": "display_data",
          "data": {
            "text/plain": [
              "array([[0],\n",
              "       [1]])"
            ]
          },
          "metadata": {}
        },
        {
          "output_type": "display_data",
          "data": {
            "text/plain": [
              "array([[0, 1],\n",
              "       [1, 0]])"
            ]
          },
          "metadata": {}
        }
      ]
    },
    {
      "cell_type": "code",
      "source": [
        "result_matrix = np.dot(B, A)\n",
        "print(f'B * A = result_matrix = {result_matrix}\\n')\n",
        "print(f'result_matrix *  C = {np.dot(result_matrix, C)}\\n')\n",
        "print(f'result_matrix * D = {np.dot(result_matrix, D)}')"
      ],
      "metadata": {
        "id": "z7-boTbhVKkj",
        "colab": {
          "base_uri": "https://localhost:8080/"
        },
        "outputId": "95e8636c-d31e-48fb-cbc6-5970c67551bb"
      },
      "execution_count": 4,
      "outputs": [
        {
          "output_type": "stream",
          "name": "stdout",
          "text": [
            "B * A = result_matrix = [[0.7281 0.5202]\n",
            " [0.2034 0.2846]]\n",
            "\n",
            "result_matrix *  C = [[0.5202]\n",
            " [0.2846]]\n",
            "\n",
            "result_matrix * D = [[0.5202 0.7281]\n",
            " [0.2846 0.2034]]\n"
          ]
        }
      ]
    },
    {
      "cell_type": "markdown",
      "source": [
        "\n",
        "### Завдання 4: Транспонування матриць\n",
        "1. Транспонуйте `result_matrix`.\n",
        "2. Зробіть транспонування вектора `vector` і виведіть форму нової структури. Чи бачите ви зміну?\n",
        "3. Використайте операцію `numpy.expand_dims` над вектором `vector` з аргументом axis=1. Запишіть отриманий результат в змінну `column_vector` і виведіть на екран. Порівняйте з `vector`.\n",
        "4. Зробіть транспонування `column_vector`, виведіть результат на екран разом з розмірностями отриманої структури.\n",
        "\n",
        "\n"
      ],
      "metadata": {
        "id": "wohp0_cxSGpl"
      }
    },
    {
      "cell_type": "code",
      "source": [
        "#1\n",
        "result_matrix_transpose = result_matrix.T\n",
        "print(f'транспонована result_matrix {result_matrix_transpose}')"
      ],
      "metadata": {
        "id": "4hFcq1baVLii",
        "colab": {
          "base_uri": "https://localhost:8080/"
        },
        "outputId": "8788dfbe-fcae-4b8d-cb39-35738c382f6a"
      },
      "execution_count": 5,
      "outputs": [
        {
          "output_type": "stream",
          "name": "stdout",
          "text": [
            "транспонована result_matrix [[0.7281 0.2034]\n",
            " [0.5202 0.2846]]\n"
          ]
        }
      ]
    },
    {
      "cell_type": "code",
      "source": [
        "#2\n",
        "vector_transpose = vector.T\n",
        "print(f'вектор {vector}\\n')\n",
        "print(f'\\\"транспонований\\\" вектор {vector_transpose}\\n')\n",
        "print('Змін немає' if np.array_equal(vector, vector_transpose) else 'Зміни є')"
      ],
      "metadata": {
        "colab": {
          "base_uri": "https://localhost:8080/"
        },
        "id": "W1S1_VgZT5jG",
        "outputId": "c846f91d-912c-4b37-e6b4-6cbb49b7ebec"
      },
      "execution_count": 6,
      "outputs": [
        {
          "output_type": "stream",
          "name": "stdout",
          "text": [
            "вектор [0.89534935 0.6503269  0.20036148 0.65611478 0.97988023 0.0636846\n",
            " 0.9618194  0.23163505 0.65325331 0.82643515]\n",
            "\n",
            "\"транспонований\" вектор [0.89534935 0.6503269  0.20036148 0.65611478 0.97988023 0.0636846\n",
            " 0.9618194  0.23163505 0.65325331 0.82643515]\n",
            "\n",
            "Змін немає\n"
          ]
        }
      ]
    },
    {
      "cell_type": "code",
      "source": [
        "#3\n",
        "column_vector = np.expand_dims(vector, axis=1)\n",
        "print(f'вектор {vector}\\n')\n",
        "print(f'вектор - стовпець {column_vector}\\n')\n",
        "print('Змін немає' if np.array_equal(vector, column_vector) else 'Зміни є')"
      ],
      "metadata": {
        "colab": {
          "base_uri": "https://localhost:8080/"
        },
        "id": "GBbG3u3aUrRE",
        "outputId": "3a70e847-f177-48e1-b07f-8ffa0601b011"
      },
      "execution_count": 7,
      "outputs": [
        {
          "output_type": "stream",
          "name": "stdout",
          "text": [
            "вектор [0.89534935 0.6503269  0.20036148 0.65611478 0.97988023 0.0636846\n",
            " 0.9618194  0.23163505 0.65325331 0.82643515]\n",
            "\n",
            "вектор - стовпець [[0.89534935]\n",
            " [0.6503269 ]\n",
            " [0.20036148]\n",
            " [0.65611478]\n",
            " [0.97988023]\n",
            " [0.0636846 ]\n",
            " [0.9618194 ]\n",
            " [0.23163505]\n",
            " [0.65325331]\n",
            " [0.82643515]]\n",
            "\n",
            "Зміни є\n"
          ]
        }
      ]
    },
    {
      "cell_type": "code",
      "source": [
        "# 4\n",
        "column_vector_transpose = column_vector.T\n",
        "print(f'транспонований вектор-стовбець {column_vector_transpose} \\nмає розмірність {column_vector_transpose.shape}')"
      ],
      "metadata": {
        "colab": {
          "base_uri": "https://localhost:8080/"
        },
        "id": "2-8gYQjQWuHQ",
        "outputId": "5b357930-f44e-448b-cf54-fbdb41db5bbd"
      },
      "execution_count": 8,
      "outputs": [
        {
          "output_type": "stream",
          "name": "stdout",
          "text": [
            "транспонований вектор-стовбець [[0.89534935 0.6503269  0.20036148 0.65611478 0.97988023 0.0636846\n",
            "  0.9618194  0.23163505 0.65325331 0.82643515]] \n",
            "має розмірність (1, 10)\n"
          ]
        }
      ]
    },
    {
      "cell_type": "code",
      "source": [
        "print(f'Початковий вектор {vector} \\nмає розмірність {vector.shape}\\n')\n",
        "print(f'вектор - стовпець {column_vector} \\nмає розмірність {column_vector.shape}\\n')\n",
        "print(f'транспонований вектор-стовбець {column_vector_transpose} \\nмає розмірність {column_vector_transpose.shape}\\n')\n",
        "print('Змін немає' if np.array_equal(vector, column_vector_transpose) else 'Зміни є')"
      ],
      "metadata": {
        "colab": {
          "base_uri": "https://localhost:8080/"
        },
        "id": "u50pGq4GYgz8",
        "outputId": "ff554cf7-47f2-4a84-be52-5edbd274dac7"
      },
      "execution_count": 9,
      "outputs": [
        {
          "output_type": "stream",
          "name": "stdout",
          "text": [
            "Початковий вектор [0.89534935 0.6503269  0.20036148 0.65611478 0.97988023 0.0636846\n",
            " 0.9618194  0.23163505 0.65325331 0.82643515] \n",
            "має розмірність (10,)\n",
            "\n",
            "вектор - стовпець [[0.89534935]\n",
            " [0.6503269 ]\n",
            " [0.20036148]\n",
            " [0.65611478]\n",
            " [0.97988023]\n",
            " [0.0636846 ]\n",
            " [0.9618194 ]\n",
            " [0.23163505]\n",
            " [0.65325331]\n",
            " [0.82643515]] \n",
            "має розмірність (10, 1)\n",
            "\n",
            "транспонований вектор-стовбець [[0.89534935 0.6503269  0.20036148 0.65611478 0.97988023 0.0636846\n",
            "  0.9618194  0.23163505 0.65325331 0.82643515]] \n",
            "має розмірність (1, 10)\n",
            "\n",
            "Зміни є\n"
          ]
        }
      ]
    },
    {
      "cell_type": "markdown",
      "source": [
        "Операцію транспонування *array_name.T* некоректно використовувати для масивів що мають один вимір, як vector з розмірністю (10,). В таких випадках можна скористатися *np.expand_dims(array_name, axis=1)*.\n",
        "\n",
        "Тут вже потрібно бути уважним до появи ще одного виміру: транспонування вектора-стовбця *vector_column.T* повертає масив розмірністю (1, 10), який схожий на початковий вектор, та через різні розмірності вони не рівні.\n",
        "\n",
        "Подвійна оперція транспонування до двовимірної матриці повертає ту ж саму матрицю."
      ],
      "metadata": {
        "id": "SOKtXviFcBtR"
      }
    }
  ]
}