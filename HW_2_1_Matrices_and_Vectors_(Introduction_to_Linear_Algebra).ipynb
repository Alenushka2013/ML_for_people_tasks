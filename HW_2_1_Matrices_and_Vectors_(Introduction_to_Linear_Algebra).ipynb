{
  "nbformat": 4,
  "nbformat_minor": 0,
  "metadata": {
    "colab": {
      "provenance": [],
      "include_colab_link": true
    },
    "kernelspec": {
      "name": "python3",
      "display_name": "Python 3"
    },
    "language_info": {
      "name": "python"
    }
  },
  "cells": [
    {
      "cell_type": "markdown",
      "metadata": {
        "id": "view-in-github",
        "colab_type": "text"
      },
      "source": [
        "<a href=\"https://colab.research.google.com/github/Alenushka2013/ML_for_people_tasks/blob/main/HW_2_1_Matrices_and_Vectors_(Introduction_to_Linear_Algebra).ipynb\" target=\"_parent\"><img src=\"https://colab.research.google.com/assets/colab-badge.svg\" alt=\"Open In Colab\"/></a>"
      ]
    },
    {
      "cell_type": "markdown",
      "source": [
        "### Завдання 1: Створення матриць та векторів\n",
        "1. Створіть `numpy` вектор `vector` розмірністю 10 з випадковими дійсними значеннями в діапазоні від 0 до 1. Можна скористатись двома альтернативними варіантами:\n",
        "  1. Генерація випадкових чисел з модулем [`random.uniform`](https://docs.python.org/3/library/random.html).\n",
        "  2. Створення вектора з допомогою метода `numpy` [np.random.rand](https://numpy.org/doc/stable/reference/random/generated/numpy.random.rand.html)\n",
        "\n",
        "2. Створіть матрицю `matrix` типу `numpy.array` розмірності 3x3 з наступними значеннями\n",
        "\n",
        "  $$\n",
        "  matrix = \\begin{bmatrix}\n",
        "  11 & 14 & 17 \\\\\n",
        "  20 & 23 & 26 \\\\\n",
        "  29 & 32 & 35\n",
        "  \\end{bmatrix}\n",
        "  $$\n",
        "\n",
        "  будь-яким відомими Вам способом.\n",
        "\n",
        "Виведіть на екран вектор і матрицю, а також їх розміри.\n"
      ],
      "metadata": {
        "id": "efug1V4CM0lT"
      }
    },
    {
      "cell_type": "code",
      "source": [
        "import numpy as np\n",
        "\n",
        "vector = np.random.uniform(0, 1, 10)\n",
        "matrix = np.array([[11, 14, 17], [20, 23, 26],  [29, 32, 35]])\n",
        "\n",
        "print(f'vector = {vector}')\n",
        "print(f'Розмірність вектора {vector.shape}\\n')\n",
        "\n",
        "print(f'matrix = {matrix}')\n",
        "print(f'Розмірність матриці {matrix.shape}')"
      ],
      "metadata": {
        "id": "jxA_lG2_VIMe",
        "colab": {
          "base_uri": "https://localhost:8080/"
        },
        "outputId": "39406d0b-8e30-4b72-e4ad-9febb5e0459c"
      },
      "execution_count": 1,
      "outputs": [
        {
          "output_type": "stream",
          "name": "stdout",
          "text": [
            "vector = [0.24099676 0.87163219 0.83163454 0.05459202 0.58060477 0.22973533\n",
            " 0.32475273 0.79815388 0.45308839 0.79281994]\n",
            "Розмірність вектора (10,)\n",
            "\n",
            "matrix = [[11 14 17]\n",
            " [20 23 26]\n",
            " [29 32 35]]\n",
            "Розмірність матриці (3, 3)\n"
          ]
        }
      ]
    },
    {
      "cell_type": "markdown",
      "source": [
        "\n",
        "### Завдання 2: Операції над векторами та матрицями\n",
        "Виконайте кожну з зазначених операцій над зазначеними оʼєктами і виведіть результат на екран:\n",
        "1. Додайте до кожного значення вектора `vector` число 10 і округліть кожне значення до 2 знаків після коми без використання циклів.\n",
        "2. Помножте кожен елемент матриці з першого завдання на 2 без використання циклів.\n",
        "3. Створіть новий вектор, який містить квадрат кожного `vector` без циклів.\n"
      ],
      "metadata": {
        "id": "TSJ1P4OuOVe2"
      }
    },
    {
      "cell_type": "code",
      "source": [
        "print(f'vector * 2 = {(vector * 2).round(2)}\\n')\n",
        "print(f'matrix * 2 = {matrix * 2}\\n')\n",
        "vector_square = vector ** 2\n",
        "print(f'Квадрат вектора = {vector_square}')"
      ],
      "metadata": {
        "id": "nAAojtyUVJXN",
        "colab": {
          "base_uri": "https://localhost:8080/"
        },
        "outputId": "6ff02f75-362d-4c40-e2fa-5ebbca1190db"
      },
      "execution_count": 2,
      "outputs": [
        {
          "output_type": "stream",
          "name": "stdout",
          "text": [
            "vector * 2 = [0.48 1.74 1.66 0.11 1.16 0.46 0.65 1.6  0.91 1.59]\n",
            "\n",
            "matrix * 2 = [[22 28 34]\n",
            " [40 46 52]\n",
            " [58 64 70]]\n",
            "\n",
            "Квадрат вектора = [0.05807944 0.75974268 0.691616   0.00298029 0.3371019  0.05277832\n",
            " 0.10546434 0.63704961 0.20528909 0.62856345]\n"
          ]
        }
      ]
    },
    {
      "cell_type": "markdown",
      "source": [
        "\n",
        "### Завдання 3: Множення матриць\n",
        "1. Задані дві матриці `A` і `B`розмірностями 3x2 та 2х3. Виконайте їхнє множення, щоб отримати матрицю 2x2. Виведіть результуючу матрицю `result_matrix` на екран.\n",
        "\n",
        "2. Заданий вектор `C` розмірністю 2х1. Подумайте спочатку, яку розмірність Ви отрмаєте, коли домножите `result_matrix` на вектор `C` і який результат буде. А потім виконайте множення і виведіть результат на екран.\n",
        "\n",
        "3. Задана матриця `D` розмірністю 2х2. Подумайте спочатку, яку розмірність Ви отрмаєте, коли домножите `result_matrix` на матрицю `D` і який результат буде. А потім виконайте множення і виведіть результат на екран."
      ],
      "metadata": {
        "id": "u6RvWVfhPy-k"
      }
    },
    {
      "cell_type": "code",
      "source": [
        "A = np.array(\n",
        "    [[0.18, 0.53],\n",
        "     [0.75, 0.47],\n",
        "     [0.35, 0.21]])\n",
        "\n",
        "B = np.array(\n",
        "    [[0.17, 0.58, 0.75],\n",
        "     [0.38, 0.11, 0.15]])\n",
        "\n",
        "C = np.array([[0], [1]])\n",
        "\n",
        "D = np.array([[0,1], [1,0]])\n",
        "\n",
        "display(A, B, C, D)"
      ],
      "metadata": {
        "id": "RwXfPzlbSJ44",
        "colab": {
          "base_uri": "https://localhost:8080/",
          "height": 173
        },
        "outputId": "6969cf16-5177-4d1c-fa0a-5f2911f1263d"
      },
      "execution_count": 3,
      "outputs": [
        {
          "output_type": "display_data",
          "data": {
            "text/plain": [
              "array([[0.18, 0.53],\n",
              "       [0.75, 0.47],\n",
              "       [0.35, 0.21]])"
            ]
          },
          "metadata": {}
        },
        {
          "output_type": "display_data",
          "data": {
            "text/plain": [
              "array([[0.17, 0.58, 0.75],\n",
              "       [0.38, 0.11, 0.15]])"
            ]
          },
          "metadata": {}
        },
        {
          "output_type": "display_data",
          "data": {
            "text/plain": [
              "array([[0],\n",
              "       [1]])"
            ]
          },
          "metadata": {}
        },
        {
          "output_type": "display_data",
          "data": {
            "text/plain": [
              "array([[0, 1],\n",
              "       [1, 0]])"
            ]
          },
          "metadata": {}
        }
      ]
    },
    {
      "cell_type": "code",
      "source": [
        "result_matrix = np.dot(B, A)\n",
        "print(f'B * A = result_matrix = {result_matrix}\\n')\n",
        "print(f'result_matrix *  C = {np.dot(result_matrix, C)}\\n')\n",
        "print(f'result_matrix * D = {np.dot(result_matrix, D)}')"
      ],
      "metadata": {
        "id": "z7-boTbhVKkj",
        "colab": {
          "base_uri": "https://localhost:8080/"
        },
        "outputId": "e1119720-d5f8-4623-e1a1-f0491955e551"
      },
      "execution_count": 4,
      "outputs": [
        {
          "output_type": "stream",
          "name": "stdout",
          "text": [
            "B * A = result_matrix = [[0.7281 0.5202]\n",
            " [0.2034 0.2846]]\n",
            "\n",
            "result_matrix *  C = [[0.5202]\n",
            " [0.2846]]\n",
            "\n",
            "result_matrix * D = [[0.5202 0.7281]\n",
            " [0.2846 0.2034]]\n"
          ]
        }
      ]
    },
    {
      "cell_type": "markdown",
      "source": [
        "\n",
        "### Завдання 4: Транспонування матриць\n",
        "1. Транспонуйте `result_matrix`.\n",
        "2. Зробіть транспонування вектора `vector` і виведіть форму нової структури. Чи бачите ви зміну?\n",
        "3. Використайте операцію `numpy.expand_dims` над вектором `vector` з аргументом axis=1. Запишіть отриманий результат в змінну `column_vector` і виведіть на екран. Порівняйте з `vector`.\n",
        "4. Зробіть транспонування `column_vector`, виведіть результат на екран разом з розмірностями отриманої структури.\n",
        "\n",
        "\n"
      ],
      "metadata": {
        "id": "wohp0_cxSGpl"
      }
    },
    {
      "cell_type": "code",
      "source": [
        "#1\n",
        "result_matrix_transpose = result_matrix.T\n",
        "print(f'транспонована result_matrix {result_matrix_transpose}')"
      ],
      "metadata": {
        "id": "4hFcq1baVLii",
        "colab": {
          "base_uri": "https://localhost:8080/"
        },
        "outputId": "8fcbadb7-e5e8-4d57-99ac-12479b0e74ae"
      },
      "execution_count": 5,
      "outputs": [
        {
          "output_type": "stream",
          "name": "stdout",
          "text": [
            "транспонована result_matrix [[0.7281 0.2034]\n",
            " [0.5202 0.2846]]\n"
          ]
        }
      ]
    },
    {
      "cell_type": "code",
      "source": [
        "#2\n",
        "vector_transpose = vector.T\n",
        "print(f'вектор {vector}\\n')\n",
        "print(f'\\\"транспонований\\\" вектор {vector_transpose}\\n')\n",
        "print('Змін немає' if np.array_equal(vector, vector_transpose) else 'Зміни є')"
      ],
      "metadata": {
        "colab": {
          "base_uri": "https://localhost:8080/"
        },
        "id": "W1S1_VgZT5jG",
        "outputId": "61c1c079-698c-40e2-9987-afd1fedbdd04"
      },
      "execution_count": 6,
      "outputs": [
        {
          "output_type": "stream",
          "name": "stdout",
          "text": [
            "вектор [0.24099676 0.87163219 0.83163454 0.05459202 0.58060477 0.22973533\n",
            " 0.32475273 0.79815388 0.45308839 0.79281994]\n",
            "\n",
            "\"транспонований\" вектор [0.24099676 0.87163219 0.83163454 0.05459202 0.58060477 0.22973533\n",
            " 0.32475273 0.79815388 0.45308839 0.79281994]\n",
            "\n",
            "Змін немає\n"
          ]
        }
      ]
    },
    {
      "cell_type": "code",
      "source": [
        "#3\n",
        "column_vector = np.expand_dims(vector, axis=1)\n",
        "print(f'вектор {vector}\\n')\n",
        "print(f'вектор - стовпець {column_vector}\\n')\n",
        "print('Змін немає' if np.array_equal(vector, column_vector) else 'Зміни є')"
      ],
      "metadata": {
        "colab": {
          "base_uri": "https://localhost:8080/"
        },
        "id": "GBbG3u3aUrRE",
        "outputId": "7c7def47-6552-43c9-c90b-a17ef5fd56c8"
      },
      "execution_count": 7,
      "outputs": [
        {
          "output_type": "stream",
          "name": "stdout",
          "text": [
            "вектор [0.24099676 0.87163219 0.83163454 0.05459202 0.58060477 0.22973533\n",
            " 0.32475273 0.79815388 0.45308839 0.79281994]\n",
            "\n",
            "вектор - стовпець [[0.24099676]\n",
            " [0.87163219]\n",
            " [0.83163454]\n",
            " [0.05459202]\n",
            " [0.58060477]\n",
            " [0.22973533]\n",
            " [0.32475273]\n",
            " [0.79815388]\n",
            " [0.45308839]\n",
            " [0.79281994]]\n",
            "\n",
            "Зміни є\n"
          ]
        }
      ]
    },
    {
      "cell_type": "code",
      "source": [
        "# 4\n",
        "column_vector_transpose = column_vector.T\n",
        "print(f'транспонований вектор-стовбець {column_vector_transpose} \\nмає розмірність {column_vector_transpose.shape}')"
      ],
      "metadata": {
        "colab": {
          "base_uri": "https://localhost:8080/"
        },
        "id": "2-8gYQjQWuHQ",
        "outputId": "7cc4294b-f037-4cad-b7c0-b81d14ef0d5b"
      },
      "execution_count": 8,
      "outputs": [
        {
          "output_type": "stream",
          "name": "stdout",
          "text": [
            "транспонований вектор-стовбець [[0.24099676 0.87163219 0.83163454 0.05459202 0.58060477 0.22973533\n",
            "  0.32475273 0.79815388 0.45308839 0.79281994]] \n",
            "має розмірність (1, 10)\n"
          ]
        }
      ]
    },
    {
      "cell_type": "code",
      "source": [
        "print(f'Початковий вектор {vector} \\nмає розмірність {vector.shape}\\n')\n",
        "print(f'вектор - стовпець {column_vector} \\nмає розмірність {column_vector.shape}\\n')\n",
        "print(f'транспонований вектор-стовбець {column_vector_transpose} \\nмає розмірність {column_vector_transpose.shape}\\n')\n",
        "print('Змін немає' if np.array_equal(vector, column_vector_transpose) else 'Зміни є')"
      ],
      "metadata": {
        "colab": {
          "base_uri": "https://localhost:8080/"
        },
        "id": "u50pGq4GYgz8",
        "outputId": "b1e8e9fd-4736-4f8d-c1d0-7ca50ab9c516"
      },
      "execution_count": 9,
      "outputs": [
        {
          "output_type": "stream",
          "name": "stdout",
          "text": [
            "Початковий вектор [0.24099676 0.87163219 0.83163454 0.05459202 0.58060477 0.22973533\n",
            " 0.32475273 0.79815388 0.45308839 0.79281994] \n",
            "має розмірність (10,)\n",
            "\n",
            "вектор - стовпець [[0.24099676]\n",
            " [0.87163219]\n",
            " [0.83163454]\n",
            " [0.05459202]\n",
            " [0.58060477]\n",
            " [0.22973533]\n",
            " [0.32475273]\n",
            " [0.79815388]\n",
            " [0.45308839]\n",
            " [0.79281994]] \n",
            "має розмірність (10, 1)\n",
            "\n",
            "транспонований вектор-стовбець [[0.24099676 0.87163219 0.83163454 0.05459202 0.58060477 0.22973533\n",
            "  0.32475273 0.79815388 0.45308839 0.79281994]] \n",
            "має розмірність (1, 10)\n",
            "\n",
            "Зміни є\n"
          ]
        }
      ]
    },
    {
      "cell_type": "markdown",
      "source": [
        "Операцію транспонування *array_name.T* некоректно використовувати для масивів що мають один вимір, як vector з розмірністю (10,). В таких випадках можна скористатися *np.expand_dims(array_name, axis=1)*.\n",
        "\n",
        "Тут вже потрібно бути уважним до появи ще одного виміру: транспонування вектора-стовбця *vector_column.T* повертає масив розмірністю (1, 10), який схожий на початковий вектор, та через різні розмірності вони не рівні.\n",
        "\n",
        "Подвійна оперція транспонування до двовимірної матриці повертає ту ж саму матрицю."
      ],
      "metadata": {
        "id": "SOKtXviFcBtR"
      }
    }
  ]
}