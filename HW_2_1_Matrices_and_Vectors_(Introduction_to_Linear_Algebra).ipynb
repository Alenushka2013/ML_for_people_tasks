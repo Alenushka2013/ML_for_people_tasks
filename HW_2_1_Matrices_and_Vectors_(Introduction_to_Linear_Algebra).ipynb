{
  "nbformat": 4,
  "nbformat_minor": 0,
  "metadata": {
    "colab": {
      "provenance": [],
      "include_colab_link": true
    },
    "kernelspec": {
      "name": "python3",
      "display_name": "Python 3"
    },
    "language_info": {
      "name": "python"
    }
  },
  "cells": [
    {
      "cell_type": "markdown",
      "metadata": {
        "id": "view-in-github",
        "colab_type": "text"
      },
      "source": [
        "<a href=\"https://colab.research.google.com/github/Alenushka2013/ML_for_people_tasks/blob/main/HW_2_1_Matrices_and_Vectors_(Introduction_to_Linear_Algebra).ipynb\" target=\"_parent\"><img src=\"https://colab.research.google.com/assets/colab-badge.svg\" alt=\"Open In Colab\"/></a>"
      ]
    },
    {
      "cell_type": "markdown",
      "source": [
        "### Завдання 1: Створення матриць та векторів\n",
        "1. Створіть `numpy` вектор `vector` розмірністю 10 з випадковими дійсними значеннями в діапазоні від 0 до 1. Можна скористатись двома альтернативними варіантами:\n",
        "  1. Генерація випадкових чисел з модулем [`random.uniform`](https://docs.python.org/3/library/random.html).\n",
        "  2. Створення вектора з допомогою метода `numpy` [np.random.rand](https://numpy.org/doc/stable/reference/random/generated/numpy.random.rand.html)\n",
        "\n",
        "2. Створіть матрицю `matrix` типу `numpy.array` розмірності 3x3 з наступними значеннями\n",
        "\n",
        "  $$\n",
        "  matrix = \\begin{bmatrix}\n",
        "  11 & 14 & 17 \\\\\n",
        "  20 & 23 & 26 \\\\\n",
        "  29 & 32 & 35\n",
        "  \\end{bmatrix}\n",
        "  $$\n",
        "\n",
        "  будь-яким відомими Вам способом.\n",
        "\n",
        "Виведіть на екран вектор і матрицю, а також їх розміри.\n"
      ],
      "metadata": {
        "id": "efug1V4CM0lT"
      }
    },
    {
      "cell_type": "code",
      "source": [
        "import numpy as np\n",
        "import random\n",
        "vector = np.array([random.uniform(0, 1) for _ in range(10)])\n",
        "matrix = np.array([[11, 14, 17], [20, 23, 26],  [29, 32, 35]])\n",
        "\n",
        "print(f'vector = {vector}')\n",
        "print(f'Розмірність вектора {vector.shape}\\n')\n",
        "\n",
        "print(f'matrix = {matrix}')\n",
        "print(f'Розмірність матриці {matrix.shape}')"
      ],
      "metadata": {
        "id": "jxA_lG2_VIMe",
        "colab": {
          "base_uri": "https://localhost:8080/"
        },
        "outputId": "4929bf2f-1c4f-4fc5-917a-b6294686048c"
      },
      "execution_count": 1,
      "outputs": [
        {
          "output_type": "stream",
          "name": "stdout",
          "text": [
            "vector = [0.39506558 0.4820626  0.2590674  0.10299911 0.85274409 0.92775437\n",
            " 0.19849794 0.97639062 0.44636303 0.68633804]\n",
            "Розмірність вектора (10,)\n",
            "\n",
            "matrix = [[11 14 17]\n",
            " [20 23 26]\n",
            " [29 32 35]]\n",
            "Розмірність матриці (3, 3)\n"
          ]
        }
      ]
    },
    {
      "cell_type": "markdown",
      "source": [
        "\n",
        "### Завдання 2: Операції над векторами та матрицями\n",
        "Виконайте кожну з зазначених операцій над зазначеними оʼєктами і виведіть результат на екран:\n",
        "1. Додайте до кожного значення вектора `vector` число 10 і округліть кожне значення до 2 знаків після коми без використання циклів.\n",
        "2. Помножте кожен елемент матриці з першого завдання на 2 без використання циклів.\n",
        "3. Створіть новий вектор, який містить квадрат кожного `vector` без циклів.\n"
      ],
      "metadata": {
        "id": "TSJ1P4OuOVe2"
      }
    },
    {
      "cell_type": "code",
      "source": [
        "print(f'vector * 2 = {(vector * 2).round(2)}\\n')\n",
        "print(f'matrix * 2 = {matrix * 2}\\n')\n",
        "vector_square = vector ** 2\n",
        "print(f'Квадрат вектора = {vector_square}')"
      ],
      "metadata": {
        "id": "nAAojtyUVJXN",
        "colab": {
          "base_uri": "https://localhost:8080/"
        },
        "outputId": "c63129ea-50da-4eb3-e2ab-aea710359b2f"
      },
      "execution_count": 2,
      "outputs": [
        {
          "output_type": "stream",
          "name": "stdout",
          "text": [
            "vector * 2 = [0.79 0.96 0.52 0.21 1.71 1.86 0.4  1.95 0.89 1.37]\n",
            "\n",
            "matrix * 2 = [[22 28 34]\n",
            " [40 46 52]\n",
            " [58 64 70]]\n",
            "\n",
            "Квадрат вектора = [0.15607681 0.23238435 0.06711592 0.01060882 0.72717249 0.86072818\n",
            " 0.03940143 0.95333864 0.19923996 0.4710599 ]\n"
          ]
        }
      ]
    },
    {
      "cell_type": "markdown",
      "source": [
        "\n",
        "### Завдання 3: Множення матриць\n",
        "1. Задані дві матриці `A` і `B`розмірностями 3x2 та 2х3. Виконайте їхнє множення, щоб отримати матрицю 2x2. Виведіть результуючу матрицю `result_matrix` на екран.\n",
        "\n",
        "2. Заданий вектор `C` розмірністю 2х1. Подумайте спочатку, яку розмірність Ви отрмаєте, коли домножите `result_matrix` на вектор `C` і який результат буде. А потім виконайте множення і виведіть результат на екран.\n",
        "\n",
        "3. Задана матриця `D` розмірністю 2х2. Подумайте спочатку, яку розмірність Ви отрмаєте, коли домножите `result_matrix` на матрицю `D` і який результат буде. А потім виконайте множення і виведіть результат на екран."
      ],
      "metadata": {
        "id": "u6RvWVfhPy-k"
      }
    },
    {
      "cell_type": "code",
      "source": [
        "A = np.array(\n",
        "    [[0.18, 0.53],\n",
        "     [0.75, 0.47],\n",
        "     [0.35, 0.21]])\n",
        "\n",
        "B = np.array(\n",
        "    [[0.17, 0.58, 0.75],\n",
        "     [0.38, 0.11, 0.15]])\n",
        "\n",
        "C = np.array([[0], [1]])\n",
        "\n",
        "D = np.array([[0,1], [1,0]])\n",
        "\n",
        "display(A, B, C, D)"
      ],
      "metadata": {
        "id": "RwXfPzlbSJ44",
        "colab": {
          "base_uri": "https://localhost:8080/",
          "height": 173
        },
        "outputId": "354c408f-f6dd-4a4f-d957-b9e9e80ec88d"
      },
      "execution_count": 3,
      "outputs": [
        {
          "output_type": "display_data",
          "data": {
            "text/plain": [
              "array([[0.18, 0.53],\n",
              "       [0.75, 0.47],\n",
              "       [0.35, 0.21]])"
            ]
          },
          "metadata": {}
        },
        {
          "output_type": "display_data",
          "data": {
            "text/plain": [
              "array([[0.17, 0.58, 0.75],\n",
              "       [0.38, 0.11, 0.15]])"
            ]
          },
          "metadata": {}
        },
        {
          "output_type": "display_data",
          "data": {
            "text/plain": [
              "array([[0],\n",
              "       [1]])"
            ]
          },
          "metadata": {}
        },
        {
          "output_type": "display_data",
          "data": {
            "text/plain": [
              "array([[0, 1],\n",
              "       [1, 0]])"
            ]
          },
          "metadata": {}
        }
      ]
    },
    {
      "cell_type": "code",
      "source": [
        "result_matrix = np.dot(B, A)\n",
        "print(f'B * A = result_matrix = {result_matrix}\\n')\n",
        "print(f'result_matrix *  C = {np.dot(result_matrix, C)}\\n')\n",
        "print(f'result_matrix * D = {np.dot(result_matrix, D)}')"
      ],
      "metadata": {
        "id": "z7-boTbhVKkj",
        "colab": {
          "base_uri": "https://localhost:8080/"
        },
        "outputId": "d94f230f-5324-4164-ddcd-f20b0cb27180"
      },
      "execution_count": 4,
      "outputs": [
        {
          "output_type": "stream",
          "name": "stdout",
          "text": [
            "B * A = result_matrix = [[0.7281 0.5202]\n",
            " [0.2034 0.2846]]\n",
            "\n",
            "result_matrix *  C = [[0.5202]\n",
            " [0.2846]]\n",
            "\n",
            "result_matrix * D = [[0.5202 0.7281]\n",
            " [0.2846 0.2034]]\n"
          ]
        }
      ]
    },
    {
      "cell_type": "markdown",
      "source": [
        "\n",
        "### Завдання 4: Транспонування матриць\n",
        "1. Транспонуйте `result_matrix`.\n",
        "2. Зробіть транспонування вектора `vector` і виведіть форму нової структури. Чи бачите ви зміну?\n",
        "3. Використайте операцію `numpy.expand_dims` над вектором `vector` з аргументом axis=1. Запишіть отриманий результат в змінну `column_vector` і виведіть на екран. Порівняйте з `vector`.\n",
        "4. Зробіть транспонування `column_vector`, виведіть результат на екран разом з розмірностями отриманої структури.\n",
        "\n",
        "\n"
      ],
      "metadata": {
        "id": "wohp0_cxSGpl"
      }
    },
    {
      "cell_type": "code",
      "source": [
        "#1\n",
        "result_matrix_transpose = result_matrix.T\n",
        "print(f'транспонована result_matrix {result_matrix_transpose}')"
      ],
      "metadata": {
        "id": "4hFcq1baVLii",
        "colab": {
          "base_uri": "https://localhost:8080/"
        },
        "outputId": "41a02d7b-30b0-46ff-8ba2-2e9b8fd9b039"
      },
      "execution_count": 5,
      "outputs": [
        {
          "output_type": "stream",
          "name": "stdout",
          "text": [
            "транспонована result_matrix [[0.7281 0.2034]\n",
            " [0.5202 0.2846]]\n"
          ]
        }
      ]
    },
    {
      "cell_type": "code",
      "source": [
        "#2\n",
        "vector_transpose = vector.T\n",
        "print(f'вектор {vector}\\n')\n",
        "print(f'\\\"транспонований\\\" вектор {vector_transpose}\\n')\n",
        "print('Змін немає' if np.array_equal(vector, vector_transpose) else 'Зміни є')"
      ],
      "metadata": {
        "colab": {
          "base_uri": "https://localhost:8080/"
        },
        "id": "W1S1_VgZT5jG",
        "outputId": "2f493b55-c6cb-48a2-9a4f-09e35b02bfea"
      },
      "execution_count": 6,
      "outputs": [
        {
          "output_type": "stream",
          "name": "stdout",
          "text": [
            "вектор [0.39506558 0.4820626  0.2590674  0.10299911 0.85274409 0.92775437\n",
            " 0.19849794 0.97639062 0.44636303 0.68633804]\n",
            "\n",
            "\"транспонований\" вектор [0.39506558 0.4820626  0.2590674  0.10299911 0.85274409 0.92775437\n",
            " 0.19849794 0.97639062 0.44636303 0.68633804]\n",
            "\n",
            "Змін немає\n"
          ]
        }
      ]
    },
    {
      "cell_type": "code",
      "source": [
        "#3\n",
        "column_vector = np.expand_dims(vector, axis=1)\n",
        "print(f'вектор {vector}\\n')\n",
        "print(f'вектор - стовпець {column_vector}\\n')\n",
        "print('Змін немає' if np.array_equal(vector, column_vector) else 'Зміни є')"
      ],
      "metadata": {
        "colab": {
          "base_uri": "https://localhost:8080/"
        },
        "id": "GBbG3u3aUrRE",
        "outputId": "625b22ac-9efc-4601-d2d6-f580c9b3a09b"
      },
      "execution_count": 7,
      "outputs": [
        {
          "output_type": "stream",
          "name": "stdout",
          "text": [
            "вектор [0.39506558 0.4820626  0.2590674  0.10299911 0.85274409 0.92775437\n",
            " 0.19849794 0.97639062 0.44636303 0.68633804]\n",
            "\n",
            "вектор - стовпець [[0.39506558]\n",
            " [0.4820626 ]\n",
            " [0.2590674 ]\n",
            " [0.10299911]\n",
            " [0.85274409]\n",
            " [0.92775437]\n",
            " [0.19849794]\n",
            " [0.97639062]\n",
            " [0.44636303]\n",
            " [0.68633804]]\n",
            "\n",
            "Зміни є\n"
          ]
        }
      ]
    },
    {
      "cell_type": "code",
      "source": [
        "# 4\n",
        "column_vector_transpose = column_vector.T\n",
        "print(f'транспонований вектор-стовбець {column_vector_transpose} \\nмає розмірність {column_vector_transpose.shape}')"
      ],
      "metadata": {
        "colab": {
          "base_uri": "https://localhost:8080/"
        },
        "id": "2-8gYQjQWuHQ",
        "outputId": "fd6a6db7-bcb7-4c02-82b8-76043c2cf760"
      },
      "execution_count": 8,
      "outputs": [
        {
          "output_type": "stream",
          "name": "stdout",
          "text": [
            "транспонований вектор-стовбець [[0.39506558 0.4820626  0.2590674  0.10299911 0.85274409 0.92775437\n",
            "  0.19849794 0.97639062 0.44636303 0.68633804]] \n",
            "має розмірність (1, 10)\n"
          ]
        }
      ]
    },
    {
      "cell_type": "code",
      "source": [
        "print(f'Початковий вектор {vector} \\nмає розмірність {vector.shape}\\n')\n",
        "print(f'вектор - стовпець {column_vector} \\nмає розмірність {column_vector.shape}\\n')\n",
        "print(f'транспонований вектор-стовбець {column_vector_transpose} \\nмає розмірність {column_vector_transpose.shape}\\n')\n",
        "print('Змін немає' if np.array_equal(vector, column_vector_transpose) else 'Зміни є')"
      ],
      "metadata": {
        "colab": {
          "base_uri": "https://localhost:8080/"
        },
        "id": "u50pGq4GYgz8",
        "outputId": "f1fceef7-4288-4c4b-faa1-642680f507a4"
      },
      "execution_count": 9,
      "outputs": [
        {
          "output_type": "stream",
          "name": "stdout",
          "text": [
            "Початковий вектор [0.39506558 0.4820626  0.2590674  0.10299911 0.85274409 0.92775437\n",
            " 0.19849794 0.97639062 0.44636303 0.68633804] \n",
            "має розмірність (10,)\n",
            "\n",
            "вектор - стовпець [[0.39506558]\n",
            " [0.4820626 ]\n",
            " [0.2590674 ]\n",
            " [0.10299911]\n",
            " [0.85274409]\n",
            " [0.92775437]\n",
            " [0.19849794]\n",
            " [0.97639062]\n",
            " [0.44636303]\n",
            " [0.68633804]] \n",
            "має розмірність (10, 1)\n",
            "\n",
            "транспонований вектор-стовбець [[0.39506558 0.4820626  0.2590674  0.10299911 0.85274409 0.92775437\n",
            "  0.19849794 0.97639062 0.44636303 0.68633804]] \n",
            "має розмірність (1, 10)\n",
            "\n",
            "Зміни є\n"
          ]
        }
      ]
    },
    {
      "cell_type": "markdown",
      "source": [
        "Операцію транспонування *array_name.T* некоректно використовувати для масивів що мають один вимір, як vector з розмірністю (10,). В таких випадках можна скористатися *np.expand_dims(array_name, axis=1)*.\n",
        "\n",
        "Тут вже потрібно бути уважним до появи ще одного виміру: транспонування вектора-стовбця *vector_column.T* повертає масив розмірністю (1, 10), який схожий на початковий вектор, та через різні розмірності вони не рівні.\n",
        "\n",
        "Подвійна оперція транспонування до двовимірної матриці повертає ту ж саму матрицю."
      ],
      "metadata": {
        "id": "SOKtXviFcBtR"
      }
    }
  ]
}