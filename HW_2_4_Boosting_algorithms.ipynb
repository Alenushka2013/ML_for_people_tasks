{
  "nbformat": 4,
  "nbformat_minor": 0,
  "metadata": {
    "colab": {
      "provenance": [],
      "gpuType": "T4",
      "include_colab_link": true
    },
    "kernelspec": {
      "name": "python3",
      "display_name": "Python 3"
    },
    "language_info": {
      "name": "python"
    },
    "accelerator": "GPU"
  },
  "cells": [
    {
      "cell_type": "markdown",
      "metadata": {
        "id": "view-in-github",
        "colab_type": "text"
      },
      "source": [
        "<a href=\"https://colab.research.google.com/github/Alenushka2013/ML_for_people_tasks/blob/main/HW_2_4_Boosting_algorithms.ipynb\" target=\"_parent\"><img src=\"https://colab.research.google.com/assets/colab-badge.svg\" alt=\"Open In Colab\"/></a>"
      ]
    },
    {
      "cell_type": "markdown",
      "source": [
        "В цьому домашньому завданні ми знову працюємо з даними з нашого змагання [\"Bank Customer Churn Prediction (DLU Course)\"](https://www.kaggle.com/t/7c080c5d8ec64364a93cf4e8f880b6a0).\n",
        "\n",
        "Тут ми побудуємо рішення задачі класифікації з використанням алгоритмів бустингу: XGBoost та LightGBM, а також використаємо бібліотеку HyperOpt для оптимізації гіперпараметрів."
      ],
      "metadata": {
        "id": "fDefDHQt8LXC"
      }
    },
    {
      "cell_type": "markdown",
      "source": [
        "0. Зчитайте дані `train.csv` в змінну `raw_df` та скористайтесь наведеним кодом нижче аби розділити дані на трнувальні та валідаційні і розділити дані на ознаки з матириці Х та цільову змінну. Назви змінних `train_inputs, train_targets, train_inputs, train_targets` можна змінити на ті, які Вам зручно.\n",
        "\n",
        "  Наведений скрипт - частина отриманого мною скрипта для обробки даних. Ми тут не викнуємо масштабування та обробку категоріальних змінних, бо хочемо це делегувати алгоритмам, які будемо використовувати. Якщо щось не розумієте в наведених скриптах, рекомендую розібратись: навичка читати код - важлива складова роботи в машинному навчанні."
      ],
      "metadata": {
        "id": "LhivzW9W8-Dz"
      }
    },
    {
      "cell_type": "code",
      "source": [
        "import pandas as pd\n",
        "import numpy as np\n",
        "import seaborn as sns\n",
        "import matplotlib.pyplot as plt\n",
        "from sklearn.model_selection import train_test_split\n",
        "from typing import Tuple, Dict, Any\n",
        "\n",
        "\n",
        "def split_train_val(df: pd.DataFrame, target_col: str, test_size: float = 0.2, random_state: int = 42) -> Tuple[pd.DataFrame, pd.DataFrame]:\n",
        "    \"\"\"\n",
        "    Split the dataframe into training and validation sets.\n",
        "\n",
        "    Args:\n",
        "        df (pd.DataFrame): The raw dataframe.\n",
        "        target_col (str): The target column for stratification.\n",
        "        test_size (float): The proportion of the dataset to include in the validation split.\n",
        "        random_state (int): Random state for reproducibility.\n",
        "\n",
        "    Returns:\n",
        "        Tuple[pd.DataFrame, pd.DataFrame]: Training and validation dataframes.\n",
        "    \"\"\"\n",
        "    train_df, val_df = train_test_split(df, test_size=test_size, random_state=random_state, stratify=df[target_col])\n",
        "    return train_df, val_df\n",
        "\n",
        "\n",
        "def separate_inputs_targets(df: pd.DataFrame, input_cols: list, target_col: str) -> Tuple[pd.DataFrame, pd.Series]:\n",
        "    \"\"\"\n",
        "    Separate inputs and targets from the dataframe.\n",
        "\n",
        "    Args:\n",
        "        df (pd.DataFrame): The dataframe.\n",
        "        input_cols (list): List of input columns.\n",
        "        target_col (str): Target column.\n",
        "\n",
        "    Returns:\n",
        "        Tuple[pd.DataFrame, pd.Series]: DataFrame of inputs and Series of targets.\n",
        "    \"\"\"\n",
        "    inputs = df[input_cols].copy()\n",
        "    targets = df[target_col].copy()\n",
        "    return inputs, targets"
      ],
      "metadata": {
        "id": "cKE8RTPf6CRD"
      },
      "execution_count": 1,
      "outputs": []
    },
    {
      "cell_type": "code",
      "source": [
        "raw_df = pd.read_csv('https://raw.githubusercontent.com/Alenushka2013/Coursera/refs/heads/master/Datasets/bank-customer-churn-prediction.csv', index_col=0)\n",
        "X_test = pd.read_csv('/content/test.csv', index_col=0).iloc[:, 2:]\n",
        "train_df, val_df = split_train_val(raw_df.iloc[:, 2:], 'Exited')\n",
        "X_train, train_targets = separate_inputs_targets(train_df, train_df.columns[:-1], train_df.columns[-1])\n",
        "X_val, val_targets = separate_inputs_targets(val_df, val_df.columns[:-1], val_df.columns[-1])"
      ],
      "metadata": {
        "id": "-bHdMJVB4xQR"
      },
      "execution_count": 2,
      "outputs": []
    },
    {
      "cell_type": "markdown",
      "source": [
        "1. В тренувальному та валідаційному наборі перетворіть категоріальні ознаки на тип `category`. Можна це зробити двома способами:\n",
        " 1. `df[col_name].astype('category')`, як було продемонстровано в лекції\n",
        " 2. використовуючи метод `pd.Categorical(df[col_name])`"
      ],
      "metadata": {
        "id": "cq0JU7MqHgp_"
      }
    },
    {
      "cell_type": "code",
      "source": [
        "cat_features = X_train.select_dtypes(include='object').columns\n",
        "X_train[cat_features] = X_train[cat_features].astype('category')\n",
        "X_val[cat_features] = X_val[cat_features].astype('category')\n",
        "X_test[cat_features] = X_test[cat_features].astype('category')"
      ],
      "metadata": {
        "id": "UPmqo-Mr4yUO"
      },
      "execution_count": 3,
      "outputs": []
    },
    {
      "cell_type": "markdown",
      "source": [
        "2. Навчіть на отриманих даних модель `XGBoostClassifier`. Параметри алгоритму встановіть на свій розсуд, ми далі будемо їх тюнити. Рекомендую тренувати не дуже складну модель.\n",
        "\n",
        "  Опис всіх конфігураційних параметрів XGBoostClassifier - тут https://xgboost.readthedocs.io/en/stable/parameter.html#global-config\n",
        "\n",
        "  **Важливо:** зробіть такі налаштування `XGBoostClassifier` аби він самостійно обробляв незаповнені значення в даних і обробляв категоріальні колонки.\n",
        "\n",
        "  Можна також, якщо працюєте в Google Colab, увімкнути можливість використання GPU (`Runtime -> Change runtime type -> T4 GPU`) і встановити параметр `device='cuda'` в `XGBoostClassifier` для пришвидшення тренування бустинг моделі.\n",
        "  \n",
        "  Після тренування моделі\n",
        "  1. Виміряйте точність з допомогою AUROC на тренувальному та валідаційному наборах.\n",
        "  2. Зробіть висновок про отриману модель: вона хороша/погана, чи є high bias/high variance?\n",
        "  3. Порівняйте якість цієї моделі з тою, що ви отрмали з використанням DecisionTrees раніше. Чи вийшло покращити якість?"
      ],
      "metadata": {
        "id": "_LxWkv4o-wMe"
      }
    },
    {
      "cell_type": "code",
      "source": [
        "from xgboost import XGBClassifier\n",
        "from sklearn.metrics import classification_report,  roc_auc_score\n",
        "\n",
        "xgb_clf = XGBClassifier(\n",
        "    max_depth=3,\n",
        "    n_estimators=10,\n",
        "    enable_categorical=True,  # для категорійних ознак\n",
        "    device='cuda'\n",
        ")\n",
        "\n",
        "xgb_clf.fit(X_train, train_targets)\n",
        "\n",
        "train_proba = xgb_clf.predict_proba(X_train)[:, 1]\n",
        "val_proba = xgb_clf.predict_proba(X_val)[:, 1]\n",
        "\n",
        "print('Train AUROC', round(roc_auc_score(train_targets, train_proba), 5))\n",
        "print('Validation AUROC', round(roc_auc_score(val_targets, val_proba), 5))\n"
      ],
      "metadata": {
        "id": "_5rDqdDP41hb",
        "colab": {
          "base_uri": "https://localhost:8080/"
        },
        "outputId": "05ebac6a-e562-436b-81ea-ab832306d902"
      },
      "execution_count": 28,
      "outputs": [
        {
          "output_type": "stream",
          "name": "stdout",
          "text": [
            "Train AUROC 0.93296\n",
            "Validation AUROC 0.93262\n"
          ]
        }
      ]
    },
    {
      "cell_type": "markdown",
      "source": [
        "![image.png](data:image/png;base64,iVBORw0KGgoAAAANSUhEUgAABJYAAAE/CAIAAACb3t6lAAAgAElEQVR4Aeyd+09bV7r3z7/R34xklEiRQEWiHaQ4sgoNICIjIVnqgaEjZ9BgUUUWNCk1aSMQokBluRVJ2oRQetyggeMqGRJEKBW3E4SVDgOjXJimGGUgREGxQjo7TPIa1Zn1at22t+1tY7uhBvJFKN6XdXnWZ23a/fXzrGf9F8EPCIAACIAACIAACIAACIAACOwAAv/5DwmFSDBInj9/Cb///jfZ+DfZeEb+/f/I881f/Rv8T/D5L6GNZ/9RnpKnT8nGRmZ+nz//rx0wUzABBEAABEAABEAABEAABEAABASB//yH7NjfnWAZJBz+VEAABEAABEAABEAABEAABEBg1xCAhNs1UwVDQQAEQAAEQAAEQAAEQAAEQAASDs8ACIAACIAACIAACIAACIAACOwaApBwu2aqYCgIgAAIgAAIgAAIgAAIgAAIQMLhGQABEAABEAABEAABEAABEACBXUMAEm7XTBUMBQEQAAEQAAEQAAEQAAEQAAFIODwDIAACIAACIAACIAACIAACILBrCEDC7ZqpgqEgAAIgAAIgAAIgAAIgAAIgAAmHZwAEQAAEQAAEQAAEQAAEQAAEdg0BSLhdM1UwFARAAARAAARAAARAAARAAAQg4fAMgAAIgAAIgAAIgAAIgAAIgMCuIQAJt2umCoaCAAiAAAiAAAiAAAiAAAiAACQcngEQAAEQAAEQAAEQAAEQAAEQ2DUEIOF2zVTBUBAAARAAARAAARAAARAAARCAhMMzAAIgAAIgAAIgAAIgAAIgAAK7hgAk3K6ZKhgKAiAAAiAAAiAAAiAAAiAAApBweAZAYNcSUJYmhkdHbgX0B7C2MDI8OvGTon8XV0EABEAABEAABEAABHYnAUi41OctqASUYOrVNDWeKcozzSkOQSAdAsGJhjxDVt4pX5zKz0bt2UZDbvNMKE4BXAYBEAABEAABEAABENiFBF4VCReYPNvodDb2L/zqOZpve8NoyDK70m4p4LVlGw3ZdSNQcclMxoKXTlzXZBxPUzJN7Joyd/qdjU7nQJKP1trFiqxIhfZk3tNKW1Cf85mP8gxZRvvwr/vGYdfwg6EgAAIgAAIgAAIg8EoQSEXCvdh8tDT+pff9t1uLDB++/toH7PfDQ7mtf/i995vhpcfBFzsX2f3zFkOW0dAw+atNXO22GA37awbW0m3p2WTjG0ZDQfvc9vhGZlrNJpPZ1rearn07rN5YPZ24sp77O8yu7TBnosFoyDI6xpJqO9Bfbcgy5jTP89LKZHvRflo94jn3NedkGQ2V3ldBACdFDYVAAARAAARAAARAYPcTSE7C/fJg7Mr7uU1StnHxFvtv05E/Xple+WUnUnl5Em4njk5rE5cBZech4bRUdsdxKhIuOGhneu87NrRJJ1VuBfUuZ3GEhAuNOqioqx/Znu8LdgdWWAkCIAACIAACIAACe4vA1hLu0WzHoS3Fm1bONVU0zD7eRkohZa7PWVlMfU2mijrX8KqIElu9aDOZTab2Gdn3/b4a1R+lSjhlvsdO6xZXto7el/FlasnAd80VtBFrm08hRJnrq2enxfbz8zIphK+NFqjxSImkzF5srC6mxpisdne4TZK0ncHlUZfdqtMCH5Ht4v0n89122kVRdfvIsjRaDlPzueqxmXO4Kya3gBsph7bk/5aORXjnNLYVVbcPRGa80NrjOO8LbPX2v2UXEdNEOMD2meDqyEds1BX1nllJlw4meH+4nc0vwx7jhQsDL65u7JtXpHnSjNUkJlHDLPJQM/biSufFuSea28HVEXcdex7MFQ09M1o3rIan7mAnnky66EMiHk5NLxHPjJRwwfvD4jl0aAaoMYUQMn8q12jIsnTz53DMWeQcDYSI+pzLwsxpnGV23ZIXYj7jGUMICaPWPNt3uiwmk7nivCbcc81rN5lNRc0TCZ7NmH5xAQRAAARAAARAAARAID0CCSXci6djAxUiYJKLtNY/NYyM3w48VlRX2y9PHwV+HB5psbb+TlvyzYFpZVviKoMTzgLqZ8gtrrRXF9G3WGPZ+SU6+OWeMuZwmJAk+Oss90eJV9syS1n2gRxTQU42izcrdt9hAoDfLaqszs/Oy887QNvPrnO5LQb1NMtY2c+D0SaZW8PSvUy7CU4682nhvKLqusoiuu7IYOnx0zaTtTM42ZzPjMkpMOez4RjeqJ/gioaPqLjObjYacvOEzdnV8WM49SQciyClQ2MhdozGqsfKxkhlHkdR4BgTIkracyDHZDZxFGJEEmvMZ5ie2kVoiYab0mkqMJmEqiz7iqsNDrDGbjca9ucJwZlVcGpWtHvHzfxIWcacAmpbmYVFwMpAyvv/Y91He6HmibrSvLAZ6qzFncSYMfALyz1ldC4O5FTU2SvyaEfqXDybPFVAR7Qvz2wysVvZlm723JGtB2utrGQ0suon6DMTd8a5hLPZ66gNHH6WMV+GSkYYHfBWap92VcfGBAzzNu1X9dVVAmPiPtsLblOW0WBy35EGBfqsNKTzo3hpVWQ5fIIACIAACIAACIAACLwMAvEl3IvHly8UhVVZZ8efV54m7lFZ+UtDWzjYct+Fa49evorjAkAGhimTbfb6tq+YiywZCZdlOf0Te5cNzreZ6Vt1RR8VZkLgyfd1/xdMNuTWjzBdc/8r+oZqsPDlWBESTrhNeDAbUSZa6xytPcx1k6SdCy5qRp5jmCsoZaKBClTxNixGJO8Gl06XUZulFtKfDW6SGkgphpZtcUlPV3C4jnbhGBX+qyWmW0TeQm6PpESEPZySfn8qPU0X5MnkaWddRcNV0cV8u+aln5MxlnUt0ZkIKSMOJn2dbJkiT9GRZW6b59MkhizWwvEUi+okSu2U+iTqD0WIwC+4MiP+r+rtTjd3e95xmyl5bjMhylg9lcTWi/TpSWKw+e95pctXf8ZNburU4nNnKDvrZ6NXhuvpSrZsp/qtRNhu/mxIZateF9OtWfPp/4JKYvV5UEuyg62Nceg827yW6tkLeKz0GVZFeGQXOAMBEAABEAABEAABEHjJBOJJuKdjX4f1WwoutUjH3b6vp4Vz56WZzePHCmzu0TurSlA6H2jzyUg4jTOCZ4MwOEbDEk598eXBe+ppxOtyhISba6byI9/mHrm1GrlPQHJ2Lp0tinRoiFHkNs9tNaJ4RPUlHBsmrzLioI6mxuGA/Fn1VBsNWcWnlwjh9lScvSPvBSabqVbRVI/tV8gG3TJBJRAI+K/WUwnHfFCERACkrWlpf8eSl2jSbwSvUsEpJBy/q5lEUZeVj1Yv2mZVmDGaRzsc8UgUOT2+pch9I5ZOFxsNWdbTC2Eup2hiUvlVAm8l7mAZW14mdsY1e1REzZ1kRX130T8Rz2T4ZjQEKbD1JVxCY+I/24S73UyfslhKrrrNYadc2BocgQAIgAAIgAAIgAAIbAMBfQmnzDYZ5PK2t0fupdrv4sh/S/fdobrZLXx3qTau+DSZ92jMW/MIX5WUhITLbxfp+2inmkVW0S++id7+IxWI4msrZkGJLIZwX5711Hci+V9SdmpskBx4++ytPeGIZPnozygZED00strNXHlUF0X+0kSI3J7I62EFFd2VOI/pgq6imuurL+NxodSPFA4jlLJERKLSJjS0dZqab6cakkkvnbsaJRN9V9Ms7UVTMs44CAktDdSwMF1OIFddA8knJZoYXYpG42lTH2wcJRk1d5JVfAnHpb5mPNEQCJlwxvfc6jx+mrbiP9uEyzYWSynkHPMiairjEARAAARAAARAAARAYLsI6Em459N1H4t4yDcv/5hez4vDUsV93DT2PL024tcKBZWffIPn2+1cPr3RTBP0JxQ8sa+2ROPwib6b6O0/UsIxG4NPlmYu97TZi9kyrfCyLrKlnbfYsqLis351rNo1TglHpNaIOoiSAdFDIzyTYcGpSdWhJA7oduXcnuqL96NuPmGBfVE9ydOYLgiP1TQU1LiGF+5Tf5ZGlyb0wmldo6J5jcwQHjmtu2+WJc3XFXiJJlGarvcZVFbvTF50Oar5GkW2BnLBZTIasqo9y1FcqB84tcHGzrjGhqi5SyThBMa6wcjdBWPmIjDAluE16u6mkdAYblecZ5s/RWbXLd6+1aNN7qIZEQ5BAARAAARAAARAAAReOgEdCbd45YjwoXX2LKa9mO3Fvc87pQ68kqYO1Bnt2sLI5Z62PpkNT+RM584QIa5oQCD9UXjWdR5CJl5t5fI29S5fgxT94pvo7V8r4QJ3hq92t17kOVEIISxGka07SmCnVpiFJh3UQ2WRNhOFxw3ySEJtSTYkbqd+UBwftFxPpZaJHhohfFmXiIJjoOaGr07cCtCoVL7YLLtuUI1/XfINDvv8VN7F/Yntgl8J7yjN18IlE0jJU2WEDZAr5bjbigMJTyK58yldosb3Ros2I9Ek6o4l6J8e9bjdE1KN8FVkbC/B4Mh71Jdlvyq5hJZmLo/O/ES5pDbY2Bn/tmZfnsgUmoqEE9osahO5aAiiO43SC67OTC6INYqJjIn/bDN4XLiWfeq2Y9853acJF0EABEAABEAABHY2gSc/KzM/zI3/ny/J35kf5p78LF8FMz20GAn34q9NwgVX1HQ3Rev+ffPLEc3it7sd+3g05scd02lLwSgTREKLgorWiyPDox6+C5ZYhxMYsLFQt/3mSkd9pflAWRnNSqKVcDlmc35BtcPpdFSyeDmZ3TH6xTfR279Wwok3+/yKds/w6Eifs4jqMbNrQWqhLD07I4WZn6cQfMPaeP6qp5V7fqQfL7KkumZPlWdRbPjp/a9YLpaimkZnz9wzmalFXddHte2kg67jOlDU0DM4fLXbwTJAytA+YU9BdVvf6EhfewUtmecYS03CBb6toeGXRU6K5bLbxnI5JrUWjghlYpDTlG8205QewjyRXsVQVOPqu9rdwNye6UyiLjkhbg1F9d2Xmdl07EYhRHnSl+yCSvrgXWyrYFlnGiaDhKQ2WEIE4f3FjvCMi9QgqUg4sSAtKg+k/pMcXlso8PJvLkgiY+I/2xwel38sRDas1fW54ioIgAAIgAAIgAAI7DgC8zfvJCne1GIzP9BsFTvhJ0bC/b1JuOA+/99HKRn475sdLup2y/1GVXGPv/5cOOLq/p5SW4kKB3+6aDeHl5/lWNon1M27wqt3DpgargZYqKRWwpWdn59p5eGORkNutUtu9qb/4qvKHi6lhIrQSjhCgkseu5nFTzL1mGtpmxTqPK6d0cJMmTtfZ+KbudEs/OEWEoeGxmX0bOE03zOAJQmMHhqvtjZ6ysLyQLJFXzmW9pnwdwqR9uw32/uFWzNejzpdhAKDDrmobL/51JiXbzDN0nJEAoxcC0e7UOZdlcK2fcXtM/NsrwipMEkoMPKRReyvkGXcZ67z8BSj0hvGnGbM0kQ6PM5QQspEa7hxw36zvY+lzWTF6Y6C4QfvgMnuZbtHEJLSYNkII2a8oKZbPocpSTjpMq2f0CT1iZwL6TwcVhW42OtC7pDBFvJpHz+NMQmebY5v5iM2Tdl1I5HBnHHg4jIIgAAIgAAIgAAI7CACXJglb1Cq5ZNvOY2S0RLubwOHuIQ7NPIgheakfqN1PzzS8o9NXndF5jUxDNxMobVkij6jqQ714/uCwYhMlbGtPVMCCRd3xdbY4kqI5SLUtSaBnRGNxm8hopg4EW/q0XlHNHkvgoquORGNJbKN2aOhtHWPEU2zE9p+ZNbQ2DLxriSeIwY8MgVovIZir3MNySS3BqDGtxk9dm0TYp40qkncTXmwqc241gb1mMeRhsM71Rv8QM0VGWlt8Jmq6NQK8Y1J8GyrtXEAAiAAAiAAAiAQh0BwebLbWV1kMptMVrt7VG4yFKf0k3mPKFxc6eyZWI78X3ZIufOt215hNpnMRdX1ruHViNuJ75Lg/WFR11RR5/pWrqpQDXm2NOKuryymjVfY3QML4W/31SJ77CBVSZZq+W3FFSXhHnzJPGmvfXCk459J9xuh34oa/q5JQfnPM7k8ltL1zUrS7aHglgQCk2cbnc6YX6+62/KWLaRa4LfvMVULky6/MKCDznl6UqQSTbqdHVAwsb7iugwush0wUTABBEAABEDg1SSgjDl5drRwGvA3agbihTfxVRua75cN2QWNY1JKhZa6RZhV+GvofJv3Pieb+K7c6TdsRpZxn7VHxBMRQpZ6KtSIMGlA2fl4hu6RyUxVkqVaflsxRUm4m3Ih3PuXI9NILt69qeiuZ0ug3wghz6/9Xi6H+9u2jgONgwAIgAAIgAAIgAAIgMDOIfBs0sE3WLK4Z1YDgZ+8drbM3hBeo661dcFlZtrM4p5ZU5QnSwPvsTUpufUT7NtYkQE72+LyrdJNd7+to7suyUX7Sd3NKrB/u6Qoyn2fu4ytZpchSGLlhaGsfSYQJKHgnS9YYoWs6oFd+P22lmni41QlWarlE/f+K+9GSbjpOrEdXNOYpuHFqWP7Pnh939fj0SousX6jLeg3qGkbhyAAAiAAAiAAAiAAAiCw1wiIzZCyNFvv+NhmSDz1XdRwl84WUUmm2Tj32VWa9pkmxKbxknyjV0N4ayWx0y+XYYnv8pTp4XwBROT0NrAtXoncNFgqOkIUr412nXdqNsrKPXWaqiRLtfy2wtpawgX/0SGCIaNU3Nb6DRJuW+cOjYMACIAACIAACIAACOxQAkJWWXpErCMhROyGZdTkFZPG861uIxxf86eYE49vniTLqZ9801q9pmgR7V2Rj1rbjtiJV3Y318o8fhYRWqkM19N84NIBqHa5xw5SlWSplt9WXFESTj+QclFmJXlNVXFJ6TcEUm7r3KFxEAABEAABEAABEACBnUkgyDco1vq+CFk6XUwda2F/l2p7wFvJfG5lX8gNjrmOyjJGtiAqyF2pnDzMUm2GH0TdnWtmSaTVnXWDS6fLWNCm6vRTM37vzzMV0MI5ReGk31GN75nTVCVZquW3FVSUhIubziRCxV040ySynrz+2oeR+UuijEU6kyggOAUBEAABEAABEAABENj7BFa7LUwmqZtU0SFHRD9GMZhrFhsy7cszUx2VbSnjQiuiBUJI0M/XqmUXt81G5KRkDerdXfNWssVvhuy8fJM5Z78x32IxaeM2I7ebollPkthWKsr+XXeaqiRLtfy2AomScCTBpgJaFSf2jkus3wjZxk0FtpUKGgcBEAABEAABEAABEACBX0GAb/cambxkspHnEflqVa9hujdvEQ+eLKrrng9wP57p0wVNYWXuU5ZrRJusMnw7/t210VMVeXQr4/15FR+NBubdTMLVDT4jJCQyqeS/5+V7Hijf1bNcKQWNk7ESMdzZbj9KVZKlWn5b+URLOJJwa+8IFbeVfiNkW7b23lYcaBwEQAAEQAAEQAAEQAAEfj0Bsadudv2EukHrAhdOemlC+EZB2k2PQ5MOpvcc4RyDyoSTeeqyi0/55GYDYUPj3mXbDAW0uyIL28rYOr1b3Cqz65balvAW6sZwqoV2+0GqkizV8tvKJ0bCvfir3FegqOmuTtdCxW2t3wi527FP7igwrbshgU7zuAQCIAACIAACIAACIAACu5/Ack+ZXN5GnVkhZcTB16Q1z3BRpywNuN0DPzExFvLx5CWmj5g4Cylz7czblisLh5SRBq7fLK75GP2W8G6gz0pjI7OrPWuUanDZa2e+voo+tmmAtFOcEkKUUb4dgjYDyu6fj+gRpCrJUi0f3d9LPY+RcIQsXjki4iQ7exb1pNfiyLGI/bt1DXpx7/PO13k7b175UbcILoIACIAACIAACIAACIDAXiWgXd6Wz/eIyypwyN26RcrKbOcEG//9r/hubEZD9oF9fOmapnD4LpOF4U262Uq5xHfJs8lGviVdlnHf/gOirsw/ScIbfx8wVdc3OuuK+Dbf2ZodDvbiDKUqyVItv63MdCQceT5d97FQX4eG76XX/e3LUgd+3DQWuUt4eg2iFgiAAAiAAAiAAAiAAAjsKgJ0eZuJKyKapt9y6rvwbtlCd4V3HQj6++IXPi8Fnq6ES3iXEnsy2WZhPkBa/YDJ3jOn9eSFIu3MOmCqbh9hLrtdRTs1Y1OVZKmWT82aFEvrSThClNkmg9jj+/W3R1JWcZolc4fqZp+maBKKgwAIgAAIgAAIgAAIgMDeIRB8ol3lFh5XUFFiE4bQwk9iL4drpX/EVsXpdClbFPfVxXvy+p78TFWSpVp+W6HpSzhCno59XSTCKT94/c2BaUUvolLHshdPxwYq1Ir7vp7WKnyd8rgEAiAAAiAAAiAAAiAAAiAAAr8tgfmbd7gqS/7f+Zt3flsb4/YWT8IR8uLx5QthFfdaZ8efV7bwpykrf2no/F1Yv1249ihJ4RfXPNwAARAAARAAARAAARAAARAAgZdM4MnPSkoqbuaHuSc/7xTnVHwJRwiJdKlRbdb6p5aJ6duBx8ovEuIvTx8FfhybcFtbw+LttZQcd7Kl5D83H4yfOWazWq3W2ub+G9sSqPvw0vETlxK1vPmvjc1f6WXeWLjUXMtG4Zp6sKkz/AeDJ6xdczo3cAkEQAAEQAAEQAAEQAAEQOAVJZBQwjEmj2Y7DjWJ7Caqhy3RQVNFw+zj7cO5cb3NUljVMbTwcH19+XrvifLCo/0rL727hx7bUU+CZlf6bbZf1+1Kf03p0XPzD9fXH86eO3r42FB4dasczUrfUXObT57hEwRAAARAAARAAARAAARAAAS2lnCU0S8Pxq68n7ulkGs68scr0yuqg25b6Pq73ylvua7xWfl7rYVtPu4QC60vDvV2dLrOeKYfyiKLg66hhbWpC66OLu/tDbLhv9bd6eq4cG15g9vnH+ocXFy70d/l6ujqm5OOtwgJt7nm83R1dLq6h/wbtKN134Xmo0fKj37s8sys01b0+t1i9HfPWa3nFmWhxXNWVTEKC7u8t2/pS7jNB9PU2s6u/utrcpSEbPiHLtCLl26t+C64hvyi6Y27bLxdfT5dR580AJ8gAAIgAAIgAAIgAAIgAAK7gkByEo4P5cXmo6XxL73vv91aZPhQ+uU+PJTb+offe78ZXnoc/A1Wvq30HdUon0jEG77Wckt97/dj49931ZZUdN1mus7XWlhS1dY/c2PqwnFLTe2Jj/t8Mzf6m8oPNo0z/TPdYi631LVdGhuf8rZVHa7lvrWwhAut9NdYT1y4xmtZPrmxSTaXb3hbrNYW7/jcvU1CNnyt1qpPvL6ZG99/VvtWjfdhpFn6Z/NdJe/2Lst7y722g63T9Gy+y3K49szQ+NRQ74l3y0tivXB3e6sOV3V4b/hmvB1VpSdH2SBC8+7yUnvXtamxa93HbZYjhS3XaWPUY1l+vJu21mUvtZ6Zl/3hEwRAAARAAARAAARAAARAYHcSSEXC7YQRXm87aOvT10j+XqtVyDZCNqeaCh2XqIvM11rYMslNn24xy+jHlb6jhTxGUXORkMVz1pLPqNBRJdzmaNNbQuwREpp3Hzk2RFvVBFL6e63v9Ep/2vqlunJ3lFIKrc0NjUunn4RIRVf5ySHqRtu822s/XMgk3Ob3jYUnhoR/kFxvOxgr4QjZfC58bxtDx7nw27zWdPD4NVGNGsklnL/7HeuZW6LHzdGmg8cGmdNQ2oBPEAABEAABEAABEAABEACB3UZgt0m4u+esGudVBO3rbcKRxa4+9Ni4GKMSjrmkCNGotfAys+kWrUySjagS7qHHdrCU5hzhPyWFXARqJNz1toOHy+V9a8lhtTtp3QPvUXO5KqXkVULWpt220oPm0pLarrkhbrymWaoT9QIpQ+u3vV0na63W8tKS0lI+ZNVa1vhKv43bEDm0lb6jR7puh7vHEQiAAAiAAAiAAAiAAAiAwO4jsNskXGi6RYgoyfr5dIfV5dsk1Gel8TKpq8uSkHDNUzK3JHVnsYBGVRQ99Nis5+TCMtlnhBfuetvBxmvhNWnhMgmPQpsb6xtqrcVzVuYzXOm3aZx493qrtPKStbd4oaqkcXD5X6zqZLOwtr+W61VWZMXzrirhuM+QXb57zhrPgZnQUtwEARAAARAAARAAARAAARDYOQR2m4Qj5GF/7VtVXb4A0zDPV4aaytn6NEKej58stHnuMbYb0y3lVd1MeSUh4QpFKpHQisdWyFeXqRKO+Hut5W0+HqS4Me4+1neb9kzdZaKv5+MnD9f2835Dfk9j29SDJOaXW+tno1jzOg43fc+6oAqteZod0qV9sYGUtz8rr+rlqTI3pprLheNxxXv0cK3n7iYJbS4PNlkKuYSj0aRHZWFfa7n1QqwWTcJUFAEBEAABEAABEAABEAABENgxBHafhCNk47anyXq48KC58GBh6dHO6XXpQ9uY7ao6XFpitZYctp64JLYESELCNXs8tSUVVktpqeUTLp/Ca+EIIcuXjlsOl1oim13ur33rcPnRXiqKNP2WVnXNizVpW80xq1VYUl568LDtzKysFFrpry2loZvlVSe62nQ2Fbg3eKKCjtFSYTvjEmvhqA23+k6+a7VabSf7r3WLQEpCNubPvFv6Vjkb2vHBZQlqK9NwHwRAAARAAARAAARAAARAYIcS2I0STqBUs3pEomUBiiloFblg7PnGxvPIliLOIuIeI+7Ik/Q2+9YdxVad6Yxxc5M59KgxK553NdGYhNDSiYYmB4BPEAABEAABEAABEAABEACBHU9gF0u4l8RWSriX1FxmmgkMOkrpzgdTY+OXPql6S26okBlj0CsIgAAIgAAIgAAIgAAIgMC2EYCEW18cW9gLqfbX/VN8/3HvvLqt+bY9NmgYBEAABEAABEAABEAABEAgMwQg4TLDHb2CAAiAAAiAAAiAAAiAAAiAQBoEIOHSgIYqIAACIAACIAACIAACIAACIJAZApBwmeGOXkEABEAABEAABEAABEAABEAgDQKQcGlAQxUQAAEQAAEQAAEQAAEQAAEQyAwBSLjMcEevIAACIAACIAACIAACIAACIJAGAUi4NKChCgiAAAiAAAiAAAiAAAiAAKWVc3YAACAASURBVAhkhgAkXGa4o1cQAAEQAAEQAAEQAAEQAAEQSIMAJFwa0FAFBEAABEAABEAABEAABEAABDJDABIuM9zRKwiAAAiAAAiAAAiAAAiAAAikQQASLg1oqAICIAACIAACIAACIAACIAACmSEACZcZ7ugVBEAABEAABEAABEAABEAABNIgAAmXBjRUAQEQAAEQAAEQAAEQAAEQAIHMEICEywx39AoCIAACIAACIAACIAACIAACaRCAhEsDGqqAAAiAAAiAAAiAAAiAAAiAQGYIQMJlhjt6BQEQAAEQAAEQAAEQAAEQAIE0CEDCpQENVUAABEAABEAABEAABEAABEAgMwQg4TLDHb2CAAiAAAiAAAiAAAiAAAiAQBoEIOHSgIYqIAACIAACIAACIAACIAACIJAZApBwmeGOXkEABEAABEAABEAABEAABEAgDQL/tbi0jF8QAAEQAAEQAAEQAAEQAAEQAIFdQQBeuDR0L6qAAAiAAAiAAAiAAAiAAAiAQGYIQMJlhjt6BQEQAAEQAAEQAAEQAAEQAIE0CEDCpQENVUAABEAABEAABEAABEAABEAgMwQg4TLDHb2CAAiAAAiAAAiAAAiAAAiAQBoEIOHSgIYqIAACIAACIAACIAACIAACIJAZApBwmeGOXkEABEAABEAABEAABEAABEAgDQKQcGlAQxUQAAEQAAEQAAEQAAEQAAEQyAwBSLjMcEevIAACIAACIAACIAACIAACIJAGAUi4NKChCgiAAAiAAAiAAAiAAAiAAAhkhgAkXGa4o1cQAAEQAAEQAAEQAAEQAAEQSIMAJFwa0FAFBEAABEAABEAABEAABEAABDJDABIuM9zRKwiAAAiAAAiAAAiAAAiAAAikQQASLg1oqAICIAACIAACIAACIAACIAACmSEACZcZ7ugVBEAABEAABEAABEAABEAABNIgAAmXBjRUAQEQAAEQAAEQAAEQAAEQAIHMEICEywx39AoCIAACIAACIAACIAACIAACaRCAhEsDGqqAAAiAAAiAAAiAAAiAAAiAQGYIQMJlhjt6BQEQAAEQAAEQAAEQAAEQAIE0CEDCpQENVUAABEAABEAABEAABEAABEAgMwQg4TLDHb2CAAiAAAiAAAiAAAiAAAiAQBoEIOHSgIYqIAACIAACIAACIAACIAACIJAZApBwqXMPKgElmHo1TY1nivJMc4pDEAABEAABEAABEAABEAABEEiOwKsi4QKTZxudzsb+heSwJCg13/aG0ZBldqXdUsBryzYasutGoOISYFZvLXjpxHVNBtQre/fgTr+z0ekcSPvR2rtkMDIQAAEQAAEQAAEQAAGVQCoS7sXmo6XxL73vv91aZPjw9dc+YL8fHspt/cPvvd8MLz0OvlCb3XEH989bDFlGQ8Pkr7ZstdtiNOyvGVhLt6Vnk41vGA0F7XOhdFtIWG+m1WwymW19qwlL7Z6bY/V04sp67u8ek9O2dKLBaMgyOsbSbgAVQQAEQAAEQAAEQAAE9j6B5CTcLw/Grryf2yRlGxdvsf82HfnjlemVX3YitZcn4Xbi6LQ2cRlQdh4STktldxxDwu2OeYKVIAACIAACIAACIJBRAltLuEezHYe2FG9aOddU0TD7eBsHFVLm+pyVxdTXZKqocw2vinVpqxdtJrPJ1D4j+77fV6P6o1QJp8z32Gnd4srW0ftyRZtaMvBdcwVtxNrmUwhR5vrq2Wmx/fy8Ipr1tdECNR4pkZTZi43VxdQYk9XuDrdJkrYzuDzqslt1WuAjsl28/2S+2067KKpuH1mWRsthaj5XPTZzzn7qyTHkFnAj5dCW/N/SsQjvnMa2our2gZ/k4FhbWnsc532BrbyFW3YRMU2EA2yfCa6OfMRGXVHvmdUaELw/3M7ml2GP8cKFgRdXN/bNK9I8acZqEpOoYRZ5qBl7caXz4twTze3g6oi7jj0P5oqGnhmtG1bDU3ewE08mXfQhEQ+nppeIZ0ZKuOD9YfEcOjQD1JgiD7Um2d3aZ0PThWYgt86W0b+anjuyAUICA3b653BqMsFzFS6NIxAAARAAARAAARAAgYwTSCjhXjwdG6gQAZNcpLX+qWFk/HbgsaK62n55+ijw4/BIi7X1d9qSbw5MK9sSVxmccBYwiVJcaa8uyqVypez8EuW43FOWZTRk1U9IqFy2cX+UkHBllrLsAzmmgpxspnOK3XeYAOB3iyqr87Pz8vMO0Paz61xui0E9zTJW9vPVWJMO2oule5l2E5x05tPCeUXVdZVFebSipcdP20zWzuBkcz4zJqfAnM+GY3ijfoIrGj6i4jq72WjIzRM2Z1fHj+HUk3AsgpQOjZptZDRWPVY2RirzOIoCx5gQUdKeAzkms4mjECOSWGM+w/TULkJLNNxUKEmhKsu+4qqXA6yx242G/XlCcGYVnJoV7d5xF9OKWcacAmpbmYVFwMpAyvv/Y91H71LzRF1pXtgMddbiTmLMGPiF5Z4yOhcHcirq7BV5tCN1Lp5NniqgVu3LM5tM7Fa2pZs9d2TrwVorKxkN9nBKwsbYGecSzmavozZw+FnG/OZ5fXOlSVSuF7BnL0vOY9yBLLjMbCXnLdnk2sUKOk3NM1IJyxv4BAEQAAEQAAEQAAEQ2KEE4ku4F48vXygKq7LOjj+vPE08CGXlLw1t4WDLfReuPXr5Ko4LgPoR/sapTLbZ69u+Yi6yZCRcluX0T8zbEJxvo++yxoo+KsyEwJPv6/4vmGzIrR9huub+V1auzdhyrAgJJ9wm33EwykRrnaO1h7lukrSTv1LnOYa5glImGqhAzfnIR1sUI5J3g0uny6jNUgvpzwY3SQ2kFEPLtrikpys4XEe7cIwK/9US0y3iJZ7bIykRYQ+npN+fSk/TBXkyedpZV9FwVXQx327KMhpMbub84WSMZV1LdCZCyoiDyQ8nW6bIFUWWuW2eT5MYslgL92zUTiWWNE9qp9QnUX8oQgR+wZUZ8X9Vb3cK19Ydt5mS5zYToozVU0lsvUifniQGm/+eV7p89Wfc5KY5TPjcGcrO+tnoleH6HPoFgVP9VkJrNzdJnUdhkplC3nIgpk9FypRAH322c+KpRG1/OAYBEAABEAABEAABENgZBOJJuKdjX4f1WwoutUjH3b6vp4Vz56WNdv4UdVUV2Nyjd1aVoNZ1kIyEs19l78bUmkB/NRVmjtGwhFOTnfDgPfWUtywcQRESbq6Zyo98m3vk1mrkPgHJ2bl0tiisbRgj3ldu81xYwun7FeMR1ZdwbJi8yoiDOpoahwPyZ9VTbTRkFZ9eIoTbU3H2jrwXmGymWkVTPbZfoRJ1ywSVQCDgv1pPJZxwkEYApK1paX/HkpdUetX8k8GrVHAKCcfvaiZR1GXlhRnqrGmbVWFKb17sKMKPRJHT41uK3Ddi6XSx0ZBlPb0Q5nKKJiaVXyXw5uIOlrHlZWJnXLNHRdTcESK+CNCTcNwks0v1p5FwQ+LZ1hkIIVwkCzkd8Fh/XXpVXY64CAIgAAIgAAIgAAIgsJ0E9CWcMttkkMvb3h65l6oBiyP/Ld13h+pmt/Ddpdq44msv4su9eEBdRfMIX5WUhITLb9fEpGkWWaXy9h+pQBRfWzELSmSxf/vyrKe+E+ojKTs1NkgOmrf2hCOS5aM/o2RA9NDIajdz5fFgRe2/NBEit4eNRXsrcULImC4IX0ZYxuNCqR8pHEYoZYmIRKXWa7SWTlPz7VRDMumlc1ejrqPvapqlvWhKRiNTz0NLAzUsTJcTyFXXQPJJ4aPQ/stHQddMpjbYOEoyau4kq7CGVy2VtzQYNfdI3IFQoSpk2y0p55jjTlsbxyAAAiAAAiAAAiAAAjuZgJ6Eez5d97GIh3zz8o/pWb84LFXcx01jz9NrI36tUFD5yTd4vt3O5dMbzTRBf0LBE/1+TwjROHyi7yZ6+4+UcMzG4JOlmcs9bfZitkwrvKyLbGnnLTd1TxWf9atjDXgrqX5gb+0JR6TWiDqIkgHRQyPBQTt1Y56aVB1K4oBuV87tqb54P+rmE9V5GdUbPY3pgvBYTUNBjWt44T71Z2l0qTjWaA8Nba1rVPTE7zLNIzxyWnffbDMNNdQVeJpmaVPJSDjWZVBZvTN50eWo5msU2RrIBZfJaMiq9ixHcaF+4NQGGzvjYpz0I2rupE7TlXDcJI1/T9MOP9QbCL3DMZo+XeC0E0fJxrSKCyAAAiAAAiAAAiAAAhkmoCPhFq8cET60zp7FtBezvbj3eafUgVfS1IE6bNYWRi73tPXJzY9Do5rkIkJc0YBA+qMwrcITeEiZIZe3qXf5GqRoEZLo7V8r4QJ3hq92t17kOVEIISxGkfWYwE6tMAtNOvjiLmEzUXjcII8k1JZkQ+J2quvc+Dij/o2SAdFDI4SvoVJXQ1GP2fDViVsBGpXKF5tl1w2q8a9LvsFhn5/Ku7g/sV3wK/ZhWYuvhUsmkHKBadqwAXKlHHdbcSDhSSR3PqVL1PhSrmgzEk2i7liC/ulRj9s9IVNN+r9giVVoZGZw5D3qfLNflVxCSzOXR2d+olxSG2zsjH9bsy9PZAqNmrtoCRdS7kz65Jo6qffkyj2ieG3780y2i/dJgoGwgfNZLnO7qJivHlCDVnWp4CIIgAAIgAAIgAAI7EUCT35WZn6YG/8/X5K/Mz/MPflZvgpmGkiMhHvx1ybhgitqupuidf+++eWIZvHb3Y59PBrz447ptKVglAkioUVBRevFkeFRj5O9ZItIsMCAjQW57TdXOuorzQfKymhWEm1GyhyzOb+g2uF0OipZvJzM7pjK279Wwok3+/yKds/w6Eifs4jqMbNrQWqhLD07I4WZn+85/oa18fxVTyv3/Eg/XmRJ1d+VWMLd/4rlYimqaXT2zD2T2lVdIUa17aSDruM6UNTQMzh8tdvBGMrQPmFPQXVb3+hIX3sFLZnnGJNiLGo62Gk0PUIC39bQOMwiJ8Vy2W1juRyTWgtHAgM8eaOcpnyzWfWzEZlexVBU4+q72t3A3J7pTKLeMKS4NRTVd19mZtOxG4UQ5Ulfsgsq6YN3sa2CZZ1poJn4UxssIYLw/mJHeMbFkrbEEo4vvDS8Nyomg5vE57GvvZJB5sqcq3T9gbCh845ogKvamj4SXAUBEAABEAABEACBvUlg/uadJMWbWmzmB5qtYif8xEi4vzcJF9zn//soJQP/fbPDRd1uud+oKu7x158LR1zd31NqK1Hh4E8X7ebw8rMcS/uEunlXeGXaAVPD1QALldRKuLLz8zOtPNzRaMitdsnN3qJFSCIHjlbCERJc8tjNLH6SqcdcS9ukUOdx7YwWZsrc+TqTurpP00Li0NC4jJ4tnOZ7BmTlnZrVk3CEkLXRUxaehp6anWNpnwl/pxBpz36zvV+6CON0GU2P5pkMDDrkorL95lNjXuYs5QGBkQAj18LRHpR5V6WwbV9x+8w82ytCKkwSCox8ZBH7K2QZ95nrPDzFqPSGGVSxmmgS44wkpEy0hhs37Dfb+1jaTFac7igYfvAOmOxetntEioNlI4yY8YKabvkcJpZwXJxr9xiIMCm7wKbuXphwINQEHwtAVQVqHB64DAIgAAIgAAIgAAJ7lQAXZsmPLtXyybecRsloCfe3gUNcwh0aeZBCc1K/0bofHmn5xyavuyLzmhgGbqbQWjJFn9FUh/rxfcFgRKbK2NaeKYGEi7tia2xxJcRyEepak8DOiEbjtxBRTJwI1RSdd0SzaCqo6JoT0Vgi25g9Gkpb9xjRNDuh7UdmDY0tE+9K4jliwCNTgMZrKPY615BMcmsAanyb0WPXNiHmSZsKld9OebCpzTjvJPhMxx0av6FEA9EOCscgAAIgAAIgAALbSyCk3PnWba8wm0zmomqnR271pN9pSJnrc1YWi8Ldk6tR//tXFrwuu9VkMpuKqx3uUXWRBW8t8V3yZN7T6mx0Ohu7JgOEBCbP0uOY39P05h7/SVWSpVp+W/FFSbgHXzJP2msfHOn4Z9L9Rui3ooa/a1JQ/vNMLo+ldH2zknR7KLglgTh/b1628dqWtdMp8Nv3mI6VSdVZGIj571Sj0/kq/KcqKTwoBAIgAAIgAAIg8HIJhJa6RYRU+BvkomZfOARK253c9labGzzfKaO8CPF/ZQ3Hf/Evo9+oGVgWTSS+G/iOr/phZmizwWm+1Ob9ar7a1hq3p45TlWSplt9WWFES7qZcCPf+5cg0kot3byq669kS6DdCyPNrv5fL4f62reNA4yAAAiAAAiAAAiAAAiCw8wjIUKYC+7dLgcDqzKcsbUGWzH0QabBY0J5tcfkCiqL4v62juyupiQlEVghj2ac+mj/8J6+dLd0Xi9sT3510UnmWXWyrpNngeELv4JJvZHg0/Hu1vYLJOZaRO9KyPXeWqiRLtfy2AouScNN1Yju4pjFNt4tTx/Z98Pq+r8ejVVxi/UZb0G9Q0zYOQQAEQAAEQAAEQAAEQGCvEuD7ABlzPvLJEfI9WnWTii2dLqYuMo0TjG8HZTTYr9JwSi7DsupH5JoOoQ951oDEd8fq9xXTFBIRVaRN/FPcym2eke1H3t9TZ6lKslTLbyusrSVc8B8dIhgySsVtrd8g4bZ17tA4CIAACIAACIAACIDAziawyhKzZRkbJ8N2io2Lcptj8hvOn8qlEk7rBBMpqXUK0wb5BksGvh9VuAdxFHFXUXjoZlwJ92zSwXp/RfaMTVWSpVo+ZjZe5oUoCacfSLkos5K8pqq4pPQbAilf5lShLRAAARAAARAAARAAgV1G4Bbb8zbL0i2Xq1H7WdZ0ud+SdkByd6WysyLx9ZNRLqv0ChMidhgqaKT7HMX8xLkbT8K9Ui44QkiqkizV8jHz8TIvREm4uOlMIlTchTNNIuvJ6699GJm/JMo2pDOJAoJTEAABEAABEAABEACBV4eACG6MlHB866MsTS5xFchsM1v8ZjTszzOZCnKyjWUWvnYuunDwp7NldEdiY1HrfKyAS3BXX8K9Yi64PSbhSIJNBbQqTuwdl1i/EbKNmwqoDzoOQAAEQAAEQAAEQAAEQGBnEhAbAtPdetUfvterIds5oV7SHNB9X4vYHrm5xfbz84GrdTT7iMmtTTyuzLu5ftMmq1TbSHxXV8K9ai64vSbhSMKtvSNU3Fb6jZBt2dpbfTpxAAIgAAIgAAIgAAIgAAI7mkBo0sF8ZdoMJSPvsbT+egvYgk8C9Eezve9EAyvcEF5Lp4w587n/TW9ngsR3CdFLZ/LqueD2nIR78Ve5r0BR012dvwih4rbWb4Tc7dgndxSY1t2QQKd5XAIBEAABEAABEAABEACBPUMgONHAXGpv1I88oYOiIY4scb/MGqL4v3W7vl3iuUZmPmKFzc0z7FyZbWeF807JfJbKd/U80rLs0/nYneUS3+VMY71wr6ALbs9JOEIWrxwRcZKdPYt60mtx5FjE/t26f2Iv7n3e+Tpv580rP+oWwUUQAAEQAAEQAAEQAAEQ2OME1ryVzGlmyM7LN+WJjbktPSJhiVgsJ1NWLvfwCElDlnHffuZ/yzLmN8itvWV+SxpaGfHLVsolvispR0s4uZucNg2mLLuXP1NNT5Jq+W1lF5XOhPX1fLruY6G+Dg3fS6/725elDvy4aSxyl/D0GkQtEAABEAABEAABEAABENiVBNZGT1mYe43qrgMme8+c6kHjmi07nO8k+NNFu/mAUGjZeWUfjQbUXdrEyroo/WYU+SoT35XgoiSc2HjgjeY5tRdZcm9/pirJUi2/rfT0JBwhymyTQezx/frbIymrOM2SuUN1s0+3dQBoHARAAARAAARAAARAAAR2AYGgQle5xSqloKJZ+ybH8SxOYXkfn7+SQKqSLNXyv9K8xNX1JRwhT8e+LhLhlB+8/ubAtKIXUanT9IunYwMVasV9X0+rXzHoFMYlEAABEAABEAABEAABEAABEPjNCczfvMNVWfL/zt/UpgX9zS3WdBhPwhHy4vHlC2EV91pnx59XtvCnKSt/aej8XVi/Xbj2KEnhpzEIhyAAAiAAAiAAAiAAAiAAAiCwrQSe/KykpOJmfph78vNOcU7Fl3CEkEiXGtVmrX9qmZi+HXis/CKR/vL0UeDHsQm3tTUs3l5LyXEnW0r+c/PB+JljNqvVaq1t7r+xlnzF5Es+vHT8xKVELW/+a2Mz1g+efAeEkI2FS821bBSuqQebOlUfDJ6wds3p3MAlEAABEAABEAABEAABEACBV5RAQgnHmDya7TjUJLKbqB62RAdNFQ2zj7cP58b1NkthVcfQwsP19eXrvSfKC4/2r7z07h56bEc9CZpd6bfZfl23K/01pUfPzT9cX384e+7o4WNDgZhBrPQdNbfJFLIxd3EBBEAABEAABEAABEAABEDg1SOwtYSjTH55MHbl/dwthVzTkT9emV5RHXTbQtPf/U55y3WNz8rfay1s83GHWGh9cai3o9N1xjP9UBZZHHQNLaxNXXB1dHlvb5AN/7XuTlfHhWvLG9w+/1Dn4OLajf4uV0dX35x0vEVIuM01n6ero9PVPeTfoB2t+y40Hz1SfvRjl2dmnbai1+8Wo797zmo9tygLLZ6zqopRWNjlvX1LX8JtPpim1nZ29V9fk6MkZMM/dIFevHRrxXfBNeQXTW/cZePt6vPpOvqkAfgEARAAARAAARAAARAAARDYFQSSk3B8KC82Hy2Nf+l9/+3WIsOH0i/34aHc1j/83vvN8NLj4G+w8m2l76hG+UQi3vC1llvqe78fG/++q7akous203W+1sKSqrb+mRtTF45bampPfNznm7nR31R+sGmc6Z/pFnO5pa7t0tj4lLet6nAt962FJVxopb/GeuLCNV7L8smNTbK5fMPbYrW2eMfn7m0SsuFrtVZ94vXN3Pj+s9q3arwPI83SP5vvKnm3d1neW+61HWydpmfzXZbDtWeGxqeGek+8W14S64W721t1uKrDe8M34+2oKj05ygYRmneXl9q7rk2NXes+brMcKWy5ThujHsvy4920tS57qfXMvOwPnyAAAiAAAiAAAiAAAiAAAruTQCoSbieM8HrbQVufvkby91qtQrYRsjnVVOi4RF1kvtbClklu+nSLWUY/rvQdLeQxipqLhCyes5Z8RoWOKuE2R5veEmKPkNC8+8ixIdqqJpDS32t9p1f609Yv1ZW7o5RSaG1uaFw6/SREKrrKTw5RN9rm3V774UIm4Ta/byw8MST8g+R628FYCUfI5nPhe9sYOs6F3+a1poPHr4lq1Egu4fzd71jP3BI9bo42HTw2yJyG0gZ8ggAIgAAIgAAIgAAIgAAI7DYCu03C3T1n1TivImhfbxOOLHb1ocfGxRiVcMwlRYhGrYWXmU23aGWSbESVcA89toOlNOcI/ykp5CJQI+Gutx08XC7vW0sOq91J6x54j5rLVSklrxKyNu22lR40l5bUds0NceM1zVKdqBdIGVq/7e06WWu1lpeWlJbyIavWssZX+m3chsihrfQdPdJ1O9w9jkAABEAABEAABEAABEAABHYfgd0m4ULTLUJESdbPpzusLt8moT4rjZdJXV2WhIRrnpK5Jak7iwU0qqLoocdmPScXlsk+I7xw19sONl4Lr0kLl0l4FNrcWN9Qay2eszKf4Uq/TePEu9dbpZWXrL3FC1UljYPL/2JVJ5uFtf21XK+yIiued1UJx32G7PLdc9Z4DsyEluImCIAACIAACIAACIAACIDAziGw2yQcIQ/7a9+q6vIFmIZ5vjLUVM7WpxHyfPxkoc1zj7HdmG4pr+pmyisJCVcoUomEVjy2Qr66TJVwxN9rLW/z8SDFjXH3sb7btGfqLhN9PR8/ebi2n/cb8nsa26YeJDG/3Fo/G8Wa13G46XvWBVVozdPskC7tiw2kvP1ZeVUvT5W5MdVcLhyPK96jh2s9dzdJaHN5sMlSyCUcjSY9Kgv7WsutF2K1aBKmoggIgAAIgAAIgAAIgAAIgMCOIbD7JBwhG7c9TdbDhQfNhQcLS492Tq9LH9rGbFfV4dISq7XksPXEJbElQBISrtnjqS2psFpKSy2fcPkUXgtHCFm+dNxyuNQS2exyf+1bh8uP9lJRpOm3tKprXqxJ22qOWa3CkvLSg4dtZ2ZlpdBKf20pDd0srzrR1aazqcC9wRMVdIyWCtsZl1gLR2241XfyXavVajvZf61bBFISsjF/5t3St8rZ0I4PLktQW5mG+yAAAiAAAiAAAiAAAiAAAjuUwG6UcAKlmtUjEi0LUExBq8gFY883Np5HthRxFhH3GHFHnqS32bfuKLbqTGeMm5vMoUeNWfG8q4nGJISWTjQ0OQB8ggAIgAAIgAAIgAAIgAAI7HgCu1jCvSS2UsK9pOYy00xg0FFKdz6YGhu/9EnVW3JDhcwYg15BAARAAARAAARAAARAAAS2jQAk3Pri2MJeSLW/7p/i+49759VtzbftsUHDIAACIAACIAACIAACIAACmSEACZcZ7ugVBEAABEAABEAABEAABEAABNIgAAmXBjRUAQEQAAEQAAEQAAEQAAEQAIHMEICEywx39AoCIAACIAACIAACIAACIAACaRCAhEsDGqqAAAiAAAiAAAiAAAiAAAiAQGYIQMJlhjt6BQEQAAEQAAEQAAEQAAEQAIE0CEDCpQENVUAABEAABEAABEAABEAABEAgMwQg4TLDHb2CAAiAAAiAAAiAAAiAAAiAQBoEIOHSgIYqIAACIAACIAACIAACIAACIJAZApBwmeGOXkEABEAABEAABEAABEAABEAgDQKQcGlAQxUQAAEQAAEQAAEQAAEQAAEQyAwBSLjMcEevIAACIAACIAACIAACIAACIJAGAUi4NKChCgiAAAiAAAiAAAiAAAiAAAhkhgAkXGa4o1cQAAEQAAEQAAEQAAEQAAEQSIMAJFwa0FAFBEAABEAABEAABEAABEAABDJDABIuM9zRKwiAAAiAAAiAAAiAAAiAAAikQQASLg1ojXQxxAAAIABJREFUqAICIAACIAACIAACIAACIAACmSEACZcZ7ugVBEAABEAABEAABEAABEAABNIgAAmXBjRUAQEQAAEQAAEQAAEQAAEQAIHMEICEywx39AoCIAACIAACIAACIAACIAACaRD4r8WlZfyCAAiAAAiAAAiAAAiAAAiAAAjsCgLwwqWhe1EFBEAABEAABEAABEAABEAABDJDABIuM9zRKwiAAAiAAAiAAAiAAAiAAAikQQASLg1oqAICIAACIAACIAACIAACIAACmSEACZcZ7ugVBEAABEAABEAABEAABEAABNIgAAmXBjRUAQEQAAEQAAEQAAEQAAEQAIHMEICEywx39AoCIAACIAACIAACIAACIAACaRCAhEsDGqqAAAiAAAiAAAiAAAiAAAiAQGYIQMJlhjt6BQEQAAEQAAEQAAEQAAEQAIE0CEDCpQENVUAABEAABEAABEAABEAABEAgMwQg4TLDHb2CAAiAAAiAAAiAAAiAAAiAQBoEIOHSgIYqIAACIAACIAACIAACIAACIJAZApBwmeGOXkEABEAABEAABEAABEAABEAgDQKQcGlAQxUQAAEQAAEQAAEQAAEQAAEQyAwBSLjMcEevIAACIAACIAACIAACIAACIJAGAUi4NKChCgiAAAiAAAiAAAiAAAiAAAhkhgAkXGa4o1cQAAEQAAEQAAEQAAEQAAEQSIMAJFwa0FAFBEAABEAABEAABEAABEAABDJDABIuM9zRKwiAAAiAAAiAAAiAAAiAAAikQQASLg1oqAICIAACIAACIAACIAACIAACmSEACZcZ7ugVBEAABEAABEAABEAABEAABNIgAAmXBjRUAQEQAAEQAAEQAAEQAAEQAIHMEICES517UAkowdSraWo8U5RnmlMcggAIgAAIgAAIgAAIgAAIgEByBF4VCReYPNvodDb2LySHJUGp+bY3jIYssyvtlgJeW7bRkF038iqouJAy1+esLDabTOYKu3tgQUlAFrdAAARAAARAAARAAARAAAS2JJCKhHux+Whp/Evv+2+3Fhk+fP21D9jvh4dyW//we+83w0uPgy+27C5jBe6ftxiyjIaGyV9twWq3xWjYXzOwlm5LzyYb3zAaCtrnQum2kLDeTCvVS7a+1YSlfpOboSXKKkv7W2D7dgcY9puMHp2AAAiAAAiAAAiAAAiAwHYQSE7C/fJg7Mr7uU1StnHxFvtv05E/Xple+WU77Py1bb48CfdrLdnu+hMNVDKVnc+8Ugr0V1P9ZjnrZ2Gnynf1+VlGQ3b9xPZo1+0Gi/ZBAARAAARAAARAAARAYCcQ2FrCPZrtOLSleNPKuaaKhtnH2zg2TWyeqaLONbwq1qWtXrSZzCZT+4zs+35fjeqPUiWcMt9jp3F9xZWto/flija1ZOC75graiLXNpxCizPXVs9Ni+/l5GQLoa6MFajxSIimzFxuri02slt0dbpMkbWdwedRlt+q0wEdku3j/yXy3nXZRVN0+siyNlsPUfK56bOac/czrlVvAjZRDW/J/S8civHMa24qq2wd+koNjbWntcZz3BeIqLmXQQT1+jd9pTJp1F5nMpuqL9wnh/sBTYcfn0ulioyHL0r2sMVl7GFwdcdcx4DTqUjtSjUnFlc6Lc09YtVtny0xmU0XPnXAjgQE7ndxTkxqTwndxBAIgAAIgAAIgAAIgAAK7nkBCCffi6dhAhQiY5CKt9U8NI+O3A48V1dX2y9NHgR+HR1qsrb/TlnxzYFrZlrjK4ISzgPp2cosr7dVFudzjtETnYbmnjMbs1U/ISeGyjfujhIQrs5RlH8gxFeRkM51T7L7D9Am/W1RZnZ+dl593gLafXedyWwzqaZaxsj/AGp500F6EDglOOplnKa+ouq6yKI85nXr8tM1k7QxONuczY3IKzPlsOIY36ie4pOIjKq6zm42G3Dxhc3Z1/BhOPQnHIkjp0FhAI6Ox6rGyMVKZx1EUOMaEipP2HMgxmU0chYWPSGLVfAaH6+iQ7VdVwTTzEYVQ0cdZaYoSQkKTjgSLAJ9NniqQ4rOAkcySVi33lFFEB3Iq6uwVefuyjBLRgsvM1iXekh2tXaygz0bzTFzZKUviEwRAAARAAARAAARAAAR2J4H4Eu7F48sXisKqrLPjzytPE49RWflLQ1s42HLfhWuPXr6K4wqqfoS/oyuTbfb6tq+YiywZCZdlOf0TkxvB+Tb69i/EhhB4Ujv5v2AL53LrR5iuuf+VlWuz+3T8ERKORy06vuNglInWOkdrD/MRJWknFyF5jmGuoJSJBipQcz7y0RbFiOTd4NLpMiZZv5IeQL35iAqkFEPLtrhmpUhjuivHMapwhktMIAnZw+2RlIiwR1+SEUKejdqpuKob5KlZQr5TVIVWD+goONFUfvO8ntXkjttMBy6tUsZY1KXZfYcQIbC/YEKdEP9X9Xan8NHxWqZPRW6ZQB+dqZw4Xej2i4sgAAIgAAIgAAIgAAIgsLsIxJNwT8e+Duu3FFxqkY67fV9PC93w0qjMM5FQYHOP3llVglpnSzISTuMvEiu1HKNEioRwspOxeqrZ1NwnvOWynlgJN9dM/UX5NvfIrdXIfQKSs3PpbFGW0WCiQkX88L5ym+fCEk7frygrRH/qSzg2TF50xEE9Wo3DAfmz6qk2GrKKTy8Rwu2pOHtH3gtMNlP3naZ6VH/c7Sa4+ppzsoyG90ZVp5wsrMx9ylRxXIcej7E0u1R/Gglv3SBmqsjp8S1Fb+fA3W4CYMBj/XXJQqW5+AQBEAABEAABEAABEACBHUtAX8Ips00Gubzt7ZF7qVq/OPLf0n13qG52C99dqo0rvvYivtyLRgYeyKloHuHJIZOQcPntGhcQ12lMmAlXlarZkpZwRPG1FbOgRBamuC/Peuo74YFKyk6NDZKDcN/RcNCEI5Lloz/1JZw6NLLazVx5VKNG/jrGCOH2RF6nxYR8je6LnnPZxjSckHPDUQpO6rei5pm4gj7CtxndTWhpoIZFz3LDcrVLE6Vsu0UIl3PMcRfdAs5BAARAAARAAARAAARAYK8Q0JNwz6frPhbxkG9e/jG9kS4OSxX3cdPY8/TaiF8rFFR+8g2eb7dz+fRGM03Qn1DwRIs0Qsh3zNVW6Q38Ci8cNzH4ZGnmck+bvZgu08oqODUrLd/SzltuU5bRUHzWL2uQgLeSNsI8bwlHpNaIOthKwgUH7czISdXRJg7oduXcnuqL96NuPolSZdo+F1wmHkvJHI/R69CUmeZiKgIT6TdCCG+EeQK1bWuOg8rqncmLLkc1XzoolyaS4FW6Hs/06QJ31sWN+dQ0hUMQAAEQAAEQAAEQAAEQ2L0EdCTc4pUjwofW2bOY9mK2F/c+75Q68EqaOlAH69rCyOWetj65r3ZoVJNcRHhyaEAg/VGYVhHp9YWEk8vb1LsmN20qWuAl64UL3Bm+2t16kedEIYSwGEXWYwI7tcKMZ/jIskibicIEiYEJy8SiVAcOu7SVhBOrztT1YzTx5vDViVsBGpXK17Zl1w2q7rIl3+Cwz0/lXdwfviDN8Wm7KXod2hb6TVmYnJEJNoXZcsEbUby2/Xkm28X7JOifHvW43RNyIz7/F0wTqn5FbnOZ20Wlqe4yvLiW4wYIgAAIgAAIgAAIgMCrSeDJz8rMD3Pj/+dL8nfmh7knP6uvyBlmFiPhXvy1Sbjgiprupmjcv29+OaJZ/Ha3Yx+Pxvy4YzptKRhlgsifUVDRenFkeNTjZG/zInYuMGBjwYH7zZWO+krzgbIyuv5Km5Eyx2zOL6h2OJ2OShaYJ7M7pivhgiPv0R7zK9o9w6Mjfc4imtvD7FqQWihLz06thCPEz/ccf8PaeP6qp5W7mKQfL7KkKjUT7/l2/yu26qyoptHZM/csRp1SbTvpeIPGoBY19AwOX+12MIYyVFLYU1Dd1jc60tdeQUvmOcYSSTghNdWxyym708VazjLuy6N7D6i/bdOsxCxbOJddN8JTofCsKtyqvvZKlp2S60wuEQ1F9d2XR0cuu23UJKNdE67J5Z8hW3cZnrQGnyAAAiAAAiAAAiAAAiAgCczfvJOkeFOLzfxAs1XshJ8YCff3JuGC+/x/H6Vk4L9vdrio2y33G1XFPf76c+GIq/t7Sm0lKhz86aLdHF5+lmNpn+C7hFFxoq5MO2BquBpgoZJaCVd2fn6mlYc7Gg251S652Vu6Eo6Q4JLHbmbxk0w95lraJoU6j2tntDBT5s7XmdTVfZoW0vPCkWcLp/meAVl5p2b1JBwhZG30lIUn7qdm51jaNavUIu3Zb7b3C7dm/FnhC9KMhsh1aEJZxayso4vu+Eq/bKOBB8GyC3TLPnVmswts6l58IWWi1SL2VMgyGvab7X1LEZqSr8eL1HXxrcUdEAABEAABEAABEACBV50AF2bJU0i1fPItp1EyWsL9beAQl3CHRh6k0JzUb7Tuh0da/rHJ667IvCaGgZsptJZM0WdKIBCdnlDUCwYjMlXGtvZMCSRa3BVbYasroWBcaxLYGdFq/BYiiokToTmj1VE4dyUJKgmDH1k7iWxj9mgobd2jnp1bXNObqfggok3aonHcBgEQAAEQAAEQAIGdQCC4OnHeWVlMI5Iq7GJjpLh2hZS5PlG4qNrZPbka8bU1IcHlUZfT2eh0NvbLhUWEkCcLA+66Chr0ZLW7R+9H1Xm2NOKuVw0YWIiOBlQWvC67lQZMFVc39s2LfafimrhHbqQqyVItv62YoiTcgy+ZJ+21D450/DPpfiP0W1HD3zUpKP95JpfHUrq+WUm6PRTckkBg8iz9043+9YY3J9iyiRQL/PY9pmggioMACIAACIAACIDAziOgTDay5SGaTOAFtnghTqGlbgsL7NJ8TZ/vlCFeRJk7X0N3e+K/al4AsRpFXs8yGt6oGVCDqJZ6KtRoL1m37Lx6m/i/soYDyniBLbLQ7TzIaVmUqiRLtXxaRiVbKUrC3ZQL4d6/HJlGcvHuTUV3PVsC/UYIeX7t93I53N+SNQnlQAAEQAAEQAAEQAAEQGAPEAhONLClK9kWl281EFgaeC8iHUPUCMX6f1o4oCiK/9s6JthEVgKR7+CNGhvfIIpLuNCCy8zEW5Fz4Nbq/VsX7SxrgMFGk64TIhI3GMraZwJBEgre+YIlTVAzwIkFPsb897z+QOC+z11GsxsY85s1G3FFWblXTlOVZKmW31ZOURJuuk5sB9fE1yvxvhenju374PV9X49Hq7jE+o1W1m9wW4eExkEABEAABEAABEAABEAg8wSeXbUzv1Z406OQ71Qu1Ug8KXqkhUuni+ktTeI6vheU0cA24L1/3pJfc9EfJCLdAJdwPI+6Np34rYssUIsHZ4kNgcNtKl4bNYlmTCCE3PnUTH16mk2hAn1WekVNOBdp4l46S1WSpVp+W1ltLeGC/+gQwZBRKm5r/QYJt61zh8ZBAARAAARAAARAAAR2MIFJJwt6tHSvho3ke1CJHaTClwkhbIvdLKO6+S0hZK6ZOfFym+cITXTAi2slnChgvxqkK+7aqXhze++oqf4ImWtlfj9Ljz9EayvD9TlUs9VP0JTgqyJu0zkZNmTpbJFG44Wv77mjVCVZquW3FViUhNMPpFyUWUleU1VcUvoNgZTbOndoHARAAARAAARAAARAYOcSCPL9frM0CecIETvcyv2cNNYHBipZSGTZWS63yJNRB3PZGSJb0Eo4LghzHM1syyhWnfrQLN3qYrdQYOQjltl7f56pgArCnKI6z0884cmCyxTl9yNE7LpsFCnENfbtscNUJVmq5bcVV5SEi5vOJELFXTjTJLKevP7ah5H5S6KMRTqTKCA4BQEQAAEQAAEQAAEQeDUIiNVrkQJMZPnWkXCEzDaLbCX780ymgpxsY5mFL12LEIEaCSfiJA1ZxiLnqF9RlNXJU0VMyKlbPUVuJUW9guEtoyYb2cq3cJglnZdJBwv+hISLekh3soQjCTYV0Ko4sXdcYv1GyDZuKhAFFacgAAIgAAIgAAIgAAIgsKMI8IVqau4QZtuEk0ksS899PVPpNrlFPHiy2H5+PsD9eCa3Nuu4RsLJdXGaxWxE7JfLojdlspP897x8pwHlu3qmEgsaJ4M0kJJlRsnRJi9Z7SljEq5RE1ypZ+muv5aqJEu1/LYCivLCEZJwa+8IFbeVfiNkW7b23lYcaBwEQAAEQAAEQAAEQAAEXg4Bme9R49ESCSQjVJPsLPgkQH80e/tq1ZosJWUbS2ci8pEUn/Wrt8ViNkv3MiG33Caqx8yuW+pt6bhj1UX7GpdgcLiOrd+rHmAZLdVqe+8gVUmWavltJRYj4V78Ve4rUNR0V6droeK21m+E3O3YJ3cUmNbdkECneVwCARAAARAAARAAARAAgb1BQOoly1k/W30msolk5Z3y8QEq/m/drm+XeKKSmY+Y/83cPMPOldl25hBTCwsmEbpugYu0AscYb0OZaGD5S1gGFCI1ZDglpiLW13ENGRxj2U2yChzfserBpdN8xwLrxb2u4EiqkizV8tv6BMdIOEIWrxwRcZKdPYt60mtx5FjE/t26Br6493nn67ydN6/8qFsEF0EABEAABEAABEAABEBgLxPQLm9j2UTormsNcrdukbLSKKIWl3v4tmyGLOM+uR93uLDEFCHhiNRsWQdyTGZT3gHmQ1PTWobvmqrrG511RbzZbOajow3KHCpZxpwCc456V82GIjvde5+pSrJUy28rMR0JR55P130s1Neh4XvpdX/7stSBHzeNRe4Snl6DqAUCIAACIAACIAACIAACu44AXd5mFsrKkJ1X9tFogOX3pwPhmi0sqEjwp4txC8uRR0o4QkLKhLvaJCWfIddy6juNCy2kzJ2vC9/NOmCqbh9Zk20RQtSUlWwJ3D5zXfc8d+hpyuzFw1QlWarlt5WZnoQjRJltMog9vl9/eyRlFadZMneobvbptg4AjYMACIAACIAACIAACIDATifwTIlY5aaaG1Q0a9/kVV5YVXrycuJPupROpy1RKaiwZXZx26T3FbpZ3Kvyk6okS7X8tnLUl3CEPB37ukiEU37w+psD04peRKWOZS+ejg1UqBX3fT39Sqh4HRC4BAIgAAIgAAIgAAIgAAIgsEMJzN+8w1VZ8v/O39RmBs3kuOJJOEJePL58IaziXuvs+PPKFv40ZeUvDZ2/C+u3C9ceJSn8MkkAfYPAb0pg818bm3G/AEtoyebG+r82E5bYgzc3N9Y3EIm9BycWQwIBEAABEACBDBN48rOSkoqb+WHuyc87xTkVX8IRQiJdalSbtf6pZWL6duCx8ouE/svTR4Efxybc1taweHstJcedbCn5z80H42eO2axWq7W2uf+GNpg3+Ta2KPnw0vETlxK1nP6LuNrzxkJ/o816fPAhIQ8vHafDCf8cv/RALccOHgyesHbNRV77Dc7muqRN7x5r6fLOBdKQEAvdFYUnhtb1rV04Zyk8Hu+mbpUYVlarNQaXbs0EFzfXprqOVdGx1rZ4bqwLiXXjzEtgrhl+aKW/tvStcuuJS+sk9YHPucrt3jgYEwwt/Vtrl45bz9xIub7mTyNFgPQhD/+IP8BZV4mt72HKVqACCIAACIAACIAACOxZAgklHBv1o9mOQ00iu4nqYUt00FTRMPt4+4BtXG+zFFZ1DC08XF9fvt57orzwaP/KS+/uocd21JOg2ZV+m+3XdLt5t9deam1pOnaQv54+31hXf1a8DvOxaFWz0nfU3CbSz7700cZv0NdaWHVugZr2YGHqwnHLYat7JmUVt3F3fnkjTh+h9cVZf7yb+nUkq++bpG3r6fq1eAcb0y3lhVWfXFt8sL7un+6uLz9Y42WaYbrlZTAPD3++q+Td3mXeaaoDfz5+srDp+9/UH7XSbytsua4/CfGvav80UgR495z13XO35R+CdL75u9+xduttcBLfBtwBARAAARAAARAAgb1MYGsJR0f/y4OxK+/nbinkmo788cr0iuqg2xZu/u53yluua1SEv9da2ObjbpPQ+uJQb0en64xn+qEssjjoGlpYm7rg6ujy3t4gG/5r3Z2ujgvXpKjwD3UOLq7d6O9ydXT1zUnHW4SE21zzebo6Ol3dQ/4N2tG670Lz0SPlRz92eWaYV0Sv38Sjf3itd+jBJrneJiScpvTiuaoS1zy/IKzt8t6+pSvhNh9e7zvTSS33PZADJnKMXd7b9254OgcXeVupG0kI8bUWaqXsxmRzyTu9iRvcuMsIa0yiUyD2m5QGX7i2KPxJjH98C9dnej0zK8tsWrvH1sKDjLGN9nKLTfQg6yx61lgfehAWL1SVtE5rWvZ3v8Oli0aByIodYcsJkRe1z9vmg2n6LHX2Dt0VI+TDX5/p7aivOnik9mQnp7HFwKOHM9N28Nggb5Ezue3t6ujsnVojJObpVQ0LW7u5cMl1zsfTU4VWvu/qmopy8/IpIPTpGbrg6ujsunRrQSvhYqc1YmqGuA6P+tOgAKeEed7bgofaU8zB9baDrdMxV8niOav1XHjD0tgCuAICIAACIAACIAACrxSB5CQcR/Ji89HS+Jfe999uLTJ8KP1yHx7Kbf3D773fDC89Dv4GK99W+o5azwkJET1RG77Wckt97/dj49931ZZUdN1mus7XWlhS1dY/c4M6kWpqT3zc55u50d9UfrBpnL21T7eYyy11bZfGxqe8bVWHa7lvLSzhQiv9NdYTF67xWpZPbmySzeUb3hartcU7Pndvk5ANX6u16hOvb+bG95/VviUcONHG6Z/HSriNaycPHxvir9rzXZbDtWeGxqeGek+8W14S4xFavFD1VlXbpZkbPmp50xR30ejX0oejb5XmapSEI8TfbbV5aI5S/VFTH2n58W5qc5e91HqGSVFfq3DmrF869lZNl8+/tuhtspTzCVJlkr6FDz22kopjbi+DUF54cjQstaJs87UWHqw4dsY7PrWwTnRmLZ7NK/22eE6esG1TTaX00eJPkRSxtz8rtzR5Fx/4fZ/VvsX1VWDQcbj2zHX/wwXvyfJyt2b4m/duTJ09dtDafGlsfJHOb7hx3ecnYjiELPfaVBlDmZQfPzPG5r2q1nG8ixr2We1BYdiGrrUUPjNy2VNraZ7W93yG5t3lpfaua1Nj17qP2yxHxMTRaeVP2lDXUc3fSEm57cQFVri+XO9Pg/5xVTXTP8lLn1RJ8wjZ1Picqc9tg0/qQ4/N8nFvf+cx+zFXRID0ZPPBxmvhidc8nzgEARAAARAAARAAgVeQQCoSbifgidU8qlX+XqtVyDZCNqeaCh2X6Nf+VD9M8kLTLWYZ/bjSd7SQxyVqLhL6fX/JZ/S9W5Vwm6NNbwmxR0ho3n2EhzhqosX8vVb5Tk/I+qU68eKu2kVCa3ND49LpF75Mj2KGs3iuysIMIGTz+8bCE0PyTft628EYCUdCm5vixXZj6Dh/246sNesSwi8OHI01G8tj11QnpHo9SiYRIoPr9EdNY97O3BK1N/zzi2ztnCrhfJ8U2vuFo1NaLpVMHAsfesLSZf3SMa2XJso2X2vhSfmerz9r+jZHPADqwNmBtI0Qsrkpc5AsnCnnT9Faf015hwgrlRMx03awzvuQ+4TlCNXhR063bFzfKvrcqsPhj7F6+tBjq+rlUb5yOqi50y3m2n7uW9OxlnqPh46Vt/T3OirafPKxihwv2bzWdPD4NXEzNN1SyB8qf/c7Vd3SDbbuPab+jYSn4/m1kyL6V/OnQU1Sgz/n3UfkX98NdYUlX/kmFnk+HOtq6eydWljjAdInpSFkpe8olsNFTRVOQQAEQAAEQAAEXmECu03C0dUycjVR1LRFRmFRTwXTQuEXaPpCKV8iw0vL5Js0b002okq4hx7bwdJwioWSQt6C5j31etvBw+VqiZLDwnERtu6B96i5XBU24euxEk7rgqNiSVpLCH2LjZVw6/OXuprsVmtJaansN04tOS7euwpHY8yNjkKdpCNRMomQFc+7zGelP+pImLL18BTcGzxRUfhWuc3RqUZ+yipxLFQngjYWWSbKtnAvTIHrzJq+zapfUZob/pS2EbL5YLy7meY7oajFM0A2ZruqDheWVNSeVKMrQytDx60HD5dXHXP1Xxdhn2HDIhS7bFzfKvbVg2YdWrgRzfcLYUVNbQ4/3rrW0iJrXru59ORYHAEX0TJ95mQg5XSLubREfcTLS7lyi5ia8OOqfQLlGGnf2uthxHGPZl0lqkM7/IVL3OK4AQIgAAIgAAIgAAKvDoHdJuGoZ0AjbAghz6c7rC7fJnu/l4uFCPOn8UVcmnff8DuuRhFNt5ibp7jbhDAvBFuNo76ear1AmsdC8z56vS39KK+Id3qiccHxV16NQ+9eb1W0hKPLAk8O+nnWh6lmLh2pa4jH71Fr1VrXwyuptHA0I9I/jJJJxN9rPeKaCzHaOrFt0y2xiVi4I1SjRjb/5Z/ztllFIkr5lh/HQnUiqH2pSDg17DA8sDgzFT1Gsjn1ibWDrreUttFUIrYzs2ss4G/F8672CdzceLAwde5YSXnXbbWn5xvLs96Wd4QkDj+BEdMtG49vlTaViNYpp2GiqiyNhItv7eK5qqP1xy2aPxPVZH4Qqe1XPO/yh0rrTAvX0DgDCY+wZUHImj8NFSCtpLnuH+zodGl++XLNzY2ADKnkj67qebvXW6Ueh/vHEQiAAAiAAAiAAAi8ogR2m4Qj5GF/7VtVXT6e3f75ylATX4RDCHtzZcu0CKE5BkXoV/gFWuOmiJRwMmNHaMVjE6utwm/J/l5ruQw82xh3H+u7TWMX6fuo6Ov5+MnDtf10eRghIb+nsS1uoojYZ0z7Th/hgqNFaZoNsWaJrhOLCaSkkWnh8cplS5RPTe/ic0IYHFErDpxYi6KuaOTN5ob/WktFqcj/qT9qGr96VMT4bUw1W+1eGu8np2Bj7rNjZ2ZZ6Gdo4YyVR/1JJRPHwvBEpCLhqNSMnTV9mwlZ8R49XOW+vk4tC20uDzVZyttEb5c4AAAgAElEQVR8dGGhtG190KHq/Hu9R4Uv13/pePMQDwvduHaCxeVu3OhydM3z4NbbXdajLGpUDp9J0LAUkY3HsSpci03Jw/5a7lXWRvlqHGUaCadvLSHzXWz94cZUc3ncJK5UojdPMS8dXf9m5hJuc6qpVM1qs9jb1DFGh00d1BKyJs+N5k9DBUiHoJFwgYWpsXHN7wJPdELXFrayRXqh9anWchlRzL5YadZJc/L/27vjn6iuhI3j77/R34ZkiCZNIDXRLomYiVCBYIaEZJK+sHSDa1bCxhCtLoW2BkKosCFsg3arSOlLJYsvxi5qkNKA+EogdlnYWGVrgbggRuNE7I4sZkgx5825596Ze2fuDDMohWG+hMjMnXPPPedzMfHxnHtOyO8qbxFAAAEEEEAAgSQRSLwIJ8TinY5qz76s3a6s3Vl5BxqHjV281MQ2OeMrd5/n+CV9SwDTP4UjjsJ1dBzKLfS48/Lcn+jLPJiTw+ylY+59eW5rtbNdh/buKzjQLp8Q0ibUqevmFbdMRJymFv47ZYpw1iE4rai2jZicEFhQfLylPnwipWxYnpzD6S5tadafhZPNudNRLbc4e6+669qZwFmmRgZxwlsUckQuquHSv3OLD58eMpbsjNTrxYnT78mtzyTmsZ5ZY0UZNaBkakMAykgylgqDLTTfiNhH4YQQtnfNrgGyx4vfd374bp7qaW5pk1zmUX4F2rY43lKaq82nLT7WUmuMwtlcwui+pyBv73st49qvQvA30HS7TZXb//4Ez1Jtkc8K6gv5mEzsRuGEXWvlf2oYw7PytfGfDqpy05/yFzsrz+0p8BxpqQ1sKmDXL9mMls7adws8noK9gf/FEML0VyMAaI1wpstZXi5Oth7O25vnyd2X5T7WPauisPZca+A5QEt53iCAAAIIIIAAAkkpkIgRTr9Ryy/0f+JZb9zyYny7hBn/ynyxaOxDZa3PuJqs1vYT46BpR2Pj0Ov4qfUnckXLiwv/DmmXsbSGmo223zTBTy4F+GpbqIU1xLbX8jIRdzCL3obon4ZdfpUDWm1hZWzbLEsFVwEJO0dO2bX7FVixuYQ8FLH7djVrxyK2Sj9DWylnLOLpoR/YttZSaLjWCOcquwbG2dSviaWsemP9O2IkSRsBm3NjP7S8aPmb5u0uyzJWW429EkoigAACCCCAAAJbVyCBI9xruilGhHtN1W14NQs9x3ILtWX9B7obivPcLfoWcxveMBrwqgKTPc3dkyF5/VXrfIXzjQj3ClXEcOrC0JnT/fqIegzFKYIAAggggAACCGx9ASLcwtSA/ijOlrnbi/cG1e7Sl8Yse2FvmQ7Skc0gsHz/lrYv4mZoC21AAAEEEEAAAQSSSIAIl0Q3m64igAACCCCAAAIIIIBAogsQ4RL9DtJ+BBBAAAEEEEAAAQQQSCIBIlwS3Wy6igACCCCAAAIIIIAAAokuQIRL9DtI+xFAAAEEEEAAAQQQQCCJBIhwSXSz6SoCCCCAAAIIIIAAAggkugARLtHvIO1HAAEEEEAAAQQQQACBJBIgwiXRzaarCCCAAAIIIIAAAgggkOgCRLhEv4O0HwEEEEAAAQQQQAABBJJIgAiXRDebriKAAAIIIIAAAggggECiCxDhEv0O0n4EEEAAAQQQQAABBBBIIgEiXBLdbLqKAAIIIIAAAggggAACiS5AhEv0O0j7EUAAAQQQQAABBBBAIIkEiHBJdLPpKgIIIIAAAggggAACCCS6ABEu0e8g7UcAAQQQQAABBBBAAIEkEiDCJdHNpqsIIIAAAggggAACCCCQ6AJEuES/g7QfAQQQQAABBBBAAAEEkkiACJdEN5uuIoAAAggggAACCCCAQKILEOES/Q7SfgQQQAABBBBAAAEEEEgiASJcEt1suooAAggggAACCCCAAAKJLvBfUzOzfCOAAAIIIIAAAggggAACCCSEAKNwiR7CaT8CCCCAAAIIIIAAAggkkQARLoluNl1FAAEEEEAAAQQQQACBRBcgwiX6HaT9CCCAAAIIIIAAAgggkEQCRLgkutl0FQEEEEAAAQQQQAABBBJdgAiX6HeQ9iOAAAIIIIAAAggggEASCRDhkuhm01UEEEAAAQQQQAABBBBIdAEiXKLfQdqPAAIIIIAAAggggAACSSRAhEuim01XEUAAAQQQQAABBBBAINEFiHCJfgdpPwIIIIAAAggggAACCCSRABEuiW42XUUAAQQQQAABBBBAAIFEFyDCJfodpP0IIIAAAggggAACCCCQRAJEuCS62XQVAQQQQAABBBBAAAEEEl2ACJfod5D2I4AAAggggAACCCCAQBIJEOGS6GbTVQQQQAABBBBAAAEEEEh0ASJcot9B2o8AAggggAACCCCAAAJJJECES6KbTVcRQAABBBBAAAEEEEAg0QWIcIl+B2k/AggggAACCCCAAAIIJJEAES6JbjZdRQABBBBAAAEEEEAAgUQXIMIl+h2k/QgggAACCCCAAAIIIJBEAkS4JLrZdBUBBBBAAAEEEEAAAQQSXYAIl+h3kPYjgAACCCCAAAIIIIBAEgkQ4eK/2X6f1+eP/zTTGUs+35LpLS8RQAABBBBAAAEEEEAAgdgEkiXCeYc+q6yqquyajI0lSqmJ+l1OR4qrac01ebtLU52O1PI+UlwUZj5CAAEEEEAAAQQQQAABO4F4ItzL5Sczg593v/9OXbbjg7fe+IP2/cGe9Lrf/Lr7q96Zp/6XdlfYHMcenHU7UpyOo0Ov3Jz5VrfTsf3ghcdrrWlpqHKX05FxcnxlrTVEPW+kzpWZ6SrtnI9aig8RQAABBBBAAAEEEEAgIQVii3A/Pxy4/H56tRHbVHgL/7N6/28vD8/9vBkhXl+E24y9M7fp+lGnI8WZf5YIZ1bhNQIIIIAAAggggAACW0Rg9Qj3ZKxhz6rhzRznqguPjj1dR54V33hnVVGOHGvKLCxv6p3Xn0ubP1+a6crMPDliXPtB58HAeFQgwvkm2srkuTlFdf0PjCfaAiW939QUyko89aM+IXzjnUe0tzllZyd8erWj9bLAwQ4jIvnGzleW5MjGZHrKmoN1ipjb6Z/tbyrz2NSgelR6/sGzidYyeYnskpN9s0ajjW6afs53lLrStssI50jPUI00ujYzfVH2RR+dM7Utu+TkhR+Nzml1mdtTcXbUG3W0MNj9nJLKzglfoLDpEqbb5OupkDeu8htTL8aaszNdmSXnH5h6wksEEEAAAQQQQAABBBCwFYga4V4+H7hQqE+YVCGt7ndH+wbveJ/6AkNtPz9/4v2ht6/WU/crc8m3Lwz71mVepf96VYYWUXKKykqy09WI04zs22xbforTkXLkutFRFdvUeJQe4fLd+alvpmVmpKVqOSen+a4WOdSn2UUlO1N37Nzxpqw/tbyp2e0IvE1xFnV5tYqHKuRV3K2z8p1/qGqnLLwju6S8KHuHPNHdNi3rjLWd/qGanVpj0jJcO7XuOHYdua4ilepRTnmZy+lI36G3ObUk8hxOuwinzSCVXZPNVqNz8x0erY8y5imKjIoBPcUZ7XkzLdOVqSj0Hhmspp8P/sezTVYrC+vRcbXu+3vLpVLZlUCGG/lIuhV2Kl5T7bxEAAEEEEAAAQQQQACBMIHIEe7l06/PZQdTWWPDX+aeh51uOeCb++vR+uBky23nrj15/SlOJagjfWq0xzdUX3ak/gttiCyWCJfiPvWjlh38E/UuGWlUctADnpGdpv+sPTiXfqRPyzUPvvCobKYNE1kinJq1WPGNcvBdryuvqGsbfyaEiLGdk02yGTsqelWC8l0/KgNq2kejska9R8an/plT+VoM+8IYAbTw629CJlLqXUt1N40ZIU0LUWkV/fqI2UxbfqrTkV4zIklVewwlobfHPl8t9ZfJ8GkUXpmRTwmmOMt6/dG6r59V3qNWc1kZPSGDa8kFEpzd3eQYAggggAACCCCAAAIhApEi3POBL4P5LY4hNevA3bYvh/XcEHLZtb+d0P7Fn1Ha3H933udXQU7VFkuEMw3+eLtKZDCr6BdC6DknsNjJwBH5UeCtqjm/LTzCjdfIEaSdpc19389b9wmIrZ0zn2WnOB2ZzXcDIOpa6TXjwQhnP64YOCPkhX2E07qpSvZVyHGzyl6v8TXfUeJ0pOScmhFCtafws7vGZ96hGjl8Zzo9eLlvNCUTqQhulhC5+0KoYTf9vNGatBSn4/f9gUG5YP28QgABBBBAAAEEEEAAgTAB+wjnG6t2GI+3vdN3P+ysVQ5M9f23MXy3p3xslbG7VeoK+9g3ejJbPe6lpvAV1vSpxSFjiHA7T04E61M5TQtma45wwjdan6NNStSmKW7b4TnxjT6cFFM7TW0wGqYP38npoFF7ZJQP/Wkf4QJxVMy3akN5MqNavysGhFDtsR6XxfT4arlWKJrlQxGx+0IIFdu0DKfHOTlwxxcCCCCAAAIIIIAAAgisLmAX4V4Ml3+sz4d8++sfVq/DrsRUr5HiPq4eeGFX4lWOrfh9P472nD1ZpuLTrhq5QH/UwGOTN9QgUlG39xVG4VQn/M9mRr5uqy/L0R4MyzgxZvRt1XZ+35yZ4nTkfDZtnCG83UUyQWkjb1F7FDgj5MVqEc7fU+Z0pGScGAoMtOkv5Hblqj0l5x+EfPjMJmL5r2hPtdkO0Kk22XZffjTZlOl0pJT3LGmDdfoczpB+8BYBBBBAAAEEEEAAAQRsBGwi3NTl/foYWmPb1JofZnt5/9NGIwdeXmMOtGnv48m+r9vqO419tVf6TYuL6E+pyQmB8sunZRV9eX09whmPtwU+zWyWVYUGvFgnUnrv9l5prTuv1kQRQmhzFLUrRmmnOZitDFWox8n0NgufykVasIweSm1wtEOrRThxt9nlSHFm/tEwFL7x3ivXv/fKWanqQbXU8p7A/NeZ0Z7e0WkZ7+SXf3b0+qTxmepIkFSMn3SlZeTUD/tFlO5r9ag2VPzxZGaKM63GNDSqLsOfCCCAAAIIIIAAAgisp8Czn3wj340P/t9ojN8j340/+8n4Z/B6NiyWusMi3Mu/VetDcNnV92KpwVTmP7c/7zM9/HavYZuajflxw/Cao6CpevlSXwwjo7DufF9vf0dVjpzm51LPknkvlGqTA7e7iiqOFLnezM+Xq5KYV6RMc7l2ZpRUVFVVFGnLWhqrO641wvn7fi+vuLPwZEdvf19nVbbMY66myajtNEc4IabVnuO7PJVnr3TUlWirUxrjeNaSgagZfc+3B19oa7FkH6ysahtfCkunMtsOVeySj8NlH23r6b3SWqEZGlMl9fZklNR39vd1niyUJXdUDGgRTh8h1Doob4a+2IlDFr7SelQbhFTxL9pt0u6o6lqAK+Qu8xYBBBBAAAEEEEAAgfUUmLh9N8bwFig28p1crWIzfIVFuH9U60Nwn/7vk7ga+J/bDU1y2C39q0CKe/rlp/pAXPk/4qorWmH/j+fLXMHHz9LcJ6/LFSC1r+CTaW9mHr3i1aZKmiNc/tmJkTo13dHpSC9pMjZ7W2uEE8I/01Hm0uZPaukx3V0/pKfziO0MDWa+8bPlmYGn+0w1rG0UTixNnlJ7BqTsODFmF+GEEI/7T7i1LRC0x97S3CdHgv+nYG3PdldZlzFEuDRUucvpMHKvFF/x9n3k1nc7SHFuyzGeSxQiYvf1W+Xt8GhievzWj/IDAQQQQAABBBBAAIFfQEAFs9gvFG/52GteQ8nQCPf3C3tUhNvT9zCO6oz8Js/9YH/tP5fVuXPGuiaOC7fjqC2Woks+r9drzO+znuD3W1aqtH4o3y35vHYPd4UXjPXIij9ia6K001J75BosxfQ3euYMXXckuHal8Pvsccy1RWub1p5wpRW/P/yxOK371gU5jctEu4RRhp8IIIAAAggggMDWFvDPXz9bVZTjysx0FZY1982G/3PK1P8V33inXji7pKp1aD6ktH+2v6mqqrKqqrIr8FyM/0Fvc1mhrD+zsLzp4qS+d5QQ3qHPZMmw71NDxoZOK767F/VzV2+bqZmJ/jLeSBZv+XX1CYlwDz/XRtLe+MP+hn/FfF1Lfss++g/TEpT/Op2u5lI2fTUXc30UXFUgwt/G7uDmBKtWQQEEEEAAAQQQQACBX0DAN1SZoU0+Cv7ne0ZpYJZTSAOMjXbNK4fvrDJmeQnf+NmDcsMn9a0vOW482xI4nuLc5mmb1jbfivD//vqjRsLmcpHbFtLUBH8bbySLt/y68oREuNvGg3Dvf21dRnLq3m2f7fNsUfKbEOLFtV8bj8P9fV37QeUIIIAAAggggAACCGw6Af/1o9rTK6nuptF5r3fmwu8tKzKEtFct+eaQhb0+n2/6YrkW2PSFCfQlD3YdLFV7RGkRzt+rLRKeklF2ccbn8z0Ybc6Xyw3oIc0/M9rX2x/8vnKyUEt6RV1yFO7uH+Uqd47UnMqLkw/mJzv0th28YAzRhTRvK72NN5LFW35drUIi3HC5vh1c9YDpslM3Dm/7w1vbvhwMTXHR85uswb5CU928RAABBBBAAAEEEEBgiwosXSnTIlNhp5GKVkZPpMuIpdZFt3Z75lROMH1pH6ntoJwObUPdB2fdOw+en/YLtQK5Q4twakV09VrVpgezTLXgn+UK+qCc2tJJXxrdWXbFWBRhZbJDm3J5ITBD03L2lnoTbySLt/y6Yq0e4fz/bNAnQ4akuNXzGxFuXe8dlSOAAAIIIIAAAghsboGhKm3So7t1PthOPXSpTaSCh4UQ2pa5KU41RKY+Ga/RBvHSa8aFXOtAHTRFOO+FIpn6zLs0ebtKtIuWhA6mLQ1VaOlRz5NjNWkyXpb3LPkfDLXVy/DWfCGwfZSlYVvwTbyRLN7y60oWEuHsJ1JOGauSvBFIcTHlNyZSruu9o3IEEEAAAQQQQACBTS3gV1v+ppjWnBNi+s+WLZ1MHdDzmCP/M/Ukm3jWr0KXw1qDKcIJI+Md6VP5zj9zSk2zTHG3zprqDuyErIbghBDa4u2O9CMnjmpzO41H6fLPGquRW87eam/ijWTxll9Xr5AIF3E5E0uKO3e6Wl/15K03PrCuXxLSWJYzCQHhLQIIIIAAAggggEDSCOhPr1kDmD6b0diV14IxVqOvVrJ9R2ZmRlqqM9+tbflrrcEc4cTj7iLt4TdH6o6dma607c6dbnemzGPWCBcyBBdIdClOR3ZV348+n2/+eo2WLdUux5ZmbcE38UayeMuvK1lIhBNRNhUwpzh977jo+U2IddxUYF1VqBwBBBBAAAEEEEAAgVcXGDgSPqfxepWc+uhwtz2wq9830VaWrSZP5pSdnfCqcTzrg22WCKe2/C3cIXcq3r6j8KN+70SzFuHKe5aCF7A8BacO623bcWLUKGY8p5f/hWnep/HhFvsZbySLt/y6coVGOBF1a29LilstvwmxLlt7rysHlSOAAAIIIIAAAggg8NoEZtvytQmKFcGlAiebXKFPrwUu53/mlV+m7X1D05pW1HxQ28zXa9702GaUL2wITlbzvUp6OaeCEyfD11MJNG2rvYg3ksVbfl29wiLcy78Z+wpkV9+zubSe4lbPb0Lca9hm7CgwbLshgU31HEIAAQQQQAABBBBAYMsIzLeqJ9Pcn01rW3T7eo9oi4gExr580xebmy7OqAfZRj7Sxt9cNSPae9/YSS0BBgrrLOYI5+30yDG91JKOx/JT/2x3mXnNEu0MmyE4eVwPkzuP6vvO+QaOqD0MTozpF9rCP+KNZPGWX1e6sAgnxNTl/fo8yca2KbvoNdV32LJ/t20DX97/tPEtVc/bl3+wLcJBBBBAAAEEEEAAAQS2uID58bYMLaGlOAOpSehLVjorhzSG2Ta1q5sjxbltuzbf0lzYkDJHOLE0VLlLL7lt+5vavE05S1NfEEUIsdRfpj0sZ17oUtVkZDbnth2uzExtKmaK02GzVKZx4S30M95IFm/5daWyiXDixXD5x3r62tN7f22Xv/O1kQM/rh6w7hK+tgo5CwEEEEAAAQQQQACBRBSQj7e5jHCVuiP/o37vitEPldlSg0uP+H88H7GwcZIlwgkhng3Vu/Vw6Eh5M7OsbVzffUCeoG8Tt6tmPHBRox4hhG+ouShS20zFtt7LeCNZvOXXVcwuwgnhG6t26Ht8v/VOX9wpzvTI3J7ysefr2gEqRwABBBBAAAEEEEAgAQSWfJan3AIt9vtMz74ZR1Vhu9BllAj7qT0VZ1NVWEGbA5HaZlN0ixyKN5LFW35dmewjnBDPB77M1qdT/uGtty8M++xmVNq07OXzgQuFgRO3fTls+i8Am+IcQgABBBBAAAEEEEAAAQR+YYGJ23dVKov9z4nbd3/hRka6XKQIJ8TLp1+fC6a4Nxob/jK3yniab+6vRxt/Fcxv5649iTH4RWodxxFAAAEEEEAAAQQQQACB1y3w7CdfXClu5LvxZz9tlsGpyBFOCGEdUpPZrO53tdeH73if+n42FH9+/sT7w8D1Zk9dMLy9EdfAnVFT7D+XHw6ePlzq8Xg8h2q6bmmL78R+cmwlH106dvxStJqX/724HNfQdvh1Fye7Kks9x3oeCfHo0jHZneDXsUsPrSc87DnuaRm3HuMdAggggAACCCCAAAIIJJtA1AinYTwZa9hTra9uEhhhi/aiuvDo2NP1c1y8We/OKm64OvloYWH2ZvvxgqwDXXOv/XKPOkoPdESpdq6rtPRVLrt8r70sz1NbfXh3aecjIcSLxYXA11x3hevw1QVrn+Y6D7jqA/suWj/jHQIIIIAAAggggAACCCSLwOoRTkr8/HDg8vvpqwa56v2/vTw8FxigWxfD6dZ3C2pvLgfrnm73ZNWPqgGxlYWpq+0NjU2nO4YfGUWmepquTj6+ca6poaX7zqJYnL7W2tjUcO7a7KKqY/pqY8/U41tdLU0NLZ3jxsCbJcItPx7taGlobGq9Or0oL7Qweq7mwP6CAx83dYxoScvuusEW2r16dK396sNlcbNej3CmMlNninObJtQBvbUt3Xe+t41wy49udp5ulC0ffWh0WBh9bOm+c/9WR2PPlKor/kaaGsVLBBBAAAEEEEAAAQQQ2BQCsUU41dSXy09mBj/vfv+dumzHB8a43Ad70ut+8+vur3pnnvp/gSff5joPeM7omSQUcHG0rsB9pP3bgcFvWw7lFrbc0XLdaF1WbnF918itG+eOuQ8eOv5x5+jIra7qgt3Vg1roGa51FbjL6y8NDN7ori/ed0iNrQUj3Mpc10HP8XPX1FnuT24ti+XZW921Hk9t9+D4/WUhFkfrPMWfdI+O3Pr2T4f2HuyWo2oxfoVHuMVrH+47fNWrnT/R4t536PTVwRtX24+/V5AbNgo3da54b3H9pZFbo7Ll1TfU5g32Z9njxNhMiiGAAAIIIIAAAggggMAmEYgnwm2GJodnnkCrpts9Hj22CbF8ozqr4pIcIhuty6pVWyWK4VqXMftxrvNAlpqXaDooxNQZT+6f5AhYIMIt91fv1cOeECsTzfvVFEfTRMrpds+77UaqXLhUXtCsD6EZLVt5PH510Bj0Mw6qn2HdmTpT7NYaIMTyt5VZx6/qY4VyvC4swomV5WV97G3x6rGs2psi9KyxJj34RcCxtoZ3CCCAAAIIIIAAAgggsNkFEi3C3Tvjea991lb1Zv3uuuHAJ486SlUYkxFOZhshQiKcnoiGa83RyKgkEOEedZTuzgsuM5KbpUKgKcLdrN+9ryBQIndf4HJGWx52H3AVnP7eeGv+GRLhzENwwnQJIYTts3ALE5daqss8nty8POO6Ec4y+qUuHsAxt4XXCCCAAAIIIIAAAgggsPkFEi3CrQzX6iHKsH0x3OBpGl0WcpzqcE9gEZCpMx61HkkMEa7mhrG25PK1apUDzRHOc2bauFjgpykp3azfXXkt+CBaoEgsL6wRzjQEJ0NbV6lpQO9+e7E5asrK5WOBH/ZML2rzJ2/UqOj4uOug3VkRcGJpI2UQQAABBBBAAAEEEEBg8wgkWoQT4lHXob3FLaNeLTS9mLtaXaA9nybEi8EPs0o77mu2i8O1BcWtWvKKIcJl6YtPrsx1lGZ92C9rDkQ4Md3uKagfVfMZFwebD3fekZ/LCKdf68Xgh/sOdanrrkx3VNbfCNkPIMrdNkc4yxCcPGfqXHFuzbB2ZfkkW9hEyonm/UYbFodr9+ujf9LnYPvUCyE0HP2sCDhRmsZHCCCAAAIIIIAAAgggsAkFEi/CCbF4p6Pasy9rtytrd1begcbhBWMMbXGspXhfXq7Hk7vPc/ySviVADBGupqPjUG6hx52X5/5ERSZThBNi9tIx9748t7Xa2a5De/cVHGiXMdF03bzilgnj8bUYbrcpwlmH4LRzV+a6DuXJaZwFxcdb6sM3FZANy5NzON2lLc36s3CyOXc6qos9Hs971V3XzgTOMjUyiBNDEymCAAIIIIAAAggggAACm0ggESOczrf8wnb24vLiQlybbhvPwr1YVDMSI9wcrdoIn6nDr2Gzb7v6V7nw8uLCv0McAmucCHG/vXh/y51gtfHiBM/kFQIIIIAAAggggAACCGwGgQSOcK+Jz4hwr6m6Da9moedYbuGx1quDNwa6G4rz3C0h62NueANpAAIIIIAAAggggAACCKxdgAi3MDUwGVgEZe2Qm+nMxXuDcqfyxvZLY49DRug2UzNpCwIIIIAAAggggAACCMQtQISLm4wTEEAAAQQQQAABBBBAAIGNEiDCbZQ810UAAQQQQAABBBBAAAEE4hYgwsVNxgkIIIAAAggggAACCCCAwEYJEOE2Sp7rIoAAAggggAACCCCAAAJxCxDh4ibjBAQQQAABBBBAAAEEEEBgowSIcBslz3URQAABBBBAAAEEEEAAgbgFiHBxk3ECAggggAACCCCAAAIIILBRAkS4jZLnuggggAACCCCAAAIIIIBA3AJEuLjJOAEBBBBAAAEEEEAAAQQQ2CgBItxGyXNdBBBAAAEEEEAAAQQQQCBuAZHq7eMAAACfSURBVCJc3GScgAACCCCAAAIIIIAAAghslAARbqPkuS4CCCCAAAIIIIAAAgggELcAES5uMk5AAAEEEEAAAQQQQAABBDZKgAi3UfJcFwEEEEAAAQQQQAABBBCIW4AIFzcZJyCAAAIIIIAAAggggAACGyVAhNsoea6LAAIIIIAAAggggAACCMQtQISLm4wTEEAAAQQQQAABBBBAAIGNEvh/2Ra4OcTZr7sAAAAASUVORK5CYII=)"
      ],
      "metadata": {
        "id": "YN2z0R6QArBf"
      }
    },
    {
      "cell_type": "markdown",
      "source": [
        "**Висновки:**\n",
        "\n",
        "Близькі та досить високі значення метрики на тренувальних та валідаційних даних свідчать про те, що модель добре генералізує на нових даних. Модель має кращі результати в порівнянні з моєю найкращою моделлю DecisionTrees."
      ],
      "metadata": {
        "id": "3OfjPa7uA495"
      }
    },
    {
      "cell_type": "markdown",
      "source": [
        "3. Використовуючи бібліотеку `Hyperopt` і приклад пошуку гіперпараметрів для `XGBoostClassifier` з лекції знайдіть оптимальні значення гіперпараметрів `XGBoostClassifier` для нашої задачі. Задайте свою сітку гіперпараметрів виходячи з тих параметрів, які ви б хотіли перебрати. Поставте кількість раундів в підборі гіперпараметрів рівну **20**.\n",
        "\n",
        "  **Увага!** Для того, аби скористатись hyperopt, нам треба задати функцію `objective`. В ній ми маємо задати loss - це може будь-яка метрика, але бажано використовувтаи ту, яка цільова в вашій задачі. Чим менший лосс - тим ліпша модель на думку hyperopt. Тож, тут нам треба задати loss - негативне значення AUROC. В лекції ми натомість використовували Accuracy.\n",
        "\n",
        "  Після успішного завершення пошуку оптимальних гіперпараметрів\n",
        "    - виведіть найкращі значення гіперпараметрів\n",
        "    - створіть в окремій зміній `final_clf` модель `XGBoostClassifier` з найкращими гіперпараметрами\n",
        "    - навчіть модель `final_clf`\n",
        "    - оцініть якість моделі `final_clf` на тренувальній і валідаційній вибірках з допомогою AUROC.\n",
        "    - зробіть висновок про якість моделі. Чи стала вона краще порівняно з попереднім пунктом (2) цього завдання?"
      ],
      "metadata": {
        "id": "U4hm5qYs_f7x"
      }
    },
    {
      "cell_type": "code",
      "source": [
        "import xgboost as xgb\n",
        "from hyperopt import fmin, tpe, hp, STATUS_OK, Trials\n",
        "from sklearn.metrics import roc_auc_score, accuracy_score"
      ],
      "metadata": {
        "id": "WhR1g9B4433r"
      },
      "execution_count": 5,
      "outputs": []
    },
    {
      "cell_type": "code",
      "source": [
        "! pip freeze | grep xgboost"
      ],
      "metadata": {
        "colab": {
          "base_uri": "https://localhost:8080/"
        },
        "id": "wZsmCvRxu9ed",
        "outputId": "0061d3d0-5825-4400-fa01-60094b873854"
      },
      "execution_count": 6,
      "outputs": [
        {
          "output_type": "stream",
          "name": "stdout",
          "text": [
            "xgboost==3.0.2\n"
          ]
        }
      ]
    },
    {
      "cell_type": "code",
      "source": [
        "def objective(params):\n",
        "    clf = xgb.XGBClassifier(\n",
        "    n_estimators=int(params['n_estimators']),\n",
        "        learning_rate=params['learning_rate'],\n",
        "        max_depth=int(params['max_depth']),\n",
        "        min_child_weight=params['min_child_weight'],  # Мінімальна сума ваг всіх вибірок, необхідна в кінцевому вузлі\n",
        "        subsample=params['subsample'],  # Частка вибірок, що використовуються для побудови кожного дерева\n",
        "        colsample_bytree=params['colsample_bytree'],  # Частка ознак, що використовуються при побудові кожного дерева\n",
        "        gamma=params['gamma'],  # Мінімальне зменшення втрат, необхідне для виконання поділу\n",
        "        reg_alpha=params['reg_alpha'],  # Параметр регуляризації L1 (Lasso)\n",
        "        reg_lambda=params['reg_lambda'],  # Параметр регуляризації L2 (Ridge)\n",
        "        enable_categorical=True,\n",
        "        #use_label_encoder=False,\n",
        "        missing=np.nan,\n",
        "        device='cuda',\n",
        "        early_stopping_rounds=10\n",
        "    )\n",
        "\n",
        "    clf.fit(\n",
        "        X_train,\n",
        "        train_targets,\n",
        "        eval_set=[(X_val, val_targets)],\n",
        "        verbose=False)\n",
        "    pred = clf.predict_proba(X_val)[:, 1]\n",
        "    AUROC = roc_auc_score(val_targets, pred)\n",
        "\n",
        "\n",
        "    return {'loss': -AUROC, 'status': STATUS_OK}\n",
        "\n",
        "# Простір гіперпараметрів\n",
        "space = {\n",
        "    'n_estimators': hp.quniform('n_estimators', 50, 500, 25),\n",
        "    'learning_rate': hp.uniform('learning_rate', 0.01, 0.3),\n",
        "    'max_depth': hp.quniform('max_depth', 3, 15, 1),\n",
        "    'min_child_weight': hp.quniform('min_child_weight', 1, 10, 1),\n",
        "    'subsample': hp.uniform('subsample', 0.5, 1.0),\n",
        "    'colsample_bytree': hp.uniform('colsample_bytree', 0.5, 1.0),\n",
        "    'gamma': hp.uniform('gamma', 0, 0.5),\n",
        "    'reg_alpha': hp.uniform('reg_alpha', 0, 1),\n",
        "    'reg_lambda': hp.uniform('reg_lambda', 0, 1)\n",
        "}\n",
        "\n",
        "# Оптимізація\n",
        "trials = Trials()\n",
        "best = fmin(fn=objective, space=space, algo=tpe.suggest, max_evals=50, trials=trials)  # max_evals=20 кількість ітерацій\n",
        "\n",
        "\n",
        "# Перетворення значень гіперпараметрів у кінцеві типи даних\n",
        "best['n_estimators'] = int(best['n_estimators'])\n",
        "best['max_depth'] = int(best['max_depth'])\n",
        "best['min_child_weight'] = int(best['min_child_weight'])\n",
        "\n",
        "print(\"Найкращі гіперпараметри: \", best)\n",
        "\n",
        "# Навчання фінальної моделі з найкращими гіперпараметрами\n",
        "final_clf = xgb.XGBClassifier(\n",
        "    n_estimators=best['n_estimators'],\n",
        "    learning_rate=best['learning_rate'],\n",
        "    max_depth=best['max_depth'],\n",
        "    min_child_weight=best['min_child_weight'],\n",
        "    subsample=best['subsample'],\n",
        "    colsample_bytree=best['colsample_bytree'],\n",
        "    gamma=best['gamma'],\n",
        "    reg_alpha=best['reg_alpha'],\n",
        "    reg_lambda=best['reg_lambda'],\n",
        "    enable_categorical=True,\n",
        "    #use_label_encoder=False,\n",
        "    missing=np.nan,\n",
        "    device='cuda',\n",
        ")\n",
        "\n",
        "final_clf.fit(X_train, train_targets)\n",
        "\n",
        "final_pred_train = final_clf.predict_proba(X_train)[:, 1]\n",
        "final_AUROC_train = roc_auc_score(train_targets, final_pred_train)\n",
        "print(\"Точність на тренувальній вибірці: {:.5f}\".format(final_AUROC_train))\n",
        "\n",
        "final_pred_val = final_clf.predict_proba(X_val)[:, 1]\n",
        "final_AUROC_val = roc_auc_score(val_targets, final_pred_val)\n",
        "print(\"Точність на валідаційній вибірці: {:.5f}\".format(final_AUROC))"
      ],
      "metadata": {
        "colab": {
          "base_uri": "https://localhost:8080/"
        },
        "id": "7atWK0jIxxl2",
        "outputId": "02dbc6f8-cb34-4894-de27-dda4e94f89c2"
      },
      "execution_count": 45,
      "outputs": [
        {
          "output_type": "stream",
          "name": "stdout",
          "text": [
            "100%|██████████| 50/50 [00:12<00:00,  4.06trial/s, best loss: -0.9376596474380959]\n",
            "Найкращі гіперпараметри:  {'colsample_bytree': np.float64(0.6742271739507513), 'gamma': np.float64(0.41742628252413955), 'learning_rate': np.float64(0.1124385659092804), 'max_depth': 4, 'min_child_weight': 10, 'n_estimators': 225, 'reg_alpha': np.float64(0.5446488705861751), 'reg_lambda': np.float64(0.6338060644422736), 'subsample': np.float64(0.725284085187097)}\n",
            "Точність на тренувальній вибірці: 0.95633\n",
            "Точність на валідаційній вибірці: 0.93624\n"
          ]
        }
      ]
    },
    {
      "cell_type": "markdown",
      "source": [
        "**Висновки:**\n",
        "\n",
        "Результат ще трохи покращився, і модель гарно працює."
      ],
      "metadata": {
        "id": "0lDMaNPWCaFa"
      }
    },
    {
      "cell_type": "markdown",
      "source": [
        "4. Навчіть на наших даних модель LightGBM. Параметри алгоритму встановіть на свій розсуд, ми далі будемо їх тюнити. Рекомендую тренувати не дуже складну модель.\n",
        "\n",
        "  Опис всіх конфігураційних параметрів LightGBM - тут https://lightgbm.readthedocs.io/en/latest/Parameters.html\n",
        "\n",
        "  **Важливо:** зробіть такі налаштування LightGBM аби він самостійно обробляв незаповнені значення в даних і обробляв категоріальні колонки.\n",
        "\n",
        "  Аби передати категоріальні колонки в LightGBM - необхідно виявити їх індекси і передати в параметрі `cat_feature=cat_feature_indexes`\n",
        "\n",
        "  Після тренування моделі\n",
        "  1. Виміряйте точність з допомогою AUROC на тренувальному та валідаційному наборах.\n",
        "  2. Зробіть висновок про отриману модель: вона хороша/погана, чи є high bias/high variance?\n",
        "  3. Порівняйте якість цієї моделі з тою, що ви отрмали з використанням XGBoostClassifier раніше. Чи вийшло покращити якість?"
      ],
      "metadata": {
        "id": "Vg77SVWrBBmU"
      }
    },
    {
      "cell_type": "code",
      "source": [
        "import lightgbm as lgb\n",
        "print(lgb.__version__)"
      ],
      "metadata": {
        "id": "C-9aZn4d45No",
        "colab": {
          "base_uri": "https://localhost:8080/"
        },
        "outputId": "c94bbccf-ecd1-4476-b04a-bbfa41f519cb"
      },
      "execution_count": 21,
      "outputs": [
        {
          "output_type": "stream",
          "name": "stdout",
          "text": [
            "4.6.0\n"
          ]
        }
      ]
    },
    {
      "cell_type": "code",
      "source": [
        "cat_feature_indexes = [X_train.columns.get_loc(col) for col in cat_features]"
      ],
      "metadata": {
        "id": "xMaLpzaZ7Wzr"
      },
      "execution_count": 22,
      "outputs": []
    },
    {
      "cell_type": "code",
      "source": [
        "lgb_clf = lgb.LGBMClassifier(\n",
        "    max_depth=3,\n",
        "    n_estimators=50,\n",
        "    learning_rate=0.1,\n",
        "    cat_feature=cat_feature_indexes,  # для автоматичного розпізнавання категорійних ознак\n",
        "    # missing=np.nan,  # явне вказування пропущених значень\n",
        "    # # device='cuda'  # використовувати GPU для прискорення обчислень\n",
        "    verbose = -1\n",
        ")\n",
        "\n",
        "lgb_clf.fit(X_train, train_targets, eval_set=[(X_val, val_targets)])\n",
        "\n",
        "train_pred = lgb_clf.predict(X_train)\n",
        "val_pred = lgb_clf.predict(X_val)\n",
        "\n",
        "print(classification_report(train_targets, train_pred, digits=4))\n",
        "print(classification_report(val_targets, val_pred, digits=4))\n",
        "\n",
        "train_proba = lgb_clf.predict_proba(X_train)[:, 1]\n",
        "val_proba = lgb_clf.predict_proba(X_val)[:, 1]\n",
        "\n",
        "print('Train AUROC', round(roc_auc_score(train_targets, train_proba), 5))\n",
        "print('Validation AUROC', round(roc_auc_score(val_targets, val_proba), 5))"
      ],
      "metadata": {
        "colab": {
          "base_uri": "https://localhost:8080/"
        },
        "id": "9OdxFY8c7YJN",
        "outputId": "872d8d3e-e6c2-4072-ab78-dce7d9731776"
      },
      "execution_count": 33,
      "outputs": [
        {
          "output_type": "stream",
          "name": "stdout",
          "text": [
            "              precision    recall  f1-score   support\n",
            "\n",
            "         0.0     0.9184    0.9632    0.9403      9558\n",
            "         1.0     0.8219    0.6650    0.7352      2442\n",
            "\n",
            "    accuracy                         0.9025     12000\n",
            "   macro avg     0.8701    0.8141    0.8377     12000\n",
            "weighted avg     0.8988    0.9025    0.8985     12000\n",
            "\n",
            "              precision    recall  f1-score   support\n",
            "\n",
            "         0.0     0.9175    0.9590    0.9378      2390\n",
            "         1.0     0.8048    0.6623    0.7266       610\n",
            "\n",
            "    accuracy                         0.8987      3000\n",
            "   macro avg     0.8612    0.8106    0.8322      3000\n",
            "weighted avg     0.8946    0.8987    0.8949      3000\n",
            "\n",
            "Train AUROC 0.93881\n",
            "Validation AUROC 0.93622\n"
          ]
        }
      ]
    },
    {
      "cell_type": "markdown",
      "source": [
        "**Висновки:**\n",
        "\n",
        "Близькі та досить високі значення метрики на тренувальних та валідаційних даних свідчать про те, що модель добре генералізує на нових даних. Модель має кращі результати в порівнянні зі звичайною XGBoostClassifier, без підбору гіперпараметрів."
      ],
      "metadata": {
        "id": "73CIRGhkCtNV"
      }
    },
    {
      "cell_type": "markdown",
      "source": [
        "5. Використовуючи бібліотеку `Hyperopt` і приклад пошуку гіперпараметрів для `LightGBM` з лекції знайдіть оптимальні значення гіперпараметрів `LightGBM` для нашої задачі. Задайте свою сітку гіперпараметрів виходячи з тих параметрів, які ви б хотіли перебрати. Поставте кількість раундів в підборі гіперпараметрів рівну **10**.\n",
        "\n",
        "  **Увага!** Для того, аби скористатись hyperopt, нам треба задати функцію `objective`. І тут ми також ставимо loss - негативне значення AUROC, як і при пошуці гіперпараметрів для XGBoost. До речі, можна спробувати написати код так, аби в objective передавати лише модель і не писати схожий код двічі :)\n",
        "\n",
        "  Після успішного завершення пошуку оптимальних гіперпараметрів\n",
        "    - виведіть найкращі значення гіперпараметрів\n",
        "    - створіть в окремій зміній `final_lgb_clf` модель `LightGBM` з найкращими гіперпараметрами\n",
        "    - навчіть модель `final_lgb_clf`\n",
        "    - оцініть якість моделі `final_lgb_clf` на тренувальній і валідаційній вибірках з допомогою AUROC.\n",
        "    - зробіть висновок про якість моделі. Чи стала вона краще порівняно з попереднім пунктом (4) цього завдання?"
      ],
      "metadata": {
        "id": "nCnkGD_sEW1i"
      }
    },
    {
      "cell_type": "code",
      "source": [
        "def objective(params):\n",
        "    clf = lgb.LGBMClassifier(\n",
        "        n_estimators=int(params['n_estimators']),  # Кількість дерев у ансамблі (кількість ітерацій бустингу)\n",
        "        learning_rate=params['learning_rate'],  # Коефіцієнт, на який зменшується внесок кожного доданого дерева\n",
        "        max_depth=int(params['max_depth']),  # Максимальна глибина кожного дерева\n",
        "        num_leaves=int(params['num_leaves']),  # Максимальна кількість листків, що дозволяємо кожному дереву мати.\n",
        "        min_child_weight=params['min_child_weight'],  # Мінімальна сума ваг всіх вибірок, необхідна в кінцевому вузлі\n",
        "        subsample=params['subsample'],  # Частка вибірок, що використовуються для побудови кожного дерева\n",
        "        colsample_bytree=params['colsample_bytree'],  # Частка ознак, що використовуються при побудові кожного дерева\n",
        "        reg_alpha=params['reg_alpha'],  # Параметр регуляризації L1 (Lasso)\n",
        "        reg_lambda=params['reg_lambda'],  # Параметр регуляризації L2 (Ridge)\n",
        "        min_split_gain=params['min_split_gain'],  # Мінімальне зменшення втрат, необхідне для виконання поділу\n",
        "        cat_feature=cat_feature_indexes  # Індекси категорійних ознак\n",
        "    )\n",
        "\n",
        "    clf.fit(X_train, train_targets, eval_set=[(X_val, val_targets)])\n",
        "    pred_proba = clf.predict_proba(X_val)[:, 1]\n",
        "    AUROC = roc_auc_score(val_targets, pred_proba)\n",
        "\n",
        "    return {'loss': -AUROC, 'status': STATUS_OK}\n",
        "\n",
        "# Простір гіперпараметрів\n",
        "space = {\n",
        "    'n_estimators': hp.quniform('n_estimators', 50, 500, 25),\n",
        "    'learning_rate': hp.uniform('learning_rate', 0.01, 0.3),\n",
        "    'max_depth': hp.quniform('max_depth', 3, 15, 1),\n",
        "    'num_leaves': hp.quniform('num_leaves', 20, 150, 1),\n",
        "    'min_child_weight': hp.quniform('min_child_weight', 1, 10, 1),\n",
        "    'subsample': hp.uniform('subsample', 0.5, 1.0),\n",
        "    'colsample_bytree': hp.uniform('colsample_bytree', 0.5, 1.0),\n",
        "    'reg_alpha': hp.uniform('reg_alpha', 0, 1),\n",
        "    'reg_lambda': hp.uniform('reg_lambda', 0, 1),\n",
        "    'min_split_gain': hp.uniform('min_split_gain', 0, 0.1)  # додано мінімальне зменшення втрат для поділу\n",
        "}\n",
        "\n",
        "# Оптимізація\n",
        "trials = Trials()\n",
        "best = fmin(fn=objective, space=space, algo=tpe.suggest, max_evals=10, trials=trials)\n",
        "\n",
        "# Перетворення значень гіперпараметрів у кінцеві типи\n",
        "best['n_estimators'] = int(best['n_estimators'])\n",
        "best['max_depth'] = int(best['max_depth'])\n",
        "best['num_leaves'] = int(best['num_leaves'])\n",
        "best['min_child_weight'] = int(best['min_child_weight'])\n",
        "\n",
        "print(\"Найкращі гіперпараметри: \", best)\n",
        "\n",
        "# Навчання фінальної моделі з найкращими гіперпараметрами\n",
        "final_clf = lgb.LGBMClassifier(\n",
        "    n_estimators=best['n_estimators'],\n",
        "    learning_rate=best['learning_rate'],\n",
        "    max_depth=best['max_depth'],\n",
        "    num_leaves=best['num_leaves'],\n",
        "    min_child_weight=best['min_child_weight'],\n",
        "    subsample=best['subsample'],\n",
        "    colsample_bytree=best['colsample_bytree'],\n",
        "    reg_alpha=best['reg_alpha'],\n",
        "    reg_lambda=best['reg_lambda'],\n",
        "    min_split_gain=best['min_split_gain'],\n",
        "    cat_feature=cat_feature_indexes,\n",
        "    missing=np.nan\n",
        ")\n",
        "\n",
        "final_clf.fit(X_train, train_targets, eval_set=[(X_val, val_targets)])\n",
        "final_pred = final_clf.predict(X_val)\n",
        "final_pred_proba = final_clf.predict_proba(X_val)[:, 1]\n",
        "final_AUROC = roc_auc_score(val_targets, final_pred_proba)\n",
        "\n",
        "# print(\"Точність на валідаційній вибірці: {:.5f}\".format(final_AUROC), end = '\\n')\n",
        "\n",
        "print(classification_report(val_targets, final_pred, digits=5),  end = '\\n')\n",
        "\n",
        "print(\"Точність на валідаційній вибірці: {:.5f}\".format(final_AUROC), end = '\\n')"
      ],
      "metadata": {
        "id": "cfMQKA4D47Rq",
        "colab": {
          "base_uri": "https://localhost:8080/"
        },
        "outputId": "feae1b76-83ef-46e0-8aec-d2364eda9c8c"
      },
      "execution_count": 42,
      "outputs": [
        {
          "output_type": "stream",
          "name": "stdout",
          "text": [
            "100%|██████████| 10/10 [00:05<00:00,  1.73trial/s, best loss: -0.9362418547225462]\n",
            "Найкращі гіперпараметри:  {'colsample_bytree': np.float64(0.7737048841534889), 'learning_rate': np.float64(0.08420440911431885), 'max_depth': 3, 'min_child_weight': 10, 'min_split_gain': np.float64(0.07508505597049454), 'n_estimators': 350, 'num_leaves': 130, 'reg_alpha': np.float64(0.02405216299320223), 'reg_lambda': np.float64(0.7247471927450458), 'subsample': np.float64(0.9996442225434016)}\n",
            "              precision    recall  f1-score   support\n",
            "\n",
            "         0.0    0.92336   0.95774   0.94023      2390\n",
            "         1.0    0.80614   0.68852   0.74271       610\n",
            "\n",
            "    accuracy                        0.90300      3000\n",
            "   macro avg    0.86475   0.82313   0.84147      3000\n",
            "weighted avg    0.89952   0.90300   0.90007      3000\n",
            "\n",
            "Точність на валідаційній вибірці: 0.93624\n"
          ]
        }
      ]
    },
    {
      "cell_type": "markdown",
      "source": [
        "6. Оберіть модель з експериментів в цьому ДЗ і зробіть новий `submission` на Kaggle та додайте код для цього і скріншот скора на публічному лідерборді.\n",
        "  \n",
        "  **Напишіть коментар, чому ви обрали саме цю модель?**\n",
        "\n",
        "  І я вас вітаю - це останнє завдання з цим набором даних 💪 На цьому етапі корисно проаналізувати, які моделі показали себе найкраще і подумати, чому."
      ],
      "metadata": {
        "id": "XArADR2CG8VK"
      }
    },
    {
      "cell_type": "code",
      "source": [
        "X_test_predict = final_clf.predict_proba(X_test)\n",
        "df_sample = pd.read_csv('/content/sample_submission.csv')\n",
        "df_sample['Exited'] = X_test_predict[:, 1]\n",
        "df_sample.to_csv('/content/submission_LightGBM.csv', index=False)"
      ],
      "metadata": {
        "id": "COIjJH9f5SSp"
      },
      "execution_count": 43,
      "outputs": []
    },
    {
      "cell_type": "markdown",
      "source": [
        "![image.png](data:image/png;base64,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)"
      ],
      "metadata": {
        "id": "jIDe3H22_b6O"
      }
    },
    {
      "cell_type": "markdown",
      "source": [
        "![image.png](data:image/png;base64,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)"
      ],
      "metadata": {
        "id": "h_DoGhuO_pu0"
      }
    }
  ]
}